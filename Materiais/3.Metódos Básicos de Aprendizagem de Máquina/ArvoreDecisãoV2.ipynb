{
  "nbformat": 4,
  "nbformat_minor": 0,
  "metadata": {
    "kernelspec": {
      "display_name": "Python 3",
      "language": "python",
      "name": "python3"
    },
    "language_info": {
      "codemirror_mode": {
        "name": "ipython",
        "version": 3
      },
      "file_extension": ".py",
      "mimetype": "text/x-python",
      "name": "python",
      "nbconvert_exporter": "python",
      "pygments_lexer": "ipython3",
      "version": "3.6.5"
    },
    "colab": {
      "provenance": [],
      "collapsed_sections": [
        "6WODG65Ihw0-"
      ]
    }
  },
  "cells": [
    {
      "cell_type": "markdown",
      "metadata": {
        "id": "ETsw7QySgQDF"
      },
      "source": [
        "<figure>\n",
        "<center>\n",
        "<img src=\"https://images.fineartamerica.com/images/artworkimages/mediumlarge/2/inverted-tree-2015b-cathy-lindsey.jpg\" width='500px'/>\n",
        "</figure>\n",
        "\n",
        "\n"
      ]
    },
    {
      "cell_type": "markdown",
      "metadata": {
        "id": "s2lYWTPAhw08"
      },
      "source": [
        "## Árvores de Decisão - AD\n",
        "\n",
        "\n",
        "\n",
        "\n"
      ]
    },
    {
      "cell_type": "markdown",
      "metadata": {
        "id": "uzs9FpWnTCl4"
      },
      "source": [
        "Árvores de decisão são classificadores supervisionados que operam sobre dados categóricos e contínuos. O modelo inclui uma estrutura com nodos e folhas. Cada nodo está atrelado a uma decisão.\n",
        "\n",
        "\n",
        "Árvores de decisão são ótimos classificadores devido a sua estabilidade e precisão, além de serem fáceis de interpretar.\n"
      ]
    },
    {
      "cell_type": "markdown",
      "metadata": {
        "id": "jtyu4PL4hw09"
      },
      "source": [
        "Por exemplo, se queremos construir uma árvore de decisão para identificar se irei à praia, observe o exemplo abaixo:\n",
        "\n",
        "<figure>\n",
        "<center>\n",
        "<img src=\"https://didatica.tech/wp-content/uploads/2020/07/image-3.png\" width='600px'/>\n",
        "</figure>\n",
        "\n",
        "\n",
        "Cada nó representa um aspecto. A cada nível da árvore um número substancial de possibilidade é cortado, aproximadamente metade. Isso acelera a identificação da classe.\n",
        "\n",
        "O desafio está em identificar qual atributo será utilizado em cada nó, como critério. Por exemplo, porque não utilizar a *Humidade* e o *Vento* no primeiro nível?\n",
        "\n",
        "\n",
        "\n",
        "\n"
      ]
    },
    {
      "cell_type": "markdown",
      "metadata": {
        "id": "zdBEwedYzy06"
      },
      "source": [
        "##Como funciona a construção da AD\n",
        "\n",
        "\n",
        "\n",
        "\n",
        "\n",
        "\n"
      ]
    },
    {
      "cell_type": "markdown",
      "metadata": {
        "id": "v8j42G85THVe"
      },
      "source": [
        "\n",
        "A ideia básica na construção de uma árvore de decisão  é a seguir:\n",
        "\n",
        "\n",
        "\n",
        "1.   Selecione o melhor atributo (por exemplo, usando a entropia) para dividir os registros em subconjuntos;\n",
        "2.   Use o atributo previamente selecionado para compor a árvore;\n",
        "3.   Faça o processo 1 e 2 recursivamente até que uma das condições a seguir sejam alcançadam:\n",
        "     - todas os registros no nó atual correspondem a mesma classe\n",
        "     - Não restou atributos\n",
        "     - Não tem mais instâncias"
      ]
    },
    {
      "cell_type": "markdown",
      "metadata": {
        "id": "_mE6xAlTTTYT"
      },
      "source": [
        "##Entropia\n"
      ]
    },
    {
      "cell_type": "markdown",
      "metadata": {
        "id": "5giQg5jA78mx"
      },
      "source": [
        "\n",
        "\n",
        "Calcula a **impureza** de um conjunto de dados. Na física, entropia representa a impureza de um sistema. Um conjunto com alta entropia representa uma alta impureza (muitas classes); já um conjunto com baixa entropia representa um alto grau de pureza.\n",
        "\n",
        "A entropia pode ser definida conforme **equação**:\n",
        "\n",
        "\n",
        "\n",
        "$            \\text{E(s)} = \\sum_i -p_i*(log_2  p_i)$\n",
        "\n",
        "\n",
        "Onde Pi representa a probabilidade da frenquência de um elemento i."
      ]
    },
    {
      "cell_type": "markdown",
      "metadata": {
        "id": "NDbNWdLUBLkm"
      },
      "source": [
        "A figura a seguir ilustra o valor da entropia de acordo com a pureza do conjunto. Se o conjunto contiver somente 1 classe, então terá uma entropia igual à zero. Caso o conjunto seja `sujo`, então terá uma entropia de 1.0\n",
        "\n",
        "![](https://miro.medium.com/max/750/1*M15RZMSk8nGEyOnD8haF-A.png)\n",
        "\n",
        "From: https://miro.medium.com/\n"
      ]
    },
    {
      "cell_type": "markdown",
      "metadata": {
        "id": "B9GnpxRPm_kf"
      },
      "source": [
        "Por exemplo, em um dataset binário (de 2 classes), se tivermos 1000 registros no dataset. Sendo que 700 são positivos e 300 são negativos, então:\n",
        "```\n",
        "Pi+=700/1000\n",
        "Pi-=300/1000\n",
        "E=-(( 700/1000 log (700/1000)) + (300/1000*log(300/1000))\n",
        "```\n",
        "\n",
        "\n",
        "\n",
        "\n",
        "\n",
        "\n",
        "\n",
        "\n"
      ]
    },
    {
      "cell_type": "code",
      "metadata": {
        "id": "XFiLNeAdATv-",
        "colab": {
          "base_uri": "https://localhost:8080/"
        },
        "outputId": "993c38ed-8dd6-4048-d76d-b794ed532814"
      },
      "source": [
        "#code\n",
        "import math as m\n",
        "E=-((( 5/10 *m.log (5/10,2))) +(5/10*m.log(5/10,2)))\n",
        "E"
      ],
      "execution_count": null,
      "outputs": [
        {
          "output_type": "execute_result",
          "data": {
            "text/plain": [
              "1.0"
            ]
          },
          "metadata": {},
          "execution_count": 53
        }
      ]
    },
    {
      "cell_type": "markdown",
      "metadata": {
        "id": "0PmoQVw4FFAm"
      },
      "source": [
        "Outro exemplo:"
      ]
    },
    {
      "cell_type": "code",
      "metadata": {
        "id": "Obu652MIAiTH",
        "colab": {
          "base_uri": "https://localhost:8080/"
        },
        "outputId": "cb0a339b-8895-420c-da62-799b12cf607f"
      },
      "source": [
        "E=-(( 10/10 *m.log (10/10,2)) + (0))\n",
        "E"
      ],
      "execution_count": null,
      "outputs": [
        {
          "output_type": "execute_result",
          "data": {
            "text/plain": [
              "-0.0"
            ]
          },
          "metadata": {},
          "execution_count": 3
        }
      ]
    },
    {
      "cell_type": "markdown",
      "metadata": {
        "id": "PGBoWxw4TcRx"
      },
      "source": [
        "#Ganho de informação"
      ]
    },
    {
      "cell_type": "markdown",
      "metadata": {
        "id": "IOXWCtUyBQWJ"
      },
      "source": [
        "\n",
        "A entropia mede a sujeira de um conjunto mas como **quantizamos** que um atributo é mais importante que o outro? Temos que calcular o ganho de informação (information gain) ao se realizar uma divisão. Ou seja, adicionar um novo nível na árvore.\n",
        "\n",
        "\n",
        "$$\n",
        "Gain = E\\_anterior - E\\_split\n",
        "$$\n",
        "\n",
        "O ganho de informação mede o quanto de ganho teremos em fazer o split no nó em específico.\n",
        "\n",
        "$$\n",
        "IG(S, A) = Entropia\\_anterior(S) - \\sum_{v \\in Valores(A)} \\frac{|S_v|}{|S|} \\cdot Entropia(S_v)\n",
        "$$\n",
        "\n",
        "Onde:\n",
        "- \\( S \\) é o conjunto de dados original.\n",
        "- \\( A \\) é o atributo para o qual calculamos a IG.\n",
        "- \\( S_v \\) é o subconjunto de \\( S \\) onde o atributo \\( A \\) tem valor \\( v \\).\n",
        "- \\( |S| \\) é o número total de exemplos em \\( S \\).\n",
        "- \\( Entropia(S) \\) é a entropia do conjunto \\( S \\)."
      ]
    },
    {
      "cell_type": "markdown",
      "metadata": {
        "id": "1ZIul-_EDueL"
      },
      "source": [
        "###Aplicando o ganho de informação nas AD\n",
        "\n",
        "Considere um dataset com 10 pontos sendo 5 de cada classe:\n",
        "\n",
        "\n",
        "\n",
        "\n",
        "\n",
        "\n"
      ]
    },
    {
      "cell_type": "code",
      "metadata": {
        "id": "iLG6oDKyDyxS",
        "colab": {
          "base_uri": "https://localhost:8080/"
        },
        "outputId": "f4647e42-27d9-4dd9-92d4-3139c6b1c48b"
      },
      "source": [
        "\n",
        "E_total=-(( 5/10 *m.log (5/10,2)) + (5/10*m.log(5/10,2)))\n",
        "\n",
        "print(E_total)"
      ],
      "execution_count": null,
      "outputs": [
        {
          "output_type": "stream",
          "name": "stdout",
          "text": [
            "1.0\n"
          ]
        }
      ]
    },
    {
      "cell_type": "markdown",
      "metadata": {
        "id": "WaY9vWfADzOf"
      },
      "source": [
        "1- Vamos calculcar ganho de informação utilizando o atributo hipotético A, conforme abaixo:\n",
        "\n",
        "\n",
        "\n",
        "\n",
        "\n",
        "\n",
        "\n"
      ]
    },
    {
      "cell_type": "markdown",
      "metadata": {
        "id": "RS7yTvAxEFVr"
      },
      "source": [
        "O RAMO da esquerda contém 4 pontos (todos positivos)- conjunto puro!\n",
        "\n",
        "\n",
        "\n"
      ]
    },
    {
      "cell_type": "code",
      "metadata": {
        "id": "8mTbbLg7EJxz",
        "colab": {
          "base_uri": "https://localhost:8080/"
        },
        "outputId": "63dcef59-7521-404a-8ba8-a831302b0a1f"
      },
      "source": [
        "E_esq=-((4/4 *m.log (4/4,2))) + 0 #(0*m.log(0,2)))\n",
        "E_esq"
      ],
      "execution_count": null,
      "outputs": [
        {
          "output_type": "execute_result",
          "data": {
            "text/plain": [
              "0.0"
            ]
          },
          "metadata": {},
          "execution_count": 5
        }
      ]
    },
    {
      "cell_type": "markdown",
      "metadata": {
        "id": "dlWNuYy1EIoc"
      },
      "source": [
        "O RAMO da direita contém 6 pontos ( 5 negativos e 1 positivo)\n",
        "\n",
        "\n",
        "\n"
      ]
    },
    {
      "cell_type": "code",
      "metadata": {
        "id": "5V3g_ZilENvV",
        "colab": {
          "base_uri": "https://localhost:8080/"
        },
        "outputId": "cc01cbca-856e-446c-825d-779e98c096d9"
      },
      "source": [
        "E_dir=-(( 5/6 *m.log (5/6,2)) + (1/6*m.log(1/6,2)))\n",
        "\n",
        "E_dir"
      ],
      "execution_count": null,
      "outputs": [
        {
          "output_type": "execute_result",
          "data": {
            "text/plain": [
              "0.6500224216483541"
            ]
          },
          "metadata": {},
          "execution_count": 6
        }
      ]
    },
    {
      "cell_type": "markdown",
      "metadata": {
        "id": "a3qRJQxadusq"
      },
      "source": [
        "Após, calculamos os pesos a partir do número de elementos de cada lado da árvore:"
      ]
    },
    {
      "cell_type": "code",
      "metadata": {
        "id": "cKB2dipZDZKf",
        "colab": {
          "base_uri": "https://localhost:8080/"
        },
        "outputId": "3f4feafd-4165-42b8-adfa-ca09368004bb"
      },
      "source": [
        "E_final=0.4*E_esq+0.6*E_dir\n",
        "E_final"
      ],
      "execution_count": null,
      "outputs": [
        {
          "output_type": "execute_result",
          "data": {
            "text/plain": [
              "0.39001345298901247"
            ]
          },
          "metadata": {},
          "execution_count": 7
        }
      ]
    },
    {
      "cell_type": "markdown",
      "metadata": {
        "id": "cR-rRm6zFkkJ"
      },
      "source": [
        "O ganho de informação do **Atributo A** será de:"
      ]
    },
    {
      "cell_type": "code",
      "metadata": {
        "id": "GWXhXv2rpXOY",
        "colab": {
          "base_uri": "https://localhost:8080/"
        },
        "outputId": "178bd28f-459e-437b-e45a-55819f567a08"
      },
      "source": [
        "Gain=E_total-(E_final)\n",
        "Gain"
      ],
      "execution_count": null,
      "outputs": [
        {
          "output_type": "execute_result",
          "data": {
            "text/plain": [
              "0.6099865470109875"
            ]
          },
          "metadata": {},
          "execution_count": 8
        }
      ]
    },
    {
      "cell_type": "markdown",
      "metadata": {
        "id": "6PVIC3amd36p"
      },
      "source": [
        "2-  Agora o **Atributo B** gerou uma divisão na qual 3 elementos estão lado esquerdo da árvore e os demais (7 atributos) do lado direito. Vamos calcular a entropia para medir o ganho de informação.\n",
        "\n",
        "\n",
        "\n",
        "O RAMO da esquerda contém 3 pontos (todos positivos)- conjunto puro!"
      ]
    },
    {
      "cell_type": "code",
      "metadata": {
        "id": "u4LLSi7seGvB",
        "colab": {
          "base_uri": "https://localhost:8080/"
        },
        "outputId": "2773e80d-1901-4895-8177-fdc0036ce79f"
      },
      "source": [
        "E_esq=-((3/3 *m.log (3/3,2))) + 0 #(0*m.log(0,2)))\n",
        "E_esq"
      ],
      "execution_count": null,
      "outputs": [
        {
          "output_type": "execute_result",
          "data": {
            "text/plain": [
              "0.0"
            ]
          },
          "metadata": {},
          "execution_count": 9
        }
      ]
    },
    {
      "cell_type": "markdown",
      "metadata": {
        "id": "G9okwueTeRL-"
      },
      "source": [
        "O RAMO da direita contém 7 pontos ( 5 negativos e 2 positivos)\n"
      ]
    },
    {
      "cell_type": "code",
      "metadata": {
        "id": "Lhhtn3adeHbb",
        "colab": {
          "base_uri": "https://localhost:8080/"
        },
        "outputId": "12661087-2b83-432e-b439-729bed66c659"
      },
      "source": [
        "E_dir=-(( 5/7 *m.log (5/7,2)) + (2/7*m.log(2/7,2)))\n",
        "\n",
        "E_dir"
      ],
      "execution_count": null,
      "outputs": [
        {
          "output_type": "execute_result",
          "data": {
            "text/plain": [
              "0.863120568566631"
            ]
          },
          "metadata": {},
          "execution_count": 10
        }
      ]
    },
    {
      "cell_type": "code",
      "metadata": {
        "id": "dz5C6R1BelX5",
        "colab": {
          "base_uri": "https://localhost:8080/"
        },
        "outputId": "09f9a121-4319-4db1-d3b0-7bf9453871b3"
      },
      "source": [
        "E_final=0.3*E_esq+0.7*E_dir\n",
        "E_final"
      ],
      "execution_count": null,
      "outputs": [
        {
          "output_type": "execute_result",
          "data": {
            "text/plain": [
              "0.6041843979966417"
            ]
          },
          "metadata": {},
          "execution_count": 11
        }
      ]
    },
    {
      "cell_type": "markdown",
      "metadata": {
        "id": "R3bVUfF2eqCK"
      },
      "source": [
        "Ganho de informação do **Atributo B** é de:"
      ]
    },
    {
      "cell_type": "code",
      "metadata": {
        "id": "Z8prHZ-QegH9",
        "colab": {
          "base_uri": "https://localhost:8080/"
        },
        "outputId": "86d29f86-9f1d-42af-b252-9b93bdeaa693"
      },
      "source": [
        "Gain=E_total-(E_final)\n",
        "Gain"
      ],
      "execution_count": null,
      "outputs": [
        {
          "output_type": "execute_result",
          "data": {
            "text/plain": [
              "0.3958156020033583"
            ]
          },
          "metadata": {},
          "execution_count": 12
        }
      ]
    },
    {
      "cell_type": "markdown",
      "metadata": {
        "id": "0DdYcQPHSzF_"
      },
      "source": [
        "Qual deles resulta em uma melhor divisão da árvore?"
      ]
    },
    {
      "cell_type": "markdown",
      "metadata": {
        "id": "mPdVc0GpCwTE"
      },
      "source": [
        "\n",
        "#Exemplo prático 1\n"
      ]
    },
    {
      "cell_type": "markdown",
      "metadata": {
        "id": "_1x2gEnJCydb"
      },
      "source": [
        "Considere a tabela abaixo, qual o melhor atributo raiz para construir a AD?"
      ]
    },
    {
      "cell_type": "markdown",
      "metadata": {
        "id": "4OckK_Pmle-Z"
      },
      "source": [
        "|           | Idade | Febre | Tosse | Cansaço | Positivo Covid?       |\n",
        "|-----------|-------|-------|-------|---------|-----------------------|\n",
        "| Guilherme | 38    | 1     | 1     | 1       | 1                     |\n",
        "| Joao      | 20    | 1     | 1     | 0       | 1                     |\n",
        "| Maria     | 34    | 0     | 1     | 1       | 1                     |\n",
        "| Jose      | 21    | 0     | 0     | 1       | 0                     |\n",
        "| Pedro     | 64    | 1     | 0     | 1       | 1                     |\n",
        "| Jovenei   | 42    | 0     | 1     | 1       | 0                     |\n",
        "| Antônio   | 67    | 1     | 0     | 0       | 1                     |\n",
        "| Madalena  | 32    | 1     | 1     | 1       | 1                     |\n",
        "| Ana       | 45    | 1     | 1     | 0       | 0                     |\n",
        "| Cristina  | 21    | 0     | 0     | 0       | 0                     |"
      ]
    },
    {
      "cell_type": "code",
      "metadata": {
        "id": "z_BeGiu4ledr",
        "colab": {
          "base_uri": "https://localhost:8080/"
        },
        "outputId": "0bcf03bb-fa30-4cb9-a9fe-492ca8bf7b55"
      },
      "source": [
        "#Cálculo da entropia geral\n",
        "E_total=-((6/10*m.log(6/10,2))+(4/10*m.log(4/10,2)))\n",
        "E_total"
      ],
      "execution_count": null,
      "outputs": [
        {
          "output_type": "execute_result",
          "data": {
            "text/plain": [
              "0.9709505944546686"
            ]
          },
          "metadata": {},
          "execution_count": 13
        }
      ]
    },
    {
      "cell_type": "markdown",
      "metadata": {
        "id": "_roFkWV6mJXH"
      },
      "source": [
        "Qual o ganho se fizermos  o split sobre o atributo `febre`\"?\n",
        "\n",
        "-Split direita (`febre` ==1):\n",
        "\n",
        "   \n",
        "\n",
        "|           | Idade | febre | tosse | cansaço | Possível contaminado? |\n",
        "|-----------|-------|-------|-------|---------|-----------------------|\n",
        "| Guilherme | 38    | 1     | 1     | 1       | 1                     |\n",
        "| Joao      | 20    | 1     | 1     | 0       | 1                     |\n",
        "| Pedro     | 64    | 1     | 0     | 1       | 1                     |\n",
        "| Antônio   | 67    | 1     | 0     | 0       | 1                     |\n",
        "| Madalena  | 32    | 1     | 1     | 1       | 1                     |\n",
        "| Ana       | 45    | 1     | 1     | 0       | 0                     |\n",
        "\n",
        "    P=5\n",
        "    N=1\n",
        "\n",
        "Split esquerda(`febre`=0):\n",
        "    \n",
        "|           | Idade | febre | tosse | cansaço | Possível contaminado? |\n",
        "|-----------|-------|-------|-------|---------|-----------------------|\n",
        "| Maria     | 34    | 0     | 1     | 1       | 1                     |\n",
        "| Jose      | 21    | 0     | 0     | 1       | 0                     |\n",
        "| Jovenei   | 42    | 0     | 1     | 1       | 0                     |\n",
        "| Cristina  | 21    | 0     | 0     | 0       | 0                     |\n",
        "\n",
        "\n",
        "    \n",
        "    P=1\n",
        "    N=3\n",
        "\n"
      ]
    },
    {
      "cell_type": "code",
      "metadata": {
        "id": "KwOFouf2Ez5G",
        "colab": {
          "base_uri": "https://localhost:8080/"
        },
        "outputId": "9dea2406-a69d-4976-f86b-493798cb2854"
      },
      "source": [
        "Split_direita=-((5/6*m.log(5/6,2))+(1/6*m.log(1/6,2)))\n",
        "Split_direita"
      ],
      "execution_count": null,
      "outputs": [
        {
          "output_type": "execute_result",
          "data": {
            "text/plain": [
              "0.6500224216483541"
            ]
          },
          "metadata": {},
          "execution_count": 14
        }
      ]
    },
    {
      "cell_type": "code",
      "metadata": {
        "id": "d6dL58sOFDPH",
        "colab": {
          "base_uri": "https://localhost:8080/"
        },
        "outputId": "beb3d27e-3fc7-491e-d5e5-a4876bb22916"
      },
      "source": [
        "Split_esquerda=-((3/4*m.log(3/4,2))+(1/4*m.log(1/4,2)))\n",
        "Split_esquerda"
      ],
      "execution_count": null,
      "outputs": [
        {
          "output_type": "execute_result",
          "data": {
            "text/plain": [
              "0.8112781244591328"
            ]
          },
          "metadata": {},
          "execution_count": 15
        }
      ]
    },
    {
      "cell_type": "code",
      "metadata": {
        "id": "hwBPFL1sVNfF",
        "colab": {
          "base_uri": "https://localhost:8080/"
        },
        "outputId": "912bfac4-bc42-45ff-94fa-0e27362aa912"
      },
      "source": [
        "Entropia=6/10*Split_direita +4/10* Split_esquerda\n",
        "Entropia"
      ],
      "execution_count": null,
      "outputs": [
        {
          "output_type": "execute_result",
          "data": {
            "text/plain": [
              "0.7145247027726656"
            ]
          },
          "metadata": {},
          "execution_count": 16
        }
      ]
    },
    {
      "cell_type": "code",
      "metadata": {
        "id": "cb5gccl7VWph",
        "colab": {
          "base_uri": "https://localhost:8080/"
        },
        "outputId": "22b5f0e9-d0a2-421a-a27f-b03dc8cd1af5"
      },
      "source": [
        "#ganho de informação\n",
        "\n",
        "Gain=E_total- (Entropia)\n",
        "print(f\"O ganho de informação para o atributo febre é de: {Gain} \")"
      ],
      "execution_count": null,
      "outputs": [
        {
          "output_type": "stream",
          "name": "stdout",
          "text": [
            "O ganho de informação para o atributo febre é de: 0.256425891682003 \n"
          ]
        }
      ]
    },
    {
      "cell_type": "markdown",
      "metadata": {
        "id": "eHrfP1hREutZ"
      },
      "source": [
        "\n",
        "\n",
        "\n",
        "Qual o ganho se fizermos o split sobre o atributo `cansaço`?\n",
        "Split direita (`cansaço`=1):\n",
        "\n",
        "|           | Idade | febre | tosse | cansaço | Possível contaminado? |\n",
        "|-----------|-------|-------|-------|---------|-----------------------|\n",
        "| Guilherme | 38    | 1     | 1     | 1       | 1                     |\n",
        "| Maria     | 34    | 0     | 1     | 1       | 1                     |\n",
        "| Jose      | 21    | 0     | 0     | 1       | 0                     |\n",
        "| Pedro     | 64    | 1     | 0     | 1       | 1                     |\n",
        "| Jovenei   | 42    | 0     | 1     | 1       | 0                     |\n",
        "| Madalena  | 32    | 1     | 1     | 1       | 1                     |\n",
        "\n",
        "\n",
        "    P=4\n",
        "    N=2\n",
        "Split esquerda(`cansaço`=0):\n",
        "\n",
        "|           | Idade | febre | tosse | cansaço | Possível contaminado? |\n",
        "|-----------|-------|-------|-------|---------|-----------------------|\n",
        "| Joao      | 20    | 1     | 1     | 0       | 1                     |\n",
        "| Antônio   | 67    | 1     | 0     | 0       | 1                     |\n",
        "| Ana       | 45    | 1     | 1     | 0       | 0                     |\n",
        "| Cristina  | 21    | 0     | 0     | 0       | 0                     |\n",
        "\n",
        "\n",
        "    P=2\n",
        "    N=2\n",
        "\n",
        "\n"
      ]
    },
    {
      "cell_type": "code",
      "metadata": {
        "id": "9CEf_TXSar7W",
        "colab": {
          "base_uri": "https://localhost:8080/"
        },
        "outputId": "e5d1b1e2-7bf1-48cf-c2df-fd0f995a33a6"
      },
      "source": [
        "#calculo do split da direita\n",
        "Split_direita=-((4/6*m.log(4/6,2))+(2/6*m.log(2/6,2)))\n",
        "Split_direita\n"
      ],
      "execution_count": null,
      "outputs": [
        {
          "output_type": "execute_result",
          "data": {
            "text/plain": [
              "0.9182958340544896"
            ]
          },
          "metadata": {},
          "execution_count": 58
        }
      ]
    },
    {
      "cell_type": "code",
      "metadata": {
        "id": "Uaxycvg1a4eQ",
        "colab": {
          "base_uri": "https://localhost:8080/"
        },
        "outputId": "ea963834-369a-43cb-de3a-31596e02650a"
      },
      "source": [
        "#calculo do split da esquerda\n",
        "Split_esquerda=-((2/4*m.log(2/4,2))+(2/4*m.log(2/4,2)))\n",
        "Split_esquerda"
      ],
      "execution_count": null,
      "outputs": [
        {
          "output_type": "execute_result",
          "data": {
            "text/plain": [
              "1.0"
            ]
          },
          "metadata": {},
          "execution_count": 59
        }
      ]
    },
    {
      "cell_type": "code",
      "source": [
        "Entropia=6/10*Split_direita +4/10* Split_esquerda\n",
        "Entropia"
      ],
      "metadata": {
        "colab": {
          "base_uri": "https://localhost:8080/"
        },
        "id": "03CLsYbh3UGX",
        "outputId": "4bf4af74-2eb3-4fc6-c3cb-d119c987b3a7"
      },
      "execution_count": null,
      "outputs": [
        {
          "output_type": "execute_result",
          "data": {
            "text/plain": [
              "0.9509775004326937"
            ]
          },
          "metadata": {},
          "execution_count": 60
        }
      ]
    },
    {
      "cell_type": "code",
      "metadata": {
        "id": "SYJ0Y0GXmIXt",
        "colab": {
          "base_uri": "https://localhost:8080/"
        },
        "outputId": "8b70a145-30cf-4ffe-ccb4-2d4592c63e37"
      },
      "source": [
        "#Calculo do ganho de informação, lembrando de calcular o peso\n",
        "Gain=E_total- (Entropia)\n",
        "Gain\n"
      ],
      "execution_count": null,
      "outputs": [
        {
          "output_type": "execute_result",
          "data": {
            "text/plain": [
              "0.01997309402197489"
            ]
          },
          "metadata": {},
          "execution_count": 61
        }
      ]
    },
    {
      "cell_type": "markdown",
      "metadata": {
        "id": "ELKq7W_-MttB"
      },
      "source": [
        "#Gini\n",
        "\n",
        "A impureza  de Gini computa a probabilidade de classificação incorreta de um registro no dataset se for randomicamente rotulado de acordo com a distribuição de classes.\n",
        "\n",
        "$$\n",
        "Gini(S) = 1 - \\sum_{i=1}^{n} p_i^2\n",
        "$$\n",
        "\n",
        "Onde:\n",
        "- \\( p_i \\) é a proporção de exemplos da classe \\( i \\) no conjunto \\( S \\).\n",
        "- \\( n \\) é o número total de classes possíveis.\n",
        "​"
      ]
    },
    {
      "cell_type": "markdown",
      "metadata": {
        "id": "1OshAI11iIMh"
      },
      "source": [
        "\n",
        "#Código de exemplo"
      ]
    },
    {
      "cell_type": "code",
      "metadata": {
        "id": "FIBz2TDwH5jG",
        "cellView": "form"
      },
      "source": [
        "#@title Load Libraries\n",
        "import pandas as pd\n",
        "import pydotplus\n",
        "from sklearn.tree import export_graphviz\n",
        "from sklearn.tree import DecisionTreeClassifier\n",
        "import numpy as np\n",
        "from sklearn.preprocessing import LabelEncoder\n",
        "import warnings\n",
        "warnings.filterwarnings(\"ignore\")\n",
        "\n",
        "def tree_graph_to_png(tree, feature_names, png_file_to_save):\n",
        "    tree_str = export_graphviz(tree, feature_names=feature_names,\n",
        "                                     filled=True, out_file=None)\n",
        "    graph = pydotplus.graph_from_dot_data(tree_str)\n",
        "    graph.write_png(png_file_to_save)"
      ],
      "execution_count": null,
      "outputs": []
    },
    {
      "cell_type": "code",
      "metadata": {
        "colab": {
          "base_uri": "https://localhost:8080/",
          "height": 300
        },
        "id": "3rWFb8YPH74S",
        "outputId": "09296515-8826-434c-f8f2-f1b9d643b176"
      },
      "source": [
        "#que fruta é essa essa?\n",
        "#Features = [\"Color\", \"diameter\", \"Label\"]\n",
        "data = pd.DataFrame({'cor': ['amarela','verde','amarela','verde','amarela','verde','verde','verde'],\n",
        "    'diametro': [5,3,1,4,1,2,2,1],\n",
        "             'label': ['laranja','limao','laranja','limao','bergamota','limao','limao','bergamota']})\n",
        "data =data.sort_values('label')\n",
        "data"
      ],
      "execution_count": null,
      "outputs": [
        {
          "output_type": "execute_result",
          "data": {
            "text/plain": [
              "       cor  diametro      label\n",
              "4  amarela         1  bergamota\n",
              "7    verde         1  bergamota\n",
              "0  amarela         5    laranja\n",
              "2  amarela         1    laranja\n",
              "1    verde         3      limao\n",
              "3    verde         4      limao\n",
              "5    verde         2      limao\n",
              "6    verde         2      limao"
            ],
            "text/html": [
              "\n",
              "  <div id=\"df-a436bf98-dfa5-477e-ac6f-81df76b1b769\" class=\"colab-df-container\">\n",
              "    <div>\n",
              "<style scoped>\n",
              "    .dataframe tbody tr th:only-of-type {\n",
              "        vertical-align: middle;\n",
              "    }\n",
              "\n",
              "    .dataframe tbody tr th {\n",
              "        vertical-align: top;\n",
              "    }\n",
              "\n",
              "    .dataframe thead th {\n",
              "        text-align: right;\n",
              "    }\n",
              "</style>\n",
              "<table border=\"1\" class=\"dataframe\">\n",
              "  <thead>\n",
              "    <tr style=\"text-align: right;\">\n",
              "      <th></th>\n",
              "      <th>cor</th>\n",
              "      <th>diametro</th>\n",
              "      <th>label</th>\n",
              "    </tr>\n",
              "  </thead>\n",
              "  <tbody>\n",
              "    <tr>\n",
              "      <th>4</th>\n",
              "      <td>amarela</td>\n",
              "      <td>1</td>\n",
              "      <td>bergamota</td>\n",
              "    </tr>\n",
              "    <tr>\n",
              "      <th>7</th>\n",
              "      <td>verde</td>\n",
              "      <td>1</td>\n",
              "      <td>bergamota</td>\n",
              "    </tr>\n",
              "    <tr>\n",
              "      <th>0</th>\n",
              "      <td>amarela</td>\n",
              "      <td>5</td>\n",
              "      <td>laranja</td>\n",
              "    </tr>\n",
              "    <tr>\n",
              "      <th>2</th>\n",
              "      <td>amarela</td>\n",
              "      <td>1</td>\n",
              "      <td>laranja</td>\n",
              "    </tr>\n",
              "    <tr>\n",
              "      <th>1</th>\n",
              "      <td>verde</td>\n",
              "      <td>3</td>\n",
              "      <td>limao</td>\n",
              "    </tr>\n",
              "    <tr>\n",
              "      <th>3</th>\n",
              "      <td>verde</td>\n",
              "      <td>4</td>\n",
              "      <td>limao</td>\n",
              "    </tr>\n",
              "    <tr>\n",
              "      <th>5</th>\n",
              "      <td>verde</td>\n",
              "      <td>2</td>\n",
              "      <td>limao</td>\n",
              "    </tr>\n",
              "    <tr>\n",
              "      <th>6</th>\n",
              "      <td>verde</td>\n",
              "      <td>2</td>\n",
              "      <td>limao</td>\n",
              "    </tr>\n",
              "  </tbody>\n",
              "</table>\n",
              "</div>\n",
              "    <div class=\"colab-df-buttons\">\n",
              "\n",
              "  <div class=\"colab-df-container\">\n",
              "    <button class=\"colab-df-convert\" onclick=\"convertToInteractive('df-a436bf98-dfa5-477e-ac6f-81df76b1b769')\"\n",
              "            title=\"Convert this dataframe to an interactive table.\"\n",
              "            style=\"display:none;\">\n",
              "\n",
              "  <svg xmlns=\"http://www.w3.org/2000/svg\" height=\"24px\" viewBox=\"0 -960 960 960\">\n",
              "    <path d=\"M120-120v-720h720v720H120Zm60-500h600v-160H180v160Zm220 220h160v-160H400v160Zm0 220h160v-160H400v160ZM180-400h160v-160H180v160Zm440 0h160v-160H620v160ZM180-180h160v-160H180v160Zm440 0h160v-160H620v160Z\"/>\n",
              "  </svg>\n",
              "    </button>\n",
              "\n",
              "  <style>\n",
              "    .colab-df-container {\n",
              "      display:flex;\n",
              "      gap: 12px;\n",
              "    }\n",
              "\n",
              "    .colab-df-convert {\n",
              "      background-color: #E8F0FE;\n",
              "      border: none;\n",
              "      border-radius: 50%;\n",
              "      cursor: pointer;\n",
              "      display: none;\n",
              "      fill: #1967D2;\n",
              "      height: 32px;\n",
              "      padding: 0 0 0 0;\n",
              "      width: 32px;\n",
              "    }\n",
              "\n",
              "    .colab-df-convert:hover {\n",
              "      background-color: #E2EBFA;\n",
              "      box-shadow: 0px 1px 2px rgba(60, 64, 67, 0.3), 0px 1px 3px 1px rgba(60, 64, 67, 0.15);\n",
              "      fill: #174EA6;\n",
              "    }\n",
              "\n",
              "    .colab-df-buttons div {\n",
              "      margin-bottom: 4px;\n",
              "    }\n",
              "\n",
              "    [theme=dark] .colab-df-convert {\n",
              "      background-color: #3B4455;\n",
              "      fill: #D2E3FC;\n",
              "    }\n",
              "\n",
              "    [theme=dark] .colab-df-convert:hover {\n",
              "      background-color: #434B5C;\n",
              "      box-shadow: 0px 1px 3px 1px rgba(0, 0, 0, 0.15);\n",
              "      filter: drop-shadow(0px 1px 2px rgba(0, 0, 0, 0.3));\n",
              "      fill: #FFFFFF;\n",
              "    }\n",
              "  </style>\n",
              "\n",
              "    <script>\n",
              "      const buttonEl =\n",
              "        document.querySelector('#df-a436bf98-dfa5-477e-ac6f-81df76b1b769 button.colab-df-convert');\n",
              "      buttonEl.style.display =\n",
              "        google.colab.kernel.accessAllowed ? 'block' : 'none';\n",
              "\n",
              "      async function convertToInteractive(key) {\n",
              "        const element = document.querySelector('#df-a436bf98-dfa5-477e-ac6f-81df76b1b769');\n",
              "        const dataTable =\n",
              "          await google.colab.kernel.invokeFunction('convertToInteractive',\n",
              "                                                    [key], {});\n",
              "        if (!dataTable) return;\n",
              "\n",
              "        const docLinkHtml = 'Like what you see? Visit the ' +\n",
              "          '<a target=\"_blank\" href=https://colab.research.google.com/notebooks/data_table.ipynb>data table notebook</a>'\n",
              "          + ' to learn more about interactive tables.';\n",
              "        element.innerHTML = '';\n",
              "        dataTable['output_type'] = 'display_data';\n",
              "        await google.colab.output.renderOutput(dataTable, element);\n",
              "        const docLink = document.createElement('div');\n",
              "        docLink.innerHTML = docLinkHtml;\n",
              "        element.appendChild(docLink);\n",
              "      }\n",
              "    </script>\n",
              "  </div>\n",
              "\n",
              "\n",
              "<div id=\"df-c8b3f834-074c-4d61-b44c-461c7547d123\">\n",
              "  <button class=\"colab-df-quickchart\" onclick=\"quickchart('df-c8b3f834-074c-4d61-b44c-461c7547d123')\"\n",
              "            title=\"Suggest charts\"\n",
              "            style=\"display:none;\">\n",
              "\n",
              "<svg xmlns=\"http://www.w3.org/2000/svg\" height=\"24px\"viewBox=\"0 0 24 24\"\n",
              "     width=\"24px\">\n",
              "    <g>\n",
              "        <path d=\"M19 3H5c-1.1 0-2 .9-2 2v14c0 1.1.9 2 2 2h14c1.1 0 2-.9 2-2V5c0-1.1-.9-2-2-2zM9 17H7v-7h2v7zm4 0h-2V7h2v10zm4 0h-2v-4h2v4z\"/>\n",
              "    </g>\n",
              "</svg>\n",
              "  </button>\n",
              "\n",
              "<style>\n",
              "  .colab-df-quickchart {\n",
              "      --bg-color: #E8F0FE;\n",
              "      --fill-color: #1967D2;\n",
              "      --hover-bg-color: #E2EBFA;\n",
              "      --hover-fill-color: #174EA6;\n",
              "      --disabled-fill-color: #AAA;\n",
              "      --disabled-bg-color: #DDD;\n",
              "  }\n",
              "\n",
              "  [theme=dark] .colab-df-quickchart {\n",
              "      --bg-color: #3B4455;\n",
              "      --fill-color: #D2E3FC;\n",
              "      --hover-bg-color: #434B5C;\n",
              "      --hover-fill-color: #FFFFFF;\n",
              "      --disabled-bg-color: #3B4455;\n",
              "      --disabled-fill-color: #666;\n",
              "  }\n",
              "\n",
              "  .colab-df-quickchart {\n",
              "    background-color: var(--bg-color);\n",
              "    border: none;\n",
              "    border-radius: 50%;\n",
              "    cursor: pointer;\n",
              "    display: none;\n",
              "    fill: var(--fill-color);\n",
              "    height: 32px;\n",
              "    padding: 0;\n",
              "    width: 32px;\n",
              "  }\n",
              "\n",
              "  .colab-df-quickchart:hover {\n",
              "    background-color: var(--hover-bg-color);\n",
              "    box-shadow: 0 1px 2px rgba(60, 64, 67, 0.3), 0 1px 3px 1px rgba(60, 64, 67, 0.15);\n",
              "    fill: var(--button-hover-fill-color);\n",
              "  }\n",
              "\n",
              "  .colab-df-quickchart-complete:disabled,\n",
              "  .colab-df-quickchart-complete:disabled:hover {\n",
              "    background-color: var(--disabled-bg-color);\n",
              "    fill: var(--disabled-fill-color);\n",
              "    box-shadow: none;\n",
              "  }\n",
              "\n",
              "  .colab-df-spinner {\n",
              "    border: 2px solid var(--fill-color);\n",
              "    border-color: transparent;\n",
              "    border-bottom-color: var(--fill-color);\n",
              "    animation:\n",
              "      spin 1s steps(1) infinite;\n",
              "  }\n",
              "\n",
              "  @keyframes spin {\n",
              "    0% {\n",
              "      border-color: transparent;\n",
              "      border-bottom-color: var(--fill-color);\n",
              "      border-left-color: var(--fill-color);\n",
              "    }\n",
              "    20% {\n",
              "      border-color: transparent;\n",
              "      border-left-color: var(--fill-color);\n",
              "      border-top-color: var(--fill-color);\n",
              "    }\n",
              "    30% {\n",
              "      border-color: transparent;\n",
              "      border-left-color: var(--fill-color);\n",
              "      border-top-color: var(--fill-color);\n",
              "      border-right-color: var(--fill-color);\n",
              "    }\n",
              "    40% {\n",
              "      border-color: transparent;\n",
              "      border-right-color: var(--fill-color);\n",
              "      border-top-color: var(--fill-color);\n",
              "    }\n",
              "    60% {\n",
              "      border-color: transparent;\n",
              "      border-right-color: var(--fill-color);\n",
              "    }\n",
              "    80% {\n",
              "      border-color: transparent;\n",
              "      border-right-color: var(--fill-color);\n",
              "      border-bottom-color: var(--fill-color);\n",
              "    }\n",
              "    90% {\n",
              "      border-color: transparent;\n",
              "      border-bottom-color: var(--fill-color);\n",
              "    }\n",
              "  }\n",
              "</style>\n",
              "\n",
              "  <script>\n",
              "    async function quickchart(key) {\n",
              "      const quickchartButtonEl =\n",
              "        document.querySelector('#' + key + ' button');\n",
              "      quickchartButtonEl.disabled = true;  // To prevent multiple clicks.\n",
              "      quickchartButtonEl.classList.add('colab-df-spinner');\n",
              "      try {\n",
              "        const charts = await google.colab.kernel.invokeFunction(\n",
              "            'suggestCharts', [key], {});\n",
              "      } catch (error) {\n",
              "        console.error('Error during call to suggestCharts:', error);\n",
              "      }\n",
              "      quickchartButtonEl.classList.remove('colab-df-spinner');\n",
              "      quickchartButtonEl.classList.add('colab-df-quickchart-complete');\n",
              "    }\n",
              "    (() => {\n",
              "      let quickchartButtonEl =\n",
              "        document.querySelector('#df-c8b3f834-074c-4d61-b44c-461c7547d123 button');\n",
              "      quickchartButtonEl.style.display =\n",
              "        google.colab.kernel.accessAllowed ? 'block' : 'none';\n",
              "    })();\n",
              "  </script>\n",
              "</div>\n",
              "\n",
              "  <div id=\"id_c13608cb-6f4f-4f68-8e68-3a9165c57b67\">\n",
              "    <style>\n",
              "      .colab-df-generate {\n",
              "        background-color: #E8F0FE;\n",
              "        border: none;\n",
              "        border-radius: 50%;\n",
              "        cursor: pointer;\n",
              "        display: none;\n",
              "        fill: #1967D2;\n",
              "        height: 32px;\n",
              "        padding: 0 0 0 0;\n",
              "        width: 32px;\n",
              "      }\n",
              "\n",
              "      .colab-df-generate:hover {\n",
              "        background-color: #E2EBFA;\n",
              "        box-shadow: 0px 1px 2px rgba(60, 64, 67, 0.3), 0px 1px 3px 1px rgba(60, 64, 67, 0.15);\n",
              "        fill: #174EA6;\n",
              "      }\n",
              "\n",
              "      [theme=dark] .colab-df-generate {\n",
              "        background-color: #3B4455;\n",
              "        fill: #D2E3FC;\n",
              "      }\n",
              "\n",
              "      [theme=dark] .colab-df-generate:hover {\n",
              "        background-color: #434B5C;\n",
              "        box-shadow: 0px 1px 3px 1px rgba(0, 0, 0, 0.15);\n",
              "        filter: drop-shadow(0px 1px 2px rgba(0, 0, 0, 0.3));\n",
              "        fill: #FFFFFF;\n",
              "      }\n",
              "    </style>\n",
              "    <button class=\"colab-df-generate\" onclick=\"generateWithVariable('data')\"\n",
              "            title=\"Generate code using this dataframe.\"\n",
              "            style=\"display:none;\">\n",
              "\n",
              "  <svg xmlns=\"http://www.w3.org/2000/svg\" height=\"24px\"viewBox=\"0 0 24 24\"\n",
              "       width=\"24px\">\n",
              "    <path d=\"M7,19H8.4L18.45,9,17,7.55,7,17.6ZM5,21V16.75L18.45,3.32a2,2,0,0,1,2.83,0l1.4,1.43a1.91,1.91,0,0,1,.58,1.4,1.91,1.91,0,0,1-.58,1.4L9.25,21ZM18.45,9,17,7.55Zm-12,3A5.31,5.31,0,0,0,4.9,8.1,5.31,5.31,0,0,0,1,6.5,5.31,5.31,0,0,0,4.9,4.9,5.31,5.31,0,0,0,6.5,1,5.31,5.31,0,0,0,8.1,4.9,5.31,5.31,0,0,0,12,6.5,5.46,5.46,0,0,0,6.5,12Z\"/>\n",
              "  </svg>\n",
              "    </button>\n",
              "    <script>\n",
              "      (() => {\n",
              "      const buttonEl =\n",
              "        document.querySelector('#id_c13608cb-6f4f-4f68-8e68-3a9165c57b67 button.colab-df-generate');\n",
              "      buttonEl.style.display =\n",
              "        google.colab.kernel.accessAllowed ? 'block' : 'none';\n",
              "\n",
              "      buttonEl.onclick = () => {\n",
              "        google.colab.notebook.generateWithVariable('data');\n",
              "      }\n",
              "      })();\n",
              "    </script>\n",
              "  </div>\n",
              "\n",
              "    </div>\n",
              "  </div>\n"
            ],
            "application/vnd.google.colaboratory.intrinsic+json": {
              "type": "dataframe",
              "variable_name": "data",
              "summary": "{\n  \"name\": \"data\",\n  \"rows\": 8,\n  \"fields\": [\n    {\n      \"column\": \"cor\",\n      \"properties\": {\n        \"dtype\": \"category\",\n        \"num_unique_values\": 2,\n        \"samples\": [\n          \"verde\",\n          \"amarela\"\n        ],\n        \"semantic_type\": \"\",\n        \"description\": \"\"\n      }\n    },\n    {\n      \"column\": \"diametro\",\n      \"properties\": {\n        \"dtype\": \"number\",\n        \"std\": 1,\n        \"min\": 1,\n        \"max\": 5,\n        \"num_unique_values\": 5,\n        \"samples\": [\n          5,\n          2\n        ],\n        \"semantic_type\": \"\",\n        \"description\": \"\"\n      }\n    },\n    {\n      \"column\": \"label\",\n      \"properties\": {\n        \"dtype\": \"category\",\n        \"num_unique_values\": 3,\n        \"samples\": [\n          \"bergamota\",\n          \"laranja\"\n        ],\n        \"semantic_type\": \"\",\n        \"description\": \"\"\n      }\n    }\n  ]\n}"
            }
          },
          "metadata": {},
          "execution_count": 22
        }
      ]
    },
    {
      "cell_type": "code",
      "metadata": {
        "colab": {
          "base_uri": "https://localhost:8080/",
          "height": 300
        },
        "id": "LXyBX1ErIPGL",
        "outputId": "debd07cd-9277-470f-f9e6-8eec0384d6d0"
      },
      "source": [
        "#formatando os dados\n",
        "le = LabelEncoder()\n",
        "cols_to_le = [\"cor\",\"label\"]\n",
        "for col in cols_to_le:\n",
        "  data[col] = le.fit_transform(data[col])\n",
        "\n",
        "#print(le.transform)\n",
        "data"
      ],
      "execution_count": null,
      "outputs": [
        {
          "output_type": "execute_result",
          "data": {
            "text/plain": [
              "   cor  diametro  label\n",
              "4    0         1      0\n",
              "7    1         1      0\n",
              "0    0         5      1\n",
              "2    0         1      1\n",
              "1    1         3      2\n",
              "3    1         4      2\n",
              "5    1         2      2\n",
              "6    1         2      2"
            ],
            "text/html": [
              "\n",
              "  <div id=\"df-3a422228-e8a2-4d01-b694-c17f8e0055fb\" class=\"colab-df-container\">\n",
              "    <div>\n",
              "<style scoped>\n",
              "    .dataframe tbody tr th:only-of-type {\n",
              "        vertical-align: middle;\n",
              "    }\n",
              "\n",
              "    .dataframe tbody tr th {\n",
              "        vertical-align: top;\n",
              "    }\n",
              "\n",
              "    .dataframe thead th {\n",
              "        text-align: right;\n",
              "    }\n",
              "</style>\n",
              "<table border=\"1\" class=\"dataframe\">\n",
              "  <thead>\n",
              "    <tr style=\"text-align: right;\">\n",
              "      <th></th>\n",
              "      <th>cor</th>\n",
              "      <th>diametro</th>\n",
              "      <th>label</th>\n",
              "    </tr>\n",
              "  </thead>\n",
              "  <tbody>\n",
              "    <tr>\n",
              "      <th>4</th>\n",
              "      <td>0</td>\n",
              "      <td>1</td>\n",
              "      <td>0</td>\n",
              "    </tr>\n",
              "    <tr>\n",
              "      <th>7</th>\n",
              "      <td>1</td>\n",
              "      <td>1</td>\n",
              "      <td>0</td>\n",
              "    </tr>\n",
              "    <tr>\n",
              "      <th>0</th>\n",
              "      <td>0</td>\n",
              "      <td>5</td>\n",
              "      <td>1</td>\n",
              "    </tr>\n",
              "    <tr>\n",
              "      <th>2</th>\n",
              "      <td>0</td>\n",
              "      <td>1</td>\n",
              "      <td>1</td>\n",
              "    </tr>\n",
              "    <tr>\n",
              "      <th>1</th>\n",
              "      <td>1</td>\n",
              "      <td>3</td>\n",
              "      <td>2</td>\n",
              "    </tr>\n",
              "    <tr>\n",
              "      <th>3</th>\n",
              "      <td>1</td>\n",
              "      <td>4</td>\n",
              "      <td>2</td>\n",
              "    </tr>\n",
              "    <tr>\n",
              "      <th>5</th>\n",
              "      <td>1</td>\n",
              "      <td>2</td>\n",
              "      <td>2</td>\n",
              "    </tr>\n",
              "    <tr>\n",
              "      <th>6</th>\n",
              "      <td>1</td>\n",
              "      <td>2</td>\n",
              "      <td>2</td>\n",
              "    </tr>\n",
              "  </tbody>\n",
              "</table>\n",
              "</div>\n",
              "    <div class=\"colab-df-buttons\">\n",
              "\n",
              "  <div class=\"colab-df-container\">\n",
              "    <button class=\"colab-df-convert\" onclick=\"convertToInteractive('df-3a422228-e8a2-4d01-b694-c17f8e0055fb')\"\n",
              "            title=\"Convert this dataframe to an interactive table.\"\n",
              "            style=\"display:none;\">\n",
              "\n",
              "  <svg xmlns=\"http://www.w3.org/2000/svg\" height=\"24px\" viewBox=\"0 -960 960 960\">\n",
              "    <path d=\"M120-120v-720h720v720H120Zm60-500h600v-160H180v160Zm220 220h160v-160H400v160Zm0 220h160v-160H400v160ZM180-400h160v-160H180v160Zm440 0h160v-160H620v160ZM180-180h160v-160H180v160Zm440 0h160v-160H620v160Z\"/>\n",
              "  </svg>\n",
              "    </button>\n",
              "\n",
              "  <style>\n",
              "    .colab-df-container {\n",
              "      display:flex;\n",
              "      gap: 12px;\n",
              "    }\n",
              "\n",
              "    .colab-df-convert {\n",
              "      background-color: #E8F0FE;\n",
              "      border: none;\n",
              "      border-radius: 50%;\n",
              "      cursor: pointer;\n",
              "      display: none;\n",
              "      fill: #1967D2;\n",
              "      height: 32px;\n",
              "      padding: 0 0 0 0;\n",
              "      width: 32px;\n",
              "    }\n",
              "\n",
              "    .colab-df-convert:hover {\n",
              "      background-color: #E2EBFA;\n",
              "      box-shadow: 0px 1px 2px rgba(60, 64, 67, 0.3), 0px 1px 3px 1px rgba(60, 64, 67, 0.15);\n",
              "      fill: #174EA6;\n",
              "    }\n",
              "\n",
              "    .colab-df-buttons div {\n",
              "      margin-bottom: 4px;\n",
              "    }\n",
              "\n",
              "    [theme=dark] .colab-df-convert {\n",
              "      background-color: #3B4455;\n",
              "      fill: #D2E3FC;\n",
              "    }\n",
              "\n",
              "    [theme=dark] .colab-df-convert:hover {\n",
              "      background-color: #434B5C;\n",
              "      box-shadow: 0px 1px 3px 1px rgba(0, 0, 0, 0.15);\n",
              "      filter: drop-shadow(0px 1px 2px rgba(0, 0, 0, 0.3));\n",
              "      fill: #FFFFFF;\n",
              "    }\n",
              "  </style>\n",
              "\n",
              "    <script>\n",
              "      const buttonEl =\n",
              "        document.querySelector('#df-3a422228-e8a2-4d01-b694-c17f8e0055fb button.colab-df-convert');\n",
              "      buttonEl.style.display =\n",
              "        google.colab.kernel.accessAllowed ? 'block' : 'none';\n",
              "\n",
              "      async function convertToInteractive(key) {\n",
              "        const element = document.querySelector('#df-3a422228-e8a2-4d01-b694-c17f8e0055fb');\n",
              "        const dataTable =\n",
              "          await google.colab.kernel.invokeFunction('convertToInteractive',\n",
              "                                                    [key], {});\n",
              "        if (!dataTable) return;\n",
              "\n",
              "        const docLinkHtml = 'Like what you see? Visit the ' +\n",
              "          '<a target=\"_blank\" href=https://colab.research.google.com/notebooks/data_table.ipynb>data table notebook</a>'\n",
              "          + ' to learn more about interactive tables.';\n",
              "        element.innerHTML = '';\n",
              "        dataTable['output_type'] = 'display_data';\n",
              "        await google.colab.output.renderOutput(dataTable, element);\n",
              "        const docLink = document.createElement('div');\n",
              "        docLink.innerHTML = docLinkHtml;\n",
              "        element.appendChild(docLink);\n",
              "      }\n",
              "    </script>\n",
              "  </div>\n",
              "\n",
              "\n",
              "<div id=\"df-ab6ff100-1ff1-40c6-af41-380ee0714d65\">\n",
              "  <button class=\"colab-df-quickchart\" onclick=\"quickchart('df-ab6ff100-1ff1-40c6-af41-380ee0714d65')\"\n",
              "            title=\"Suggest charts\"\n",
              "            style=\"display:none;\">\n",
              "\n",
              "<svg xmlns=\"http://www.w3.org/2000/svg\" height=\"24px\"viewBox=\"0 0 24 24\"\n",
              "     width=\"24px\">\n",
              "    <g>\n",
              "        <path d=\"M19 3H5c-1.1 0-2 .9-2 2v14c0 1.1.9 2 2 2h14c1.1 0 2-.9 2-2V5c0-1.1-.9-2-2-2zM9 17H7v-7h2v7zm4 0h-2V7h2v10zm4 0h-2v-4h2v4z\"/>\n",
              "    </g>\n",
              "</svg>\n",
              "  </button>\n",
              "\n",
              "<style>\n",
              "  .colab-df-quickchart {\n",
              "      --bg-color: #E8F0FE;\n",
              "      --fill-color: #1967D2;\n",
              "      --hover-bg-color: #E2EBFA;\n",
              "      --hover-fill-color: #174EA6;\n",
              "      --disabled-fill-color: #AAA;\n",
              "      --disabled-bg-color: #DDD;\n",
              "  }\n",
              "\n",
              "  [theme=dark] .colab-df-quickchart {\n",
              "      --bg-color: #3B4455;\n",
              "      --fill-color: #D2E3FC;\n",
              "      --hover-bg-color: #434B5C;\n",
              "      --hover-fill-color: #FFFFFF;\n",
              "      --disabled-bg-color: #3B4455;\n",
              "      --disabled-fill-color: #666;\n",
              "  }\n",
              "\n",
              "  .colab-df-quickchart {\n",
              "    background-color: var(--bg-color);\n",
              "    border: none;\n",
              "    border-radius: 50%;\n",
              "    cursor: pointer;\n",
              "    display: none;\n",
              "    fill: var(--fill-color);\n",
              "    height: 32px;\n",
              "    padding: 0;\n",
              "    width: 32px;\n",
              "  }\n",
              "\n",
              "  .colab-df-quickchart:hover {\n",
              "    background-color: var(--hover-bg-color);\n",
              "    box-shadow: 0 1px 2px rgba(60, 64, 67, 0.3), 0 1px 3px 1px rgba(60, 64, 67, 0.15);\n",
              "    fill: var(--button-hover-fill-color);\n",
              "  }\n",
              "\n",
              "  .colab-df-quickchart-complete:disabled,\n",
              "  .colab-df-quickchart-complete:disabled:hover {\n",
              "    background-color: var(--disabled-bg-color);\n",
              "    fill: var(--disabled-fill-color);\n",
              "    box-shadow: none;\n",
              "  }\n",
              "\n",
              "  .colab-df-spinner {\n",
              "    border: 2px solid var(--fill-color);\n",
              "    border-color: transparent;\n",
              "    border-bottom-color: var(--fill-color);\n",
              "    animation:\n",
              "      spin 1s steps(1) infinite;\n",
              "  }\n",
              "\n",
              "  @keyframes spin {\n",
              "    0% {\n",
              "      border-color: transparent;\n",
              "      border-bottom-color: var(--fill-color);\n",
              "      border-left-color: var(--fill-color);\n",
              "    }\n",
              "    20% {\n",
              "      border-color: transparent;\n",
              "      border-left-color: var(--fill-color);\n",
              "      border-top-color: var(--fill-color);\n",
              "    }\n",
              "    30% {\n",
              "      border-color: transparent;\n",
              "      border-left-color: var(--fill-color);\n",
              "      border-top-color: var(--fill-color);\n",
              "      border-right-color: var(--fill-color);\n",
              "    }\n",
              "    40% {\n",
              "      border-color: transparent;\n",
              "      border-right-color: var(--fill-color);\n",
              "      border-top-color: var(--fill-color);\n",
              "    }\n",
              "    60% {\n",
              "      border-color: transparent;\n",
              "      border-right-color: var(--fill-color);\n",
              "    }\n",
              "    80% {\n",
              "      border-color: transparent;\n",
              "      border-right-color: var(--fill-color);\n",
              "      border-bottom-color: var(--fill-color);\n",
              "    }\n",
              "    90% {\n",
              "      border-color: transparent;\n",
              "      border-bottom-color: var(--fill-color);\n",
              "    }\n",
              "  }\n",
              "</style>\n",
              "\n",
              "  <script>\n",
              "    async function quickchart(key) {\n",
              "      const quickchartButtonEl =\n",
              "        document.querySelector('#' + key + ' button');\n",
              "      quickchartButtonEl.disabled = true;  // To prevent multiple clicks.\n",
              "      quickchartButtonEl.classList.add('colab-df-spinner');\n",
              "      try {\n",
              "        const charts = await google.colab.kernel.invokeFunction(\n",
              "            'suggestCharts', [key], {});\n",
              "      } catch (error) {\n",
              "        console.error('Error during call to suggestCharts:', error);\n",
              "      }\n",
              "      quickchartButtonEl.classList.remove('colab-df-spinner');\n",
              "      quickchartButtonEl.classList.add('colab-df-quickchart-complete');\n",
              "    }\n",
              "    (() => {\n",
              "      let quickchartButtonEl =\n",
              "        document.querySelector('#df-ab6ff100-1ff1-40c6-af41-380ee0714d65 button');\n",
              "      quickchartButtonEl.style.display =\n",
              "        google.colab.kernel.accessAllowed ? 'block' : 'none';\n",
              "    })();\n",
              "  </script>\n",
              "</div>\n",
              "\n",
              "  <div id=\"id_9abfbe31-4935-42dd-a3e4-96bfbac55ec0\">\n",
              "    <style>\n",
              "      .colab-df-generate {\n",
              "        background-color: #E8F0FE;\n",
              "        border: none;\n",
              "        border-radius: 50%;\n",
              "        cursor: pointer;\n",
              "        display: none;\n",
              "        fill: #1967D2;\n",
              "        height: 32px;\n",
              "        padding: 0 0 0 0;\n",
              "        width: 32px;\n",
              "      }\n",
              "\n",
              "      .colab-df-generate:hover {\n",
              "        background-color: #E2EBFA;\n",
              "        box-shadow: 0px 1px 2px rgba(60, 64, 67, 0.3), 0px 1px 3px 1px rgba(60, 64, 67, 0.15);\n",
              "        fill: #174EA6;\n",
              "      }\n",
              "\n",
              "      [theme=dark] .colab-df-generate {\n",
              "        background-color: #3B4455;\n",
              "        fill: #D2E3FC;\n",
              "      }\n",
              "\n",
              "      [theme=dark] .colab-df-generate:hover {\n",
              "        background-color: #434B5C;\n",
              "        box-shadow: 0px 1px 3px 1px rgba(0, 0, 0, 0.15);\n",
              "        filter: drop-shadow(0px 1px 2px rgba(0, 0, 0, 0.3));\n",
              "        fill: #FFFFFF;\n",
              "      }\n",
              "    </style>\n",
              "    <button class=\"colab-df-generate\" onclick=\"generateWithVariable('data')\"\n",
              "            title=\"Generate code using this dataframe.\"\n",
              "            style=\"display:none;\">\n",
              "\n",
              "  <svg xmlns=\"http://www.w3.org/2000/svg\" height=\"24px\"viewBox=\"0 0 24 24\"\n",
              "       width=\"24px\">\n",
              "    <path d=\"M7,19H8.4L18.45,9,17,7.55,7,17.6ZM5,21V16.75L18.45,3.32a2,2,0,0,1,2.83,0l1.4,1.43a1.91,1.91,0,0,1,.58,1.4,1.91,1.91,0,0,1-.58,1.4L9.25,21ZM18.45,9,17,7.55Zm-12,3A5.31,5.31,0,0,0,4.9,8.1,5.31,5.31,0,0,0,1,6.5,5.31,5.31,0,0,0,4.9,4.9,5.31,5.31,0,0,0,6.5,1,5.31,5.31,0,0,0,8.1,4.9,5.31,5.31,0,0,0,12,6.5,5.46,5.46,0,0,0,6.5,12Z\"/>\n",
              "  </svg>\n",
              "    </button>\n",
              "    <script>\n",
              "      (() => {\n",
              "      const buttonEl =\n",
              "        document.querySelector('#id_9abfbe31-4935-42dd-a3e4-96bfbac55ec0 button.colab-df-generate');\n",
              "      buttonEl.style.display =\n",
              "        google.colab.kernel.accessAllowed ? 'block' : 'none';\n",
              "\n",
              "      buttonEl.onclick = () => {\n",
              "        google.colab.notebook.generateWithVariable('data');\n",
              "      }\n",
              "      })();\n",
              "    </script>\n",
              "  </div>\n",
              "\n",
              "    </div>\n",
              "  </div>\n"
            ],
            "application/vnd.google.colaboratory.intrinsic+json": {
              "type": "dataframe",
              "variable_name": "data",
              "summary": "{\n  \"name\": \"data\",\n  \"rows\": 8,\n  \"fields\": [\n    {\n      \"column\": \"cor\",\n      \"properties\": {\n        \"dtype\": \"number\",\n        \"std\": 0,\n        \"min\": 0,\n        \"max\": 1,\n        \"num_unique_values\": 2,\n        \"samples\": [\n          1,\n          0\n        ],\n        \"semantic_type\": \"\",\n        \"description\": \"\"\n      }\n    },\n    {\n      \"column\": \"diametro\",\n      \"properties\": {\n        \"dtype\": \"number\",\n        \"std\": 1,\n        \"min\": 1,\n        \"max\": 5,\n        \"num_unique_values\": 5,\n        \"samples\": [\n          5,\n          2\n        ],\n        \"semantic_type\": \"\",\n        \"description\": \"\"\n      }\n    },\n    {\n      \"column\": \"label\",\n      \"properties\": {\n        \"dtype\": \"number\",\n        \"std\": 0,\n        \"min\": 0,\n        \"max\": 2,\n        \"num_unique_values\": 3,\n        \"samples\": [\n          0,\n          1\n        ],\n        \"semantic_type\": \"\",\n        \"description\": \"\"\n      }\n    }\n  ]\n}"
            }
          },
          "metadata": {},
          "execution_count": 23
        }
      ]
    },
    {
      "cell_type": "code",
      "metadata": {
        "id": "6EHodlcKU4jU"
      },
      "source": [
        "#criando o objeto da classe\n",
        "dt = DecisionTreeClassifier(criterion = 'entropy',max_depth=2,min_samples_leaf=1)"
      ],
      "execution_count": null,
      "outputs": []
    },
    {
      "cell_type": "code",
      "metadata": {
        "colab": {
          "base_uri": "https://localhost:8080/"
        },
        "id": "P_X6TPYnU8ak",
        "outputId": "7cc87f37-4b22-4fe3-fcc9-92c7d333bdda"
      },
      "source": [
        "#removendo o label\n",
        "X = data.drop(columns=['label'])\n",
        "print(X.shape)\n",
        "Y = data['label'].values\n"
      ],
      "execution_count": null,
      "outputs": [
        {
          "output_type": "stream",
          "name": "stdout",
          "text": [
            "(8, 2)\n"
          ]
        }
      ]
    },
    {
      "cell_type": "code",
      "metadata": {
        "id": "vVpmgFFkVCvZ",
        "colab": {
          "base_uri": "https://localhost:8080/",
          "height": 414
        },
        "outputId": "9b678f67-e061-4caa-e401-3ffd1dafb25c"
      },
      "source": [
        "#gerando o modelo\n",
        "dt.fit(X, Y)\n",
        "\n",
        "\n",
        "# plotando\n",
        "import matplotlib.pyplot as plt\n",
        "from sklearn.datasets import load_iris\n",
        "from sklearn.tree import DecisionTreeClassifier, plot_tree\n",
        "import matplotlib.pyplot as plt\n",
        "\n",
        "tree_graph_to_png(dt, feature_names=['cor','diametro'], png_file_to_save='dt.png')\n",
        "\n",
        "plt.figure(figsize=(8, 5))\n",
        "plot_tree(dt,\n",
        "          feature_names=['cor','diametro'],\n",
        "          class_names=['0','1','2'],\n",
        "          filled=True,\n",
        "          rounded=True)\n",
        "plt.show()"
      ],
      "execution_count": null,
      "outputs": [
        {
          "output_type": "display_data",
          "data": {
            "text/plain": [
              "<Figure size 800x500 with 1 Axes>"
            ],
            "image/png": "[encoded data removed]"
          },
          "metadata": {}
        }
      ]
    },
    {
      "cell_type": "code",
      "metadata": {
        "id": "KFcBsY6sIn2d",
        "colab": {
          "base_uri": "https://localhost:8080/"
        },
        "outputId": "9496e5d5-d26f-495f-d822-969bf0a52234"
      },
      "source": [
        "d = np.array([[1, 100]])\n",
        "#d=d.reshape(-1, 1)\n",
        "\n",
        "print(f\"Classe predita é a {dt.predict(d)[0]}\")"
      ],
      "execution_count": null,
      "outputs": [
        {
          "output_type": "stream",
          "name": "stdout",
          "text": [
            "Classe predita é a 2\n"
          ]
        }
      ]
    },
    {
      "cell_type": "markdown",
      "metadata": {
        "id": "cueJ0Kl5JJQR"
      },
      "source": [
        "#Um exemplo real"
      ]
    },
    {
      "cell_type": "markdown",
      "metadata": {
        "id": "dabhUvC9d-zS"
      },
      "source": [
        "Objetivo: Prever a possibilidade de um candidato estar procurando um novo trabalho (sair da empresa atual)\n",
        "\n",
        "\n",
        "\n",
        "Dataset: Esta base do Kaggle tem como objetivo entender os fatores de um empregado que deseja sair do trabalho atual. Dessa forma, o desafio é criar um modelo capaz prever se um candidato vai sair ou não da empresa.\n",
        "\n"
      ]
    },
    {
      "cell_type": "code",
      "metadata": {
        "id": "yRz0K6mVzNI-"
      },
      "source": [
        "#@title Load Bib\n",
        "from sklearn import tree\n",
        "from sklearn.tree import DecisionTreeClassifier\n",
        "from sklearn.ensemble import RandomForestClassifier\n",
        "\n",
        "\n",
        "\n",
        "from sklearn.model_selection import train_test_split\n",
        "import seaborn as sns\n",
        "import pandas as pd\n",
        "from sklearn.metrics import classification_report\n",
        "from sklearn.preprocessing import LabelEncoder\n",
        "import numpy as np\n",
        "from sklearn.feature_extraction.text import CountVectorizer\n",
        "from sklearn import metrics\n"
      ],
      "execution_count": null,
      "outputs": []
    },
    {
      "cell_type": "code",
      "metadata": {
        "id": "0vQGi6I_zK6i"
      },
      "source": [
        "#@title Load Dataset\n",
        "url = 'https://raw.githubusercontent.com/dbguilherme/machinelearning/main/aug_train.csv'\n",
        "df_train= pd.read_csv(url,encoding = \"ISO-8859-1\")\n",
        "\n",
        "\n",
        "def preprocessing(df):\n",
        "    df.drop([\"enrollee_id\"], axis=1, inplace=True)\n",
        "\n",
        "    df.dropna(inplace=True)\n",
        "\n",
        "    le = LabelEncoder()\n",
        "    cols_to_le = [\"gender\",\"city\",\"relevent_experience\",\"enrolled_university\",\"education_level\",\"major_discipline\",\"experience\",\n",
        "                  \"company_size\",\"company_type\",\"last_new_job\"]\n",
        "    for col in cols_to_le:\n",
        "        df[col] = le.fit_transform(df[col])\n",
        "    return df\n",
        "df_train_proc=preprocessing(df_train)"
      ],
      "execution_count": null,
      "outputs": []
    },
    {
      "cell_type": "code",
      "metadata": {
        "colab": {
          "base_uri": "https://localhost:8080/"
        },
        "id": "c7FAcQojJufH",
        "outputId": "890e5d3c-300c-462f-e6ce-b6d7d93c5485"
      },
      "source": [
        "df_train_proc.shape"
      ],
      "execution_count": null,
      "outputs": [
        {
          "output_type": "execute_result",
          "data": {
            "text/plain": [
              "(8955, 13)"
            ]
          },
          "metadata": {},
          "execution_count": 67
        }
      ]
    },
    {
      "cell_type": "code",
      "metadata": {
        "id": "_BhiY7zezVfu",
        "colab": {
          "base_uri": "https://localhost:8080/"
        },
        "outputId": "6d59ac7e-98c0-4a79-bdcf-984c193a541a"
      },
      "source": [
        "#apagar o rotulo\n",
        "X = df_train_proc.drop(\"target\", axis=1)\n",
        "\n",
        "\n",
        "\n",
        "#cria um dataframe para o rotulo\n",
        "y = df_train_proc[\"target\"]\n",
        "\n",
        "#divide em treino e teste\n",
        "X_train, X_test, y_train, y_test = train_test_split(X,y,  test_size=0.3)\n",
        "X_train.shape"
      ],
      "execution_count": null,
      "outputs": [
        {
          "output_type": "execute_result",
          "data": {
            "text/plain": [
              "(6268, 12)"
            ]
          },
          "metadata": {},
          "execution_count": 68
        }
      ]
    },
    {
      "cell_type": "code",
      "metadata": {
        "id": "Qd01h8XRzY7x",
        "colab": {
          "base_uri": "https://localhost:8080/"
        },
        "outputId": "bdecf85a-db8a-4817-c798-a76b677a4f9c"
      },
      "source": [
        "#Cria classificador\n",
        "dt = DecisionTreeClassifier(max_depth=5)\n",
        "#Treina\n",
        "dt.fit(X_train,y_train)\n",
        "\n",
        "tree_graph_to_png(dt, feature_names=['city', 'city_development_index', 'gender', 'relevent_experience',\n",
        "       'enrolled_university', 'education_level', 'major_discipline',\n",
        "      'experience', 'company_size', 'company_type', 'last_new_job',\n",
        "      'training_hours'], png_file_to_save='dt2.png')\n",
        "print(X_test.shape)\n",
        "print(y_test.shape)"
      ],
      "execution_count": null,
      "outputs": [
        {
          "output_type": "stream",
          "name": "stdout",
          "text": [
            "(2687, 12)\n",
            "(2687,)\n"
          ]
        }
      ]
    },
    {
      "cell_type": "code",
      "metadata": {
        "id": "gyJ2rB6ezf5D",
        "colab": {
          "base_uri": "https://localhost:8080/"
        },
        "outputId": "9118942a-0ee5-4e31-bbf1-d7944976d09d"
      },
      "source": [
        "#Faz a predição\n",
        "y_pred=dt.predict(X_test)\n",
        "#Calcula métricas\n",
        "print(classification_report(y_test,y_pred))"
      ],
      "execution_count": null,
      "outputs": [
        {
          "output_type": "stream",
          "name": "stdout",
          "text": [
            "              precision    recall  f1-score   support\n",
            "\n",
            "         0.0       0.91      0.93      0.92      2276\n",
            "         1.0       0.53      0.47      0.50       411\n",
            "\n",
            "    accuracy                           0.86      2687\n",
            "   macro avg       0.72      0.70      0.71      2687\n",
            "weighted avg       0.85      0.86      0.85      2687\n",
            "\n"
          ]
        }
      ]
    },
    {
      "cell_type": "code",
      "metadata": {
        "id": "AFoANuko_3b1",
        "colab": {
          "base_uri": "https://localhost:8080/"
        },
        "outputId": "47356308-e3b4-4f62-db5c-f5b01ec573b8"
      },
      "source": [
        "\n",
        "for i, y in enumerate (dt.feature_importances_):\n",
        "  print(f\"{df_train_proc.columns[i]} ---- {y}\")"
      ],
      "execution_count": null,
      "outputs": [
        {
          "output_type": "stream",
          "name": "stdout",
          "text": [
            "city ---- 0.044083847297354255\n",
            "city_development_index ---- 0.2718712703802181\n",
            "gender ---- 0.013946662780277834\n",
            "relevent_experience ---- 0.017457099765986868\n",
            "enrolled_university ---- 0.023114143869646955\n",
            "education_level ---- 0.03280366605080657\n",
            "major_discipline ---- 0.019809831486253888\n",
            "experience ---- 0.12495283671557296\n",
            "company_size ---- 0.08816086313592149\n",
            "company_type ---- 0.042037078159302424\n",
            "last_new_job ---- 0.07049323454734728\n",
            "training_hours ---- 0.2512694658113114\n"
          ]
        }
      ]
    },
    {
      "cell_type": "markdown",
      "metadata": {
        "id": "s4De_duLact4"
      },
      "source": [
        "Pergunta: O que significa a precisão da classe 1.0?\n",
        "\n",
        "Resposta:\n"
      ]
    },
    {
      "cell_type": "markdown",
      "metadata": {
        "id": "6WODG65Ihw0-"
      },
      "source": [
        "### Pros e contras DT\n",
        "\n",
        "#### Pros\n",
        "\n",
        "1. Fácil de trabalhar\n",
        "\n",
        "2. Importante para explorar os dados\n",
        "\n",
        "3. Pode lidar com dados númericos e categóricos;\n",
        "\n",
        "4. Considerado sem parâmetros de entrada.\n",
        "\n",
        "#### Cons\n",
        "\n",
        "1. Overfitting\n",
        "\n"
      ]
    },
    {
      "cell_type": "markdown",
      "source": [
        "# Atividade"
      ],
      "metadata": {
        "id": "wA8ccjB3ggz2"
      }
    },
    {
      "cell_type": "markdown",
      "source": [
        "A partir do dataset abaixo crie uma árvore de decisão e teste a melhor combinação de parâmetros"
      ],
      "metadata": {
        "id": "7w26I1rugjBf"
      }
    },
    {
      "cell_type": "code",
      "source": [
        "url = \"https://raw.githubusercontent.com/mwaskom/seaborn-data/master/titanic.csv\"\n",
        "df = pd.read_csv(url)\n",
        "df"
      ],
      "metadata": {
        "id": "mmah1awSgvZG",
        "outputId": "0288da02-4e7b-4a5f-c276-31405bc53877",
        "colab": {
          "base_uri": "https://localhost:8080/",
          "height": 444
        }
      },
      "execution_count": null,
      "outputs": [
        {
          "output_type": "execute_result",
          "data": {
            "text/plain": [
              "     survived  pclass     sex   age  sibsp  parch     fare embarked   class  \\\n",
              "0           0       3    male  22.0      1      0   7.2500        S   Third   \n",
              "1           1       1  female  38.0      1      0  71.2833        C   First   \n",
              "2           1       3  female  26.0      0      0   7.9250        S   Third   \n",
              "3           1       1  female  35.0      1      0  53.1000        S   First   \n",
              "4           0       3    male  35.0      0      0   8.0500        S   Third   \n",
              "..        ...     ...     ...   ...    ...    ...      ...      ...     ...   \n",
              "886         0       2    male  27.0      0      0  13.0000        S  Second   \n",
              "887         1       1  female  19.0      0      0  30.0000        S   First   \n",
              "888         0       3  female   NaN      1      2  23.4500        S   Third   \n",
              "889         1       1    male  26.0      0      0  30.0000        C   First   \n",
              "890         0       3    male  32.0      0      0   7.7500        Q   Third   \n",
              "\n",
              "       who  adult_male deck  embark_town alive  alone  \n",
              "0      man        True  NaN  Southampton    no  False  \n",
              "1    woman       False    C    Cherbourg   yes  False  \n",
              "2    woman       False  NaN  Southampton   yes   True  \n",
              "3    woman       False    C  Southampton   yes  False  \n",
              "4      man        True  NaN  Southampton    no   True  \n",
              "..     ...         ...  ...          ...   ...    ...  \n",
              "886    man        True  NaN  Southampton    no   True  \n",
              "887  woman       False    B  Southampton   yes   True  \n",
              "888  woman       False  NaN  Southampton    no  False  \n",
              "889    man        True    C    Cherbourg   yes   True  \n",
              "890    man        True  NaN   Queenstown    no   True  \n",
              "\n",
              "[891 rows x 15 columns]"
            ],
            "text/html": [
              "\n",
              "  <div id=\"df-9d4f66f6-ed76-4a05-8648-65c48100d3f1\" class=\"colab-df-container\">\n",
              "    <div>\n",
              "<style scoped>\n",
              "    .dataframe tbody tr th:only-of-type {\n",
              "        vertical-align: middle;\n",
              "    }\n",
              "\n",
              "    .dataframe tbody tr th {\n",
              "        vertical-align: top;\n",
              "    }\n",
              "\n",
              "    .dataframe thead th {\n",
              "        text-align: right;\n",
              "    }\n",
              "</style>\n",
              "<table border=\"1\" class=\"dataframe\">\n",
              "  <thead>\n",
              "    <tr style=\"text-align: right;\">\n",
              "      <th></th>\n",
              "      <th>survived</th>\n",
              "      <th>pclass</th>\n",
              "      <th>sex</th>\n",
              "      <th>age</th>\n",
              "      <th>sibsp</th>\n",
              "      <th>parch</th>\n",
              "      <th>fare</th>\n",
              "      <th>embarked</th>\n",
              "      <th>class</th>\n",
              "      <th>who</th>\n",
              "      <th>adult_male</th>\n",
              "      <th>deck</th>\n",
              "      <th>embark_town</th>\n",
              "      <th>alive</th>\n",
              "      <th>alone</th>\n",
              "    </tr>\n",
              "  </thead>\n",
              "  <tbody>\n",
              "    <tr>\n",
              "      <th>0</th>\n",
              "      <td>0</td>\n",
              "      <td>3</td>\n",
              "      <td>male</td>\n",
              "      <td>22.0</td>\n",
              "      <td>1</td>\n",
              "      <td>0</td>\n",
              "      <td>7.2500</td>\n",
              "      <td>S</td>\n",
              "      <td>Third</td>\n",
              "      <td>man</td>\n",
              "      <td>True</td>\n",
              "      <td>NaN</td>\n",
              "      <td>Southampton</td>\n",
              "      <td>no</td>\n",
              "      <td>False</td>\n",
              "    </tr>\n",
              "    <tr>\n",
              "      <th>1</th>\n",
              "      <td>1</td>\n",
              "      <td>1</td>\n",
              "      <td>female</td>\n",
              "      <td>38.0</td>\n",
              "      <td>1</td>\n",
              "      <td>0</td>\n",
              "      <td>71.2833</td>\n",
              "      <td>C</td>\n",
              "      <td>First</td>\n",
              "      <td>woman</td>\n",
              "      <td>False</td>\n",
              "      <td>C</td>\n",
              "      <td>Cherbourg</td>\n",
              "      <td>yes</td>\n",
              "      <td>False</td>\n",
              "    </tr>\n",
              "    <tr>\n",
              "      <th>2</th>\n",
              "      <td>1</td>\n",
              "      <td>3</td>\n",
              "      <td>female</td>\n",
              "      <td>26.0</td>\n",
              "      <td>0</td>\n",
              "      <td>0</td>\n",
              "      <td>7.9250</td>\n",
              "      <td>S</td>\n",
              "      <td>Third</td>\n",
              "      <td>woman</td>\n",
              "      <td>False</td>\n",
              "      <td>NaN</td>\n",
              "      <td>Southampton</td>\n",
              "      <td>yes</td>\n",
              "      <td>True</td>\n",
              "    </tr>\n",
              "    <tr>\n",
              "      <th>3</th>\n",
              "      <td>1</td>\n",
              "      <td>1</td>\n",
              "      <td>female</td>\n",
              "      <td>35.0</td>\n",
              "      <td>1</td>\n",
              "      <td>0</td>\n",
              "      <td>53.1000</td>\n",
              "      <td>S</td>\n",
              "      <td>First</td>\n",
              "      <td>woman</td>\n",
              "      <td>False</td>\n",
              "      <td>C</td>\n",
              "      <td>Southampton</td>\n",
              "      <td>yes</td>\n",
              "      <td>False</td>\n",
              "    </tr>\n",
              "    <tr>\n",
              "      <th>4</th>\n",
              "      <td>0</td>\n",
              "      <td>3</td>\n",
              "      <td>male</td>\n",
              "      <td>35.0</td>\n",
              "      <td>0</td>\n",
              "      <td>0</td>\n",
              "      <td>8.0500</td>\n",
              "      <td>S</td>\n",
              "      <td>Third</td>\n",
              "      <td>man</td>\n",
              "      <td>True</td>\n",
              "      <td>NaN</td>\n",
              "      <td>Southampton</td>\n",
              "      <td>no</td>\n",
              "      <td>True</td>\n",
              "    </tr>\n",
              "    <tr>\n",
              "      <th>...</th>\n",
              "      <td>...</td>\n",
              "      <td>...</td>\n",
              "      <td>...</td>\n",
              "      <td>...</td>\n",
              "      <td>...</td>\n",
              "      <td>...</td>\n",
              "      <td>...</td>\n",
              "      <td>...</td>\n",
              "      <td>...</td>\n",
              "      <td>...</td>\n",
              "      <td>...</td>\n",
              "      <td>...</td>\n",
              "      <td>...</td>\n",
              "      <td>...</td>\n",
              "      <td>...</td>\n",
              "    </tr>\n",
              "    <tr>\n",
              "      <th>886</th>\n",
              "      <td>0</td>\n",
              "      <td>2</td>\n",
              "      <td>male</td>\n",
              "      <td>27.0</td>\n",
              "      <td>0</td>\n",
              "      <td>0</td>\n",
              "      <td>13.0000</td>\n",
              "      <td>S</td>\n",
              "      <td>Second</td>\n",
              "      <td>man</td>\n",
              "      <td>True</td>\n",
              "      <td>NaN</td>\n",
              "      <td>Southampton</td>\n",
              "      <td>no</td>\n",
              "      <td>True</td>\n",
              "    </tr>\n",
              "    <tr>\n",
              "      <th>887</th>\n",
              "      <td>1</td>\n",
              "      <td>1</td>\n",
              "      <td>female</td>\n",
              "      <td>19.0</td>\n",
              "      <td>0</td>\n",
              "      <td>0</td>\n",
              "      <td>30.0000</td>\n",
              "      <td>S</td>\n",
              "      <td>First</td>\n",
              "      <td>woman</td>\n",
              "      <td>False</td>\n",
              "      <td>B</td>\n",
              "      <td>Southampton</td>\n",
              "      <td>yes</td>\n",
              "      <td>True</td>\n",
              "    </tr>\n",
              "    <tr>\n",
              "      <th>888</th>\n",
              "      <td>0</td>\n",
              "      <td>3</td>\n",
              "      <td>female</td>\n",
              "      <td>NaN</td>\n",
              "      <td>1</td>\n",
              "      <td>2</td>\n",
              "      <td>23.4500</td>\n",
              "      <td>S</td>\n",
              "      <td>Third</td>\n",
              "      <td>woman</td>\n",
              "      <td>False</td>\n",
              "      <td>NaN</td>\n",
              "      <td>Southampton</td>\n",
              "      <td>no</td>\n",
              "      <td>False</td>\n",
              "    </tr>\n",
              "    <tr>\n",
              "      <th>889</th>\n",
              "      <td>1</td>\n",
              "      <td>1</td>\n",
              "      <td>male</td>\n",
              "      <td>26.0</td>\n",
              "      <td>0</td>\n",
              "      <td>0</td>\n",
              "      <td>30.0000</td>\n",
              "      <td>C</td>\n",
              "      <td>First</td>\n",
              "      <td>man</td>\n",
              "      <td>True</td>\n",
              "      <td>C</td>\n",
              "      <td>Cherbourg</td>\n",
              "      <td>yes</td>\n",
              "      <td>True</td>\n",
              "    </tr>\n",
              "    <tr>\n",
              "      <th>890</th>\n",
              "      <td>0</td>\n",
              "      <td>3</td>\n",
              "      <td>male</td>\n",
              "      <td>32.0</td>\n",
              "      <td>0</td>\n",
              "      <td>0</td>\n",
              "      <td>7.7500</td>\n",
              "      <td>Q</td>\n",
              "      <td>Third</td>\n",
              "      <td>man</td>\n",
              "      <td>True</td>\n",
              "      <td>NaN</td>\n",
              "      <td>Queenstown</td>\n",
              "      <td>no</td>\n",
              "      <td>True</td>\n",
              "    </tr>\n",
              "  </tbody>\n",
              "</table>\n",
              "<p>891 rows × 15 columns</p>\n",
              "</div>\n",
              "    <div class=\"colab-df-buttons\">\n",
              "\n",
              "  <div class=\"colab-df-container\">\n",
              "    <button class=\"colab-df-convert\" onclick=\"convertToInteractive('df-9d4f66f6-ed76-4a05-8648-65c48100d3f1')\"\n",
              "            title=\"Convert this dataframe to an interactive table.\"\n",
              "            style=\"display:none;\">\n",
              "\n",
              "  <svg xmlns=\"http://www.w3.org/2000/svg\" height=\"24px\" viewBox=\"0 -960 960 960\">\n",
              "    <path d=\"M120-120v-720h720v720H120Zm60-500h600v-160H180v160Zm220 220h160v-160H400v160Zm0 220h160v-160H400v160ZM180-400h160v-160H180v160Zm440 0h160v-160H620v160ZM180-180h160v-160H180v160Zm440 0h160v-160H620v160Z\"/>\n",
              "  </svg>\n",
              "    </button>\n",
              "\n",
              "  <style>\n",
              "    .colab-df-container {\n",
              "      display:flex;\n",
              "      gap: 12px;\n",
              "    }\n",
              "\n",
              "    .colab-df-convert {\n",
              "      background-color: #E8F0FE;\n",
              "      border: none;\n",
              "      border-radius: 50%;\n",
              "      cursor: pointer;\n",
              "      display: none;\n",
              "      fill: #1967D2;\n",
              "      height: 32px;\n",
              "      padding: 0 0 0 0;\n",
              "      width: 32px;\n",
              "    }\n",
              "\n",
              "    .colab-df-convert:hover {\n",
              "      background-color: #E2EBFA;\n",
              "      box-shadow: 0px 1px 2px rgba(60, 64, 67, 0.3), 0px 1px 3px 1px rgba(60, 64, 67, 0.15);\n",
              "      fill: #174EA6;\n",
              "    }\n",
              "\n",
              "    .colab-df-buttons div {\n",
              "      margin-bottom: 4px;\n",
              "    }\n",
              "\n",
              "    [theme=dark] .colab-df-convert {\n",
              "      background-color: #3B4455;\n",
              "      fill: #D2E3FC;\n",
              "    }\n",
              "\n",
              "    [theme=dark] .colab-df-convert:hover {\n",
              "      background-color: #434B5C;\n",
              "      box-shadow: 0px 1px 3px 1px rgba(0, 0, 0, 0.15);\n",
              "      filter: drop-shadow(0px 1px 2px rgba(0, 0, 0, 0.3));\n",
              "      fill: #FFFFFF;\n",
              "    }\n",
              "  </style>\n",
              "\n",
              "    <script>\n",
              "      const buttonEl =\n",
              "        document.querySelector('#df-9d4f66f6-ed76-4a05-8648-65c48100d3f1 button.colab-df-convert');\n",
              "      buttonEl.style.display =\n",
              "        google.colab.kernel.accessAllowed ? 'block' : 'none';\n",
              "\n",
              "      async function convertToInteractive(key) {\n",
              "        const element = document.querySelector('#df-9d4f66f6-ed76-4a05-8648-65c48100d3f1');\n",
              "        const dataTable =\n",
              "          await google.colab.kernel.invokeFunction('convertToInteractive',\n",
              "                                                    [key], {});\n",
              "        if (!dataTable) return;\n",
              "\n",
              "        const docLinkHtml = 'Like what you see? Visit the ' +\n",
              "          '<a target=\"_blank\" href=https://colab.research.google.com/notebooks/data_table.ipynb>data table notebook</a>'\n",
              "          + ' to learn more about interactive tables.';\n",
              "        element.innerHTML = '';\n",
              "        dataTable['output_type'] = 'display_data';\n",
              "        await google.colab.output.renderOutput(dataTable, element);\n",
              "        const docLink = document.createElement('div');\n",
              "        docLink.innerHTML = docLinkHtml;\n",
              "        element.appendChild(docLink);\n",
              "      }\n",
              "    </script>\n",
              "  </div>\n",
              "\n",
              "\n",
              "<div id=\"df-bbb9c35e-5441-4289-b24a-24f1833624aa\">\n",
              "  <button class=\"colab-df-quickchart\" onclick=\"quickchart('df-bbb9c35e-5441-4289-b24a-24f1833624aa')\"\n",
              "            title=\"Suggest charts\"\n",
              "            style=\"display:none;\">\n",
              "\n",
              "<svg xmlns=\"http://www.w3.org/2000/svg\" height=\"24px\"viewBox=\"0 0 24 24\"\n",
              "     width=\"24px\">\n",
              "    <g>\n",
              "        <path d=\"M19 3H5c-1.1 0-2 .9-2 2v14c0 1.1.9 2 2 2h14c1.1 0 2-.9 2-2V5c0-1.1-.9-2-2-2zM9 17H7v-7h2v7zm4 0h-2V7h2v10zm4 0h-2v-4h2v4z\"/>\n",
              "    </g>\n",
              "</svg>\n",
              "  </button>\n",
              "\n",
              "<style>\n",
              "  .colab-df-quickchart {\n",
              "      --bg-color: #E8F0FE;\n",
              "      --fill-color: #1967D2;\n",
              "      --hover-bg-color: #E2EBFA;\n",
              "      --hover-fill-color: #174EA6;\n",
              "      --disabled-fill-color: #AAA;\n",
              "      --disabled-bg-color: #DDD;\n",
              "  }\n",
              "\n",
              "  [theme=dark] .colab-df-quickchart {\n",
              "      --bg-color: #3B4455;\n",
              "      --fill-color: #D2E3FC;\n",
              "      --hover-bg-color: #434B5C;\n",
              "      --hover-fill-color: #FFFFFF;\n",
              "      --disabled-bg-color: #3B4455;\n",
              "      --disabled-fill-color: #666;\n",
              "  }\n",
              "\n",
              "  .colab-df-quickchart {\n",
              "    background-color: var(--bg-color);\n",
              "    border: none;\n",
              "    border-radius: 50%;\n",
              "    cursor: pointer;\n",
              "    display: none;\n",
              "    fill: var(--fill-color);\n",
              "    height: 32px;\n",
              "    padding: 0;\n",
              "    width: 32px;\n",
              "  }\n",
              "\n",
              "  .colab-df-quickchart:hover {\n",
              "    background-color: var(--hover-bg-color);\n",
              "    box-shadow: 0 1px 2px rgba(60, 64, 67, 0.3), 0 1px 3px 1px rgba(60, 64, 67, 0.15);\n",
              "    fill: var(--button-hover-fill-color);\n",
              "  }\n",
              "\n",
              "  .colab-df-quickchart-complete:disabled,\n",
              "  .colab-df-quickchart-complete:disabled:hover {\n",
              "    background-color: var(--disabled-bg-color);\n",
              "    fill: var(--disabled-fill-color);\n",
              "    box-shadow: none;\n",
              "  }\n",
              "\n",
              "  .colab-df-spinner {\n",
              "    border: 2px solid var(--fill-color);\n",
              "    border-color: transparent;\n",
              "    border-bottom-color: var(--fill-color);\n",
              "    animation:\n",
              "      spin 1s steps(1) infinite;\n",
              "  }\n",
              "\n",
              "  @keyframes spin {\n",
              "    0% {\n",
              "      border-color: transparent;\n",
              "      border-bottom-color: var(--fill-color);\n",
              "      border-left-color: var(--fill-color);\n",
              "    }\n",
              "    20% {\n",
              "      border-color: transparent;\n",
              "      border-left-color: var(--fill-color);\n",
              "      border-top-color: var(--fill-color);\n",
              "    }\n",
              "    30% {\n",
              "      border-color: transparent;\n",
              "      border-left-color: var(--fill-color);\n",
              "      border-top-color: var(--fill-color);\n",
              "      border-right-color: var(--fill-color);\n",
              "    }\n",
              "    40% {\n",
              "      border-color: transparent;\n",
              "      border-right-color: var(--fill-color);\n",
              "      border-top-color: var(--fill-color);\n",
              "    }\n",
              "    60% {\n",
              "      border-color: transparent;\n",
              "      border-right-color: var(--fill-color);\n",
              "    }\n",
              "    80% {\n",
              "      border-color: transparent;\n",
              "      border-right-color: var(--fill-color);\n",
              "      border-bottom-color: var(--fill-color);\n",
              "    }\n",
              "    90% {\n",
              "      border-color: transparent;\n",
              "      border-bottom-color: var(--fill-color);\n",
              "    }\n",
              "  }\n",
              "</style>\n",
              "\n",
              "  <script>\n",
              "    async function quickchart(key) {\n",
              "      const quickchartButtonEl =\n",
              "        document.querySelector('#' + key + ' button');\n",
              "      quickchartButtonEl.disabled = true;  // To prevent multiple clicks.\n",
              "      quickchartButtonEl.classList.add('colab-df-spinner');\n",
              "      try {\n",
              "        const charts = await google.colab.kernel.invokeFunction(\n",
              "            'suggestCharts', [key], {});\n",
              "      } catch (error) {\n",
              "        console.error('Error during call to suggestCharts:', error);\n",
              "      }\n",
              "      quickchartButtonEl.classList.remove('colab-df-spinner');\n",
              "      quickchartButtonEl.classList.add('colab-df-quickchart-complete');\n",
              "    }\n",
              "    (() => {\n",
              "      let quickchartButtonEl =\n",
              "        document.querySelector('#df-bbb9c35e-5441-4289-b24a-24f1833624aa button');\n",
              "      quickchartButtonEl.style.display =\n",
              "        google.colab.kernel.accessAllowed ? 'block' : 'none';\n",
              "    })();\n",
              "  </script>\n",
              "</div>\n",
              "\n",
              "  <div id=\"id_48055174-a18e-4662-b546-eb379ac9fb70\">\n",
              "    <style>\n",
              "      .colab-df-generate {\n",
              "        background-color: #E8F0FE;\n",
              "        border: none;\n",
              "        border-radius: 50%;\n",
              "        cursor: pointer;\n",
              "        display: none;\n",
              "        fill: #1967D2;\n",
              "        height: 32px;\n",
              "        padding: 0 0 0 0;\n",
              "        width: 32px;\n",
              "      }\n",
              "\n",
              "      .colab-df-generate:hover {\n",
              "        background-color: #E2EBFA;\n",
              "        box-shadow: 0px 1px 2px rgba(60, 64, 67, 0.3), 0px 1px 3px 1px rgba(60, 64, 67, 0.15);\n",
              "        fill: #174EA6;\n",
              "      }\n",
              "\n",
              "      [theme=dark] .colab-df-generate {\n",
              "        background-color: #3B4455;\n",
              "        fill: #D2E3FC;\n",
              "      }\n",
              "\n",
              "      [theme=dark] .colab-df-generate:hover {\n",
              "        background-color: #434B5C;\n",
              "        box-shadow: 0px 1px 3px 1px rgba(0, 0, 0, 0.15);\n",
              "        filter: drop-shadow(0px 1px 2px rgba(0, 0, 0, 0.3));\n",
              "        fill: #FFFFFF;\n",
              "      }\n",
              "    </style>\n",
              "    <button class=\"colab-df-generate\" onclick=\"generateWithVariable('df')\"\n",
              "            title=\"Generate code using this dataframe.\"\n",
              "            style=\"display:none;\">\n",
              "\n",
              "  <svg xmlns=\"http://www.w3.org/2000/svg\" height=\"24px\"viewBox=\"0 0 24 24\"\n",
              "       width=\"24px\">\n",
              "    <path d=\"M7,19H8.4L18.45,9,17,7.55,7,17.6ZM5,21V16.75L18.45,3.32a2,2,0,0,1,2.83,0l1.4,1.43a1.91,1.91,0,0,1,.58,1.4,1.91,1.91,0,0,1-.58,1.4L9.25,21ZM18.45,9,17,7.55Zm-12,3A5.31,5.31,0,0,0,4.9,8.1,5.31,5.31,0,0,0,1,6.5,5.31,5.31,0,0,0,4.9,4.9,5.31,5.31,0,0,0,6.5,1,5.31,5.31,0,0,0,8.1,4.9,5.31,5.31,0,0,0,12,6.5,5.46,5.46,0,0,0,6.5,12Z\"/>\n",
              "  </svg>\n",
              "    </button>\n",
              "    <script>\n",
              "      (() => {\n",
              "      const buttonEl =\n",
              "        document.querySelector('#id_48055174-a18e-4662-b546-eb379ac9fb70 button.colab-df-generate');\n",
              "      buttonEl.style.display =\n",
              "        google.colab.kernel.accessAllowed ? 'block' : 'none';\n",
              "\n",
              "      buttonEl.onclick = () => {\n",
              "        google.colab.notebook.generateWithVariable('df');\n",
              "      }\n",
              "      })();\n",
              "    </script>\n",
              "  </div>\n",
              "\n",
              "    </div>\n",
              "  </div>\n"
            ],
            "application/vnd.google.colaboratory.intrinsic+json": {
              "type": "dataframe",
              "variable_name": "df",
              "summary": "{\n  \"name\": \"df\",\n  \"rows\": 891,\n  \"fields\": [\n    {\n      \"column\": \"survived\",\n      \"properties\": {\n        \"dtype\": \"number\",\n        \"std\": 0,\n        \"min\": 0,\n        \"max\": 1,\n        \"num_unique_values\": 2,\n        \"samples\": [\n          1,\n          0\n        ],\n        \"semantic_type\": \"\",\n        \"description\": \"\"\n      }\n    },\n    {\n      \"column\": \"pclass\",\n      \"properties\": {\n        \"dtype\": \"number\",\n        \"std\": 0,\n        \"min\": 1,\n        \"max\": 3,\n        \"num_unique_values\": 3,\n        \"samples\": [\n          3,\n          1\n        ],\n        \"semantic_type\": \"\",\n        \"description\": \"\"\n      }\n    },\n    {\n      \"column\": \"sex\",\n      \"properties\": {\n        \"dtype\": \"category\",\n        \"num_unique_values\": 2,\n        \"samples\": [\n          \"female\",\n          \"male\"\n        ],\n        \"semantic_type\": \"\",\n        \"description\": \"\"\n      }\n    },\n    {\n      \"column\": \"age\",\n      \"properties\": {\n        \"dtype\": \"number\",\n        \"std\": 14.526497332334044,\n        \"min\": 0.42,\n        \"max\": 80.0,\n        \"num_unique_values\": 88,\n        \"samples\": [\n          0.75,\n          22.0\n        ],\n        \"semantic_type\": \"\",\n        \"description\": \"\"\n      }\n    },\n    {\n      \"column\": \"sibsp\",\n      \"properties\": {\n        \"dtype\": \"number\",\n        \"std\": 1,\n        \"min\": 0,\n        \"max\": 8,\n        \"num_unique_values\": 7,\n        \"samples\": [\n          1,\n          0\n        ],\n        \"semantic_type\": \"\",\n        \"description\": \"\"\n      }\n    },\n    {\n      \"column\": \"parch\",\n      \"properties\": {\n        \"dtype\": \"number\",\n        \"std\": 0,\n        \"min\": 0,\n        \"max\": 6,\n        \"num_unique_values\": 7,\n        \"samples\": [\n          0,\n          1\n        ],\n        \"semantic_type\": \"\",\n        \"description\": \"\"\n      }\n    },\n    {\n      \"column\": \"fare\",\n      \"properties\": {\n        \"dtype\": \"number\",\n        \"std\": 49.693428597180905,\n        \"min\": 0.0,\n        \"max\": 512.3292,\n        \"num_unique_values\": 248,\n        \"samples\": [\n          11.2417,\n          51.8625\n        ],\n        \"semantic_type\": \"\",\n        \"description\": \"\"\n      }\n    },\n    {\n      \"column\": \"embarked\",\n      \"properties\": {\n        \"dtype\": \"category\",\n        \"num_unique_values\": 3,\n        \"samples\": [\n          \"S\",\n          \"C\"\n        ],\n        \"semantic_type\": \"\",\n        \"description\": \"\"\n      }\n    },\n    {\n      \"column\": \"class\",\n      \"properties\": {\n        \"dtype\": \"category\",\n        \"num_unique_values\": 3,\n        \"samples\": [\n          \"Third\",\n          \"First\"\n        ],\n        \"semantic_type\": \"\",\n        \"description\": \"\"\n      }\n    },\n    {\n      \"column\": \"who\",\n      \"properties\": {\n        \"dtype\": \"category\",\n        \"num_unique_values\": 3,\n        \"samples\": [\n          \"man\",\n          \"woman\"\n        ],\n        \"semantic_type\": \"\",\n        \"description\": \"\"\n      }\n    },\n    {\n      \"column\": \"adult_male\",\n      \"properties\": {\n        \"dtype\": \"boolean\",\n        \"num_unique_values\": 2,\n        \"samples\": [\n          false,\n          true\n        ],\n        \"semantic_type\": \"\",\n        \"description\": \"\"\n      }\n    },\n    {\n      \"column\": \"deck\",\n      \"properties\": {\n        \"dtype\": \"category\",\n        \"num_unique_values\": 7,\n        \"samples\": [\n          \"C\",\n          \"E\"\n        ],\n        \"semantic_type\": \"\",\n        \"description\": \"\"\n      }\n    },\n    {\n      \"column\": \"embark_town\",\n      \"properties\": {\n        \"dtype\": \"category\",\n        \"num_unique_values\": 3,\n        \"samples\": [\n          \"Southampton\",\n          \"Cherbourg\"\n        ],\n        \"semantic_type\": \"\",\n        \"description\": \"\"\n      }\n    },\n    {\n      \"column\": \"alive\",\n      \"properties\": {\n        \"dtype\": \"category\",\n        \"num_unique_values\": 2,\n        \"samples\": [\n          \"yes\",\n          \"no\"\n        ],\n        \"semantic_type\": \"\",\n        \"description\": \"\"\n      }\n    },\n    {\n      \"column\": \"alone\",\n      \"properties\": {\n        \"dtype\": \"boolean\",\n        \"num_unique_values\": 2,\n        \"samples\": [\n          true,\n          false\n        ],\n        \"semantic_type\": \"\",\n        \"description\": \"\"\n      }\n    }\n  ]\n}"
            }
          },
          "metadata": {},
          "execution_count": 35
        }
      ]
    },
    {
      "cell_type": "markdown",
      "source": [],
      "metadata": {
        "id": "tx19Tpe2gz7L"
      }
    },
    {
      "cell_type": "markdown",
      "metadata": {
        "id": "wrk28woQi4XV"
      },
      "source": [
        "\n",
        "\n",
        "```\n",
        "# Isto está formatado como código\n",
        "```\n",
        "\n",
        "## Dados de texto\n",
        "\n",
        "\n",
        "\n",
        " Use a função abaixo paras carregar o  dataset envolvendo discurso de ódio do [link](https://raw.githubusercontent.com/t-davidson/hate-speech-and-offensive-language/master/data/labeled_data.csv)\n",
        "```\n",
        "Classes:\n",
        "0 - hate speech\n",
        "1 - offensive language\n",
        "2 - neither\n",
        "```\n",
        "A- Explore o dataset, qual  é o número de features?\n",
        "\n",
        "B- Divida  o conjunto em treino e teste (30%)\n",
        "\n",
        "C- Aplique o classificador de árvore de decisão.\n",
        "\n"
      ]
    },
    {
      "cell_type": "code",
      "metadata": {
        "id": "DmjJoWx80v2I",
        "colab": {
          "base_uri": "https://localhost:8080/"
        },
        "outputId": "55046cbd-2979-41a8-cabb-99c11c4fe2e8"
      },
      "source": [
        "df = pd.read_csv('https://raw.githubusercontent.com/dbguilherme/machinelearning/main/dataset/hate_speech.csv',delimiter=\";\")\n",
        "\n",
        "\n",
        "\n",
        "#print(df['class'])\n",
        "df.shape\n"
      ],
      "execution_count": null,
      "outputs": [
        {
          "output_type": "execute_result",
          "data": {
            "text/plain": [
              "(24783, 6)"
            ]
          },
          "metadata": {},
          "execution_count": 36
        }
      ]
    },
    {
      "cell_type": "code",
      "metadata": {
        "id": "Z0-etv3RyDcB"
      },
      "source": [
        "#Conta a frequência de cada palavra e faz a substituição\n",
        "vectorizer = CountVectorizer()\n",
        "dataset = vectorizer.fit_transform(df['tweet'])"
      ],
      "execution_count": null,
      "outputs": []
    },
    {
      "cell_type": "code",
      "metadata": {
        "id": "7ioeVQUpGPJY",
        "colab": {
          "base_uri": "https://localhost:8080/"
        },
        "outputId": "a83ee76c-cea6-43cb-c443-a0f9162984e1"
      },
      "source": [
        "dataset"
      ],
      "execution_count": null,
      "outputs": [
        {
          "output_type": "execute_result",
          "data": {
            "text/plain": [
              "<Compressed Sparse Row sparse matrix of dtype 'int64'\n",
              "\twith 324050 stored elements and shape (24783, 35853)>"
            ]
          },
          "metadata": {},
          "execution_count": 38
        }
      ]
    },
    {
      "cell_type": "code",
      "metadata": {
        "id": "UTYkoUmmx5Du",
        "colab": {
          "base_uri": "https://localhost:8080/"
        },
        "outputId": "ae73bd5a-0528-464c-8cbc-99705165e468"
      },
      "source": [
        "y=df['class']\n",
        "\n",
        "X_train, X_test, y_train, y_test = train_test_split(dataset, y, test_size=0.3)\n",
        "X_train[0]\n",
        "dt = DecisionTreeClassifier(criterion=\"entropy\")\n",
        "\n",
        "dt = dt.fit(X_train, y_train)\n",
        "print(dt)\n",
        "y_pred = dt.predict(X_test)\n",
        "\n",
        "\n",
        "\n",
        "# #reportando as métricas\n",
        "print(classification_report(y_test, y_pred))\n",
        "\n"
      ],
      "execution_count": null,
      "outputs": [
        {
          "output_type": "stream",
          "name": "stdout",
          "text": [
            "DecisionTreeClassifier(criterion='entropy')\n",
            "              precision    recall  f1-score   support\n",
            "\n",
            "           0       0.26      0.20      0.23       420\n",
            "           1       0.93      0.94      0.93      5782\n",
            "           2       0.82      0.88      0.85      1233\n",
            "\n",
            "    accuracy                           0.88      7435\n",
            "   macro avg       0.67      0.67      0.67      7435\n",
            "weighted avg       0.88      0.88      0.88      7435\n",
            "\n"
          ]
        }
      ]
    },
    {
      "cell_type": "code",
      "metadata": {
        "id": "GExvDizL_g-_"
      },
      "source": [],
      "execution_count": null,
      "outputs": []
    },
    {
      "cell_type": "code",
      "metadata": {
        "id": "pW-IZ9ydybyT",
        "colab": {
          "base_uri": "https://localhost:8080/"
        },
        "outputId": "cb626a68-484e-464f-b273-8fe18374b7b9"
      },
      "source": [
        "X_train"
      ],
      "execution_count": null,
      "outputs": [
        {
          "output_type": "execute_result",
          "data": {
            "text/plain": [
              "<Compressed Sparse Row sparse matrix of dtype 'int64'\n",
              "\twith 226976 stored elements and shape (17348, 35853)>"
            ]
          },
          "metadata": {},
          "execution_count": 40
        }
      ]
    },
    {
      "cell_type": "code",
      "metadata": {
        "id": "Ye6ZNAqTyYGD"
      },
      "source": [],
      "execution_count": null,
      "outputs": []
    }
  ]
}