{
  "nbformat": 4,
  "nbformat_minor": 0,
  "metadata": {
    "colab": {
      "provenance": []
    },
    "kernelspec": {
      "display_name": "Python 3",
      "name": "python3"
    }
  },
  "cells": [
    {
      "cell_type": "markdown",
      "metadata": {
        "id": "EFSYdm73OsuS"
      },
      "source": [
        "#Extração de features\n",
        "\n",
        "\n",
        "Um dos grandes problemas de se trabalhar com textos é sua ausência de estrutura. Os algoritmos de machine learning dependem de dados estruturados com tamanho fixo."
      ]
    },
    {
      "cell_type": "markdown",
      "metadata": {
        "id": "2eQK46NzOp0w"
      },
      "source": [
        "##Modelo Bag of words"
      ]
    },
    {
      "cell_type": "markdown",
      "metadata": {
        "id": "HWby2DxtGiT5"
      },
      "source": [
        "\n",
        "\n",
        "\n",
        "A técnica de bag-of-words oportuniza que dados textos sejam mapeados para um vetor de tamanho fixo.\n",
        "\n",
        "\n",
        "\n",
        "Exemplo:\n",
        "<br>\n",
        " -  Documento 1: Rex foi passear pela manhã\n",
        "\n",
        " -  Documento 2: o cachorro Rex não gosta de passear de manhã\n",
        "<br>\n",
        "O vocabulário é:\n",
        "*  Rex\n",
        "*  foi\n",
        "*  passear\n",
        "*  pela\n",
        "*  manhã\n",
        "*  o\n",
        "*  cachorro\n",
        "*  não\n",
        "*  gosta\n",
        "*  de\n",
        "*  passear\n",
        "\n",
        "Nosso vocabulário contém 10 termos.\n",
        "\n",
        "documento 1 -> [1,1,1,1,1,0,0,0,0,0]\n",
        "\n",
        "documento 2 -> [1,0,1,0,1,1,1,1,1,1]\n",
        "\n"
      ]
    },
    {
      "cell_type": "markdown",
      "metadata": {
        "id": "G7V9gY6fPl-S"
      },
      "source": [
        "##Exemplo de código"
      ]
    },
    {
      "cell_type": "code",
      "metadata": {
        "colab": {
          "base_uri": "https://localhost:8080/"
        },
        "id": "nJqP4Gu6IUFo",
        "outputId": "5d3e322d-5204-4d6a-d419-875c9950133a"
      },
      "source": [
        "import pandas as pd\n",
        "from sklearn.feature_extraction.text import CountVectorizer, TfidfVectorizer\n",
        "\n",
        "documento1= 'Rex foi passear pela manhã'\n",
        "documento2= 'o cachorro Rex não gosta de passear de manhã'\n",
        "\n",
        "\n",
        "\n",
        "vectorizer = CountVectorizer() #stop_words='english'\n",
        "#Converte as strings em números\n",
        "count_data = vectorizer.fit_transform([documento1,documento2])\n",
        "#print nomes das features\n",
        "print(vectorizer.get_feature_names_out())\n",
        "\n",
        "#print array de features\n",
        "corpus=count_data.toarray()\n",
        "\n",
        "print(f\"{corpus}\")\n",
        "\n"
      ],
      "execution_count": null,
      "outputs": [
        {
          "output_type": "stream",
          "name": "stdout",
          "text": [
            "['cachorro' 'de' 'foi' 'gosta' 'manhã' 'não' 'passear' 'pela' 'rex']\n",
            "[[0 0 1 0 1 0 1 1 1]\n",
            " [1 2 0 1 1 1 1 0 1]]\n"
          ]
        }
      ]
    },
    {
      "cell_type": "code",
      "metadata": {
        "id": "LDbBvBrzQLus",
        "colab": {
          "base_uri": "https://localhost:8080/"
        },
        "outputId": "dac96fe5-1d03-40a3-94af-ada64d3d4bbc"
      },
      "source": [
        "#consulta\n",
        "query=\"gosta\"\n",
        "bagquery=vectorizer.transform([query]).toarray()\n",
        "print(bagquery)"
      ],
      "execution_count": null,
      "outputs": [
        {
          "output_type": "stream",
          "name": "stdout",
          "text": [
            "[[0 0 0 1 0 0 0 0 0]]\n"
          ]
        }
      ]
    },
    {
      "cell_type": "code",
      "metadata": {
        "id": "yJx7pDRsLDvW",
        "colab": {
          "base_uri": "https://localhost:8080/"
        },
        "outputId": "f026a45a-4011-4d52-d411-dfe1225cf8cc"
      },
      "source": [
        "for doc in corpus:\n",
        "  print(doc & bagquery)"
      ],
      "execution_count": null,
      "outputs": [
        {
          "output_type": "stream",
          "name": "stdout",
          "text": [
            "[[0 0 0 0 0 0 0 0 0]]\n",
            "[[0 0 0 1 0 0 0 0 0]]\n"
          ]
        }
      ]
    },
    {
      "cell_type": "markdown",
      "metadata": {
        "id": "o1IOxKDlQoLi"
      },
      "source": [
        "#TF-IDF"
      ]
    },
    {
      "cell_type": "markdown",
      "metadata": {
        "id": "eq5UCCm7i5Wy"
      },
      "source": [
        "\n",
        "\n",
        "TF-IDF representa \"frequencia do termo - inverso da frequência do documento\". Esta técnica quantifica o peso de uma palavra no documento, ou seja a sua importância no documento. Palavras muito frequentes na coleção, não são relevantes para recuperar os documentos por serem muito comuns.\n",
        "\n",
        "\n",
        "Se o termo `casa` se repete 1 vez  em um documento com 10 termos e se repete 10 em um documento com 100 termos, podemos dizer que o termo é mais importante em um dos documentos? Dessa forma, a frequência do termo deve ser normalizada para evitar uma análise enviesada.\n",
        "\n",
        "\n",
        "Por outro lado, se um termo está presente em todos os documentos da coleção, ex: `de`. Podemos dizer que ele é importante ou não?\n",
        "\n",
        "Quando calculamos a IDF queremos medir a importância do termo na coleção. Termos muito comuns terão um baixo IDF, representando quão comuns os termos são.\n",
        "\n",
        "\n",
        "\n",
        "\n"
      ]
    },
    {
      "cell_type": "markdown",
      "metadata": {
        "id": "inkhYc_lWKnq"
      },
      "source": [
        "\n",
        "**Fórmula**:\n",
        "\n",
        "\n",
        "\n",
        "$$\n",
        "\\text{TF-IDF}(t, d, D) = \\text{TF}(t, d) \\times (\\text{IDF}(t, D))\n",
        "$$\n",
        "\n",
        "Detalhes:\n",
        "\n",
        "TF(t, d) = # de vezes que t aparece in d / # termos in d\n",
        "\n",
        "IDF(t, D) =  log (# documentos / #documentos que contém t)\n"
      ]
    },
    {
      "cell_type": "markdown",
      "metadata": {
        "id": "iLqcYdohSDhN"
      },
      "source": [
        "## Exemplo:\n",
        "\n",
        "Documento 1: \"Rex foi passear pela manhã\"\n",
        "\n",
        "Documento 2: \"o cachorro Rex não gosta de passear de manhã\"\n",
        "\n",
        "\n",
        "\n",
        "\n",
        "### Cálculo para o termo \"Rex\" no Documento 2:\n",
        "\n",
        "1. **Term Frequency (TF)**:\n",
        "   $$\n",
        "   \\text{TF}(\\text{Rex}, \\text{Doc2}) = \\frac{1}{9} \\approx 0.111\n",
        "   $$\n",
        "   *(9 termos no total no Documento 2)*\n",
        "\n",
        "2. **Inverse Document Frequency (IDF)**:\n",
        "   $$\n",
        "   \\text{IDF}(\\text{Rex}, \\text{corpus}) = \\log\\left(\\frac{2}{2}\\right) = 0\n",
        "   $$\n",
        "   *(Rex aparece em 2/2 documentos)*\n",
        "\n",
        "3. **TF-IDF**:\n",
        "   $$\n",
        "   \\text{TF-IDF} = \\frac{1}{9} \\times 0 = 0\n",
        "   $$\n",
        "\n",
        "### Cálculo para o termo \"gosta\" no Documento 2:\n",
        "\n",
        "1. **Term Frequency (TF)**:\n",
        "   $$\n",
        "   \\text{TF}(\\text{gosta}, \\text{Doc2}) = \\frac{1}{9} \\approx 0.111\n",
        "   $$\n",
        "\n",
        "2. **Inverse Document Frequency (IDF)**:\n",
        "   $$\n",
        "   \\text{IDF}(\\text{gosta}, \\text{corpus}) = \\log\\left(\\frac{2}{1}\\right) \\approx 0.301\n",
        "   $$\n",
        "   *(gosta aparece em 1/2 documentos)*\n",
        "\n",
        "3. **TF-IDF**:\n",
        "   $$\n",
        "   \\text{TF-IDF} = \\frac{1}{9} \\times 0.301 \\approx 0.033\n",
        "   $$\n",
        "\n",
        "### 🔍 Interpretação:\n",
        "- \"Rex\" tem TF-IDF = 0 porque aparece em **todos** documentos (IDF=0)\n",
        "- \"gosta\" tem valor positivo (0.033) por ser único ao Documento 2\n",
        "\n",
        "Documento 1: \"Rex foi passear pela manhã\"\n",
        "\n",
        "Documento 2: \"o cachorro Rex não gosta de passear de manhã\"\n",
        "\n",
        "\n"
      ]
    },
    {
      "cell_type": "markdown",
      "metadata": {
        "id": "IMniRAqPbyof"
      },
      "source": [
        "| Palavra/doc | TF  | IDF          | TF*IDF |               |\n",
        "|-------------|-----|--------------|--------|---------------|\n",
        "| Rex         | 1/9 | log(2/2)=0   | 0      | 0             |\n",
        "| passear     | 1/9 | log(2/2)=0   | 0      | 0             |\n",
        "| manhã       | 1/9 | log(2/2)=0   | 0      | 0             |\n",
        "| cachorro    | 1/9 | log(2/1)=0.3 | 0      | 0.11*0.3=0.03 |\n",
        "| não         | 1/9 | log(2/       |        |               |\n",
        "| gosta       |1/9  |              |        |               |\n",
        "| passear     |1/9  |              |        |               |\n",
        "| de          |2/9   |              |        |               |"
      ]
    },
    {
      "cell_type": "markdown",
      "metadata": {
        "id": "2KwNEkYaS4xc"
      },
      "source": [
        "##Exemplo código:"
      ]
    },
    {
      "cell_type": "code",
      "metadata": {
        "id": "Ts6TQ439gGFw"
      },
      "source": [
        "import numpy as np\n",
        "docs = np.array([\n",
        "        'Rex foi passear de manhã',\n",
        "        'o cachorro Rex não gosta de passear de manhã'\n",
        "        ])\n",
        "\n"
      ],
      "execution_count": null,
      "outputs": []
    },
    {
      "cell_type": "code",
      "metadata": {
        "id": "VdDAsUcsZ3ET"
      },
      "source": [
        "from sklearn.feature_extraction.text import TfidfVectorizer\n",
        "from nltk.corpus import stopwords\n",
        "\n",
        "vectorizer = TfidfVectorizer()#stop_words=('english'))\n",
        "X = vectorizer.fit_transform(docs)\n",
        "\n",
        "feature_names = vectorizer.get_feature_names_out()\n",
        "dense = X.todense()\n",
        "denselist = dense.tolist()\n",
        "df = pd.DataFrame(denselist, columns=feature_names)\n"
      ],
      "execution_count": null,
      "outputs": []
    },
    {
      "cell_type": "markdown",
      "metadata": {
        "id": "vUNR0PY3d-Es"
      },
      "source": [
        "# Exemplo\n",
        "1- O que poderia ser feito para reduzir a influência do termo `de` no doc 2?\n",
        "\n",
        "2- Calcular o TF-IDF para a coleção  envolvendo discurso de ódio do [link](https://raw.githubusercontent.com/t-davidson/hate-speech-and-offensive-language/master/data/labeled_data.csv)\n",
        "\n",
        "3- Dividir  o conjunto em treino (70%) e teste (30%)\n",
        "\n",
        "4- Aplicar o classificador Random Forest.\n",
        "\n",
        "\n",
        "\n",
        "\n"
      ]
    },
    {
      "cell_type": "code",
      "metadata": {
        "cellView": "form",
        "id": "ovLbjQlqjFZU"
      },
      "source": [
        "#@title Bibliotecas\n",
        "\n",
        "#4\n",
        "import numpy as np\n",
        "from sklearn.feature_extraction.text import TfidfTransformer\n",
        "from sklearn.datasets import load_iris\n",
        "from sklearn import tree\n",
        "from sklearn.tree import DecisionTreeClassifier\n",
        "from sklearn.ensemble import RandomForestClassifier\n",
        "from sklearn.svm import SVC\n",
        "from sklearn.model_selection import train_test_split\n",
        "import seaborn as sns\n",
        "import pandas as pd\n",
        "from sklearn.metrics import classification_report\n",
        "from sklearn.preprocessing import LabelEncoder\n",
        "import numpy as np\n",
        "from sklearn.feature_extraction.text import CountVectorizer\n",
        "from sklearn import metrics"
      ],
      "execution_count": null,
      "outputs": []
    },
    {
      "cell_type": "code",
      "metadata": {
        "id": "8uyFniK3YvBJ"
      },
      "source": [
        "\n",
        "\n",
        "df = pd.read_csv('https://raw.githubusercontent.com/dbguilherme/machinelearning/main/dataset/hate_speech.csv',delimiter=\";\")\n",
        "\n",
        "tfidf = TfidfVectorizer(stop_words=\"english\",lowercase=True,max_features=5000)\n",
        "\n",
        "X_tfidf = tfidf.fit_transform(df['tweet'])\n",
        "\n"
      ],
      "execution_count": null,
      "outputs": []
    },
    {
      "cell_type": "code",
      "source": [
        "top_n = 20\n",
        "tfidf_df = pd.DataFrame(X_tfidf.toarray(), columns=tfidf.get_feature_names_out())\n",
        "\n",
        "tfidf_means = tfidf_df.mean().sort_values(ascending=False).head(top_n)\n",
        "\n",
        "print(\"\\nTop TF-IDF Features:\\n\", tfidf_means)\n"
      ],
      "metadata": {
        "colab": {
          "base_uri": "https://localhost:8080/"
        },
        "id": "Yua5KapzAkkE",
        "outputId": "44e32f21-3233-4d4e-d2eb-0019e42fdb03"
      },
      "execution_count": null,
      "outputs": [
        {
          "output_type": "stream",
          "name": "stdout",
          "text": [
            "\n",
            "Top TF-IDF Features:\n",
            " bitch      0.056435\n",
            "rt         0.043656\n",
            "bitches    0.027465\n",
            "http       0.024307\n",
            "hoes       0.023703\n",
            "128514     0.023390\n",
            "pussy      0.022092\n",
            "like       0.021559\n",
            "hoe        0.020714\n",
            "fuck       0.014656\n",
            "ass        0.014595\n",
            "don        0.014237\n",
            "trash      0.014013\n",
            "8220       0.013437\n",
            "8221       0.013270\n",
            "just       0.013235\n",
            "got        0.012943\n",
            "shit       0.012418\n",
            "nigga      0.012217\n",
            "lol        0.012087\n",
            "dtype: float64\n"
          ]
        }
      ]
    },
    {
      "cell_type": "code",
      "metadata": {
        "id": "JZMHPsO5Fg4B",
        "colab": {
          "base_uri": "https://localhost:8080/"
        },
        "outputId": "d39e3807-a7d1-4305-8abe-22b016b1c2ae"
      },
      "source": [
        "y=df['class']\n",
        "\n",
        "X_train, X_test, y_train, y_test = train_test_split(X_tfidf, y, test_size=0.3)\n",
        "X_train[0]\n",
        "dt = SVC()\n",
        "\n",
        "dt = dt.fit(X_train, y_train)\n",
        "y_pred = dt.predict(X_test)\n",
        "\n",
        "\n",
        "# #reportando as métricas\n",
        "print(classification_report(y_test, y_pred))"
      ],
      "execution_count": null,
      "outputs": [
        {
          "output_type": "stream",
          "name": "stdout",
          "text": [
            "              precision    recall  f1-score   support\n",
            "\n",
            "           0       0.70      0.09      0.16       474\n",
            "           1       0.91      0.97      0.94      5670\n",
            "           2       0.86      0.87      0.86      1291\n",
            "\n",
            "    accuracy                           0.90      7435\n",
            "   macro avg       0.82      0.64      0.65      7435\n",
            "weighted avg       0.89      0.90      0.88      7435\n",
            "\n"
          ]
        }
      ]
    },
    {
      "cell_type": "markdown",
      "source": [
        "# Using count"
      ],
      "metadata": {
        "id": "D146C-6b6h0G"
      }
    },
    {
      "cell_type": "code",
      "metadata": {
        "id": "sL4G2_D-H5Qm",
        "colab": {
          "base_uri": "https://localhost:8080/",
          "height": 261
        },
        "outputId": "bf2ee9e5-3657-4579-a6c1-e6c85add92b5"
      },
      "source": [
        "import pandas as pd\n",
        "from sklearn.feature_extraction.text import CountVectorizer\n",
        "\n",
        "# Load data\n",
        "df = pd.read_csv('https://raw.githubusercontent.com/dbguilherme/machinelearning/main/dataset/hate_speech.csv', delimiter=\";\")\n",
        "\n",
        "# Use CountVectorizer instead of TfidfVectorizer\n",
        "count_vectorizer = CountVectorizer(\n",
        "    stop_words=\"english\",\n",
        "    lowercase=True,\n",
        "    max_features=5000\n",
        ")\n",
        "\n",
        "# Get raw term counts (frequency)\n",
        "X_count = count_vectorizer.fit_transform(df['tweet'])\n",
        "\n",
        "# Show results\n",
        "print(\"Vocabulary size:\", len(count_vectorizer.vocabulary_))\n",
        "print(\"Sample features:\", list(count_vectorizer.vocabulary_.items())[:5])\n",
        "df.head()"
      ],
      "execution_count": null,
      "outputs": [
        {
          "output_type": "stream",
          "name": "stdout",
          "text": [
            "Vocabulary size: 5000\n",
            "Sample features: [('rt', np.int64(3750)), ('woman', np.int64(4872)), ('shouldn', np.int64(3937)), ('complain', np.int64(1153)), ('cleaning', np.int64(1086))]\n"
          ]
        },
        {
          "output_type": "execute_result",
          "data": {
            "text/plain": [
              "   Unnamed: 0  Unnamed: 1  Unnamed: 2  Unnamed: 3  class  \\\n",
              "0         NaN         NaN         NaN         NaN      2   \n",
              "1         NaN         NaN         NaN         NaN      1   \n",
              "2         NaN         NaN         NaN         NaN      1   \n",
              "3         NaN         NaN         NaN         NaN      1   \n",
              "4         NaN         NaN         NaN         NaN      1   \n",
              "\n",
              "                                               tweet  \n",
              "0  !!! RT @mayasolovely: As a woman you shouldn't...  \n",
              "1  !!!!! RT @mleew17: boy dats cold...tyga dwn ba...  \n",
              "2  !!!!!!! RT @UrKindOfBrand Dawg!!!! RT @80sbaby...  \n",
              "3  !!!!!!!!! RT @C_G_Anderson: @viva_based she lo...  \n",
              "4  !!!!!!!!!!!!! RT @ShenikaRoberts: The shit you...  "
            ],
            "text/html": [
              "\n",
              "  <div id=\"df-1a5db774-4832-4db0-8f86-ea7f007a7229\" class=\"colab-df-container\">\n",
              "    <div>\n",
              "<style scoped>\n",
              "    .dataframe tbody tr th:only-of-type {\n",
              "        vertical-align: middle;\n",
              "    }\n",
              "\n",
              "    .dataframe tbody tr th {\n",
              "        vertical-align: top;\n",
              "    }\n",
              "\n",
              "    .dataframe thead th {\n",
              "        text-align: right;\n",
              "    }\n",
              "</style>\n",
              "<table border=\"1\" class=\"dataframe\">\n",
              "  <thead>\n",
              "    <tr style=\"text-align: right;\">\n",
              "      <th></th>\n",
              "      <th>Unnamed: 0</th>\n",
              "      <th>Unnamed: 1</th>\n",
              "      <th>Unnamed: 2</th>\n",
              "      <th>Unnamed: 3</th>\n",
              "      <th>class</th>\n",
              "      <th>tweet</th>\n",
              "    </tr>\n",
              "  </thead>\n",
              "  <tbody>\n",
              "    <tr>\n",
              "      <th>0</th>\n",
              "      <td>NaN</td>\n",
              "      <td>NaN</td>\n",
              "      <td>NaN</td>\n",
              "      <td>NaN</td>\n",
              "      <td>2</td>\n",
              "      <td>!!! RT @mayasolovely: As a woman you shouldn't...</td>\n",
              "    </tr>\n",
              "    <tr>\n",
              "      <th>1</th>\n",
              "      <td>NaN</td>\n",
              "      <td>NaN</td>\n",
              "      <td>NaN</td>\n",
              "      <td>NaN</td>\n",
              "      <td>1</td>\n",
              "      <td>!!!!! RT @mleew17: boy dats cold...tyga dwn ba...</td>\n",
              "    </tr>\n",
              "    <tr>\n",
              "      <th>2</th>\n",
              "      <td>NaN</td>\n",
              "      <td>NaN</td>\n",
              "      <td>NaN</td>\n",
              "      <td>NaN</td>\n",
              "      <td>1</td>\n",
              "      <td>!!!!!!! RT @UrKindOfBrand Dawg!!!! RT @80sbaby...</td>\n",
              "    </tr>\n",
              "    <tr>\n",
              "      <th>3</th>\n",
              "      <td>NaN</td>\n",
              "      <td>NaN</td>\n",
              "      <td>NaN</td>\n",
              "      <td>NaN</td>\n",
              "      <td>1</td>\n",
              "      <td>!!!!!!!!! RT @C_G_Anderson: @viva_based she lo...</td>\n",
              "    </tr>\n",
              "    <tr>\n",
              "      <th>4</th>\n",
              "      <td>NaN</td>\n",
              "      <td>NaN</td>\n",
              "      <td>NaN</td>\n",
              "      <td>NaN</td>\n",
              "      <td>1</td>\n",
              "      <td>!!!!!!!!!!!!! RT @ShenikaRoberts: The shit you...</td>\n",
              "    </tr>\n",
              "  </tbody>\n",
              "</table>\n",
              "</div>\n",
              "    <div class=\"colab-df-buttons\">\n",
              "\n",
              "  <div class=\"colab-df-container\">\n",
              "    <button class=\"colab-df-convert\" onclick=\"convertToInteractive('df-1a5db774-4832-4db0-8f86-ea7f007a7229')\"\n",
              "            title=\"Convert this dataframe to an interactive table.\"\n",
              "            style=\"display:none;\">\n",
              "\n",
              "  <svg xmlns=\"http://www.w3.org/2000/svg\" height=\"24px\" viewBox=\"0 -960 960 960\">\n",
              "    <path d=\"M120-120v-720h720v720H120Zm60-500h600v-160H180v160Zm220 220h160v-160H400v160Zm0 220h160v-160H400v160ZM180-400h160v-160H180v160Zm440 0h160v-160H620v160ZM180-180h160v-160H180v160Zm440 0h160v-160H620v160Z\"/>\n",
              "  </svg>\n",
              "    </button>\n",
              "\n",
              "  <style>\n",
              "    .colab-df-container {\n",
              "      display:flex;\n",
              "      gap: 12px;\n",
              "    }\n",
              "\n",
              "    .colab-df-convert {\n",
              "      background-color: #E8F0FE;\n",
              "      border: none;\n",
              "      border-radius: 50%;\n",
              "      cursor: pointer;\n",
              "      display: none;\n",
              "      fill: #1967D2;\n",
              "      height: 32px;\n",
              "      padding: 0 0 0 0;\n",
              "      width: 32px;\n",
              "    }\n",
              "\n",
              "    .colab-df-convert:hover {\n",
              "      background-color: #E2EBFA;\n",
              "      box-shadow: 0px 1px 2px rgba(60, 64, 67, 0.3), 0px 1px 3px 1px rgba(60, 64, 67, 0.15);\n",
              "      fill: #174EA6;\n",
              "    }\n",
              "\n",
              "    .colab-df-buttons div {\n",
              "      margin-bottom: 4px;\n",
              "    }\n",
              "\n",
              "    [theme=dark] .colab-df-convert {\n",
              "      background-color: #3B4455;\n",
              "      fill: #D2E3FC;\n",
              "    }\n",
              "\n",
              "    [theme=dark] .colab-df-convert:hover {\n",
              "      background-color: #434B5C;\n",
              "      box-shadow: 0px 1px 3px 1px rgba(0, 0, 0, 0.15);\n",
              "      filter: drop-shadow(0px 1px 2px rgba(0, 0, 0, 0.3));\n",
              "      fill: #FFFFFF;\n",
              "    }\n",
              "  </style>\n",
              "\n",
              "    <script>\n",
              "      const buttonEl =\n",
              "        document.querySelector('#df-1a5db774-4832-4db0-8f86-ea7f007a7229 button.colab-df-convert');\n",
              "      buttonEl.style.display =\n",
              "        google.colab.kernel.accessAllowed ? 'block' : 'none';\n",
              "\n",
              "      async function convertToInteractive(key) {\n",
              "        const element = document.querySelector('#df-1a5db774-4832-4db0-8f86-ea7f007a7229');\n",
              "        const dataTable =\n",
              "          await google.colab.kernel.invokeFunction('convertToInteractive',\n",
              "                                                    [key], {});\n",
              "        if (!dataTable) return;\n",
              "\n",
              "        const docLinkHtml = 'Like what you see? Visit the ' +\n",
              "          '<a target=\"_blank\" href=https://colab.research.google.com/notebooks/data_table.ipynb>data table notebook</a>'\n",
              "          + ' to learn more about interactive tables.';\n",
              "        element.innerHTML = '';\n",
              "        dataTable['output_type'] = 'display_data';\n",
              "        await google.colab.output.renderOutput(dataTable, element);\n",
              "        const docLink = document.createElement('div');\n",
              "        docLink.innerHTML = docLinkHtml;\n",
              "        element.appendChild(docLink);\n",
              "      }\n",
              "    </script>\n",
              "  </div>\n",
              "\n",
              "\n",
              "    <div id=\"df-7f71abf3-bcb2-4a6d-b94c-71deb2e85113\">\n",
              "      <button class=\"colab-df-quickchart\" onclick=\"quickchart('df-7f71abf3-bcb2-4a6d-b94c-71deb2e85113')\"\n",
              "                title=\"Suggest charts\"\n",
              "                style=\"display:none;\">\n",
              "\n",
              "<svg xmlns=\"http://www.w3.org/2000/svg\" height=\"24px\"viewBox=\"0 0 24 24\"\n",
              "     width=\"24px\">\n",
              "    <g>\n",
              "        <path d=\"M19 3H5c-1.1 0-2 .9-2 2v14c0 1.1.9 2 2 2h14c1.1 0 2-.9 2-2V5c0-1.1-.9-2-2-2zM9 17H7v-7h2v7zm4 0h-2V7h2v10zm4 0h-2v-4h2v4z\"/>\n",
              "    </g>\n",
              "</svg>\n",
              "      </button>\n",
              "\n",
              "<style>\n",
              "  .colab-df-quickchart {\n",
              "      --bg-color: #E8F0FE;\n",
              "      --fill-color: #1967D2;\n",
              "      --hover-bg-color: #E2EBFA;\n",
              "      --hover-fill-color: #174EA6;\n",
              "      --disabled-fill-color: #AAA;\n",
              "      --disabled-bg-color: #DDD;\n",
              "  }\n",
              "\n",
              "  [theme=dark] .colab-df-quickchart {\n",
              "      --bg-color: #3B4455;\n",
              "      --fill-color: #D2E3FC;\n",
              "      --hover-bg-color: #434B5C;\n",
              "      --hover-fill-color: #FFFFFF;\n",
              "      --disabled-bg-color: #3B4455;\n",
              "      --disabled-fill-color: #666;\n",
              "  }\n",
              "\n",
              "  .colab-df-quickchart {\n",
              "    background-color: var(--bg-color);\n",
              "    border: none;\n",
              "    border-radius: 50%;\n",
              "    cursor: pointer;\n",
              "    display: none;\n",
              "    fill: var(--fill-color);\n",
              "    height: 32px;\n",
              "    padding: 0;\n",
              "    width: 32px;\n",
              "  }\n",
              "\n",
              "  .colab-df-quickchart:hover {\n",
              "    background-color: var(--hover-bg-color);\n",
              "    box-shadow: 0 1px 2px rgba(60, 64, 67, 0.3), 0 1px 3px 1px rgba(60, 64, 67, 0.15);\n",
              "    fill: var(--button-hover-fill-color);\n",
              "  }\n",
              "\n",
              "  .colab-df-quickchart-complete:disabled,\n",
              "  .colab-df-quickchart-complete:disabled:hover {\n",
              "    background-color: var(--disabled-bg-color);\n",
              "    fill: var(--disabled-fill-color);\n",
              "    box-shadow: none;\n",
              "  }\n",
              "\n",
              "  .colab-df-spinner {\n",
              "    border: 2px solid var(--fill-color);\n",
              "    border-color: transparent;\n",
              "    border-bottom-color: var(--fill-color);\n",
              "    animation:\n",
              "      spin 1s steps(1) infinite;\n",
              "  }\n",
              "\n",
              "  @keyframes spin {\n",
              "    0% {\n",
              "      border-color: transparent;\n",
              "      border-bottom-color: var(--fill-color);\n",
              "      border-left-color: var(--fill-color);\n",
              "    }\n",
              "    20% {\n",
              "      border-color: transparent;\n",
              "      border-left-color: var(--fill-color);\n",
              "      border-top-color: var(--fill-color);\n",
              "    }\n",
              "    30% {\n",
              "      border-color: transparent;\n",
              "      border-left-color: var(--fill-color);\n",
              "      border-top-color: var(--fill-color);\n",
              "      border-right-color: var(--fill-color);\n",
              "    }\n",
              "    40% {\n",
              "      border-color: transparent;\n",
              "      border-right-color: var(--fill-color);\n",
              "      border-top-color: var(--fill-color);\n",
              "    }\n",
              "    60% {\n",
              "      border-color: transparent;\n",
              "      border-right-color: var(--fill-color);\n",
              "    }\n",
              "    80% {\n",
              "      border-color: transparent;\n",
              "      border-right-color: var(--fill-color);\n",
              "      border-bottom-color: var(--fill-color);\n",
              "    }\n",
              "    90% {\n",
              "      border-color: transparent;\n",
              "      border-bottom-color: var(--fill-color);\n",
              "    }\n",
              "  }\n",
              "</style>\n",
              "\n",
              "      <script>\n",
              "        async function quickchart(key) {\n",
              "          const quickchartButtonEl =\n",
              "            document.querySelector('#' + key + ' button');\n",
              "          quickchartButtonEl.disabled = true;  // To prevent multiple clicks.\n",
              "          quickchartButtonEl.classList.add('colab-df-spinner');\n",
              "          try {\n",
              "            const charts = await google.colab.kernel.invokeFunction(\n",
              "                'suggestCharts', [key], {});\n",
              "          } catch (error) {\n",
              "            console.error('Error during call to suggestCharts:', error);\n",
              "          }\n",
              "          quickchartButtonEl.classList.remove('colab-df-spinner');\n",
              "          quickchartButtonEl.classList.add('colab-df-quickchart-complete');\n",
              "        }\n",
              "        (() => {\n",
              "          let quickchartButtonEl =\n",
              "            document.querySelector('#df-7f71abf3-bcb2-4a6d-b94c-71deb2e85113 button');\n",
              "          quickchartButtonEl.style.display =\n",
              "            google.colab.kernel.accessAllowed ? 'block' : 'none';\n",
              "        })();\n",
              "      </script>\n",
              "    </div>\n",
              "\n",
              "    </div>\n",
              "  </div>\n"
            ],
            "application/vnd.google.colaboratory.intrinsic+json": {
              "type": "dataframe",
              "variable_name": "df",
              "summary": "{\n  \"name\": \"df\",\n  \"rows\": 24783,\n  \"fields\": [\n    {\n      \"column\": \"Unnamed: 0\",\n      \"properties\": {\n        \"dtype\": \"number\",\n        \"std\": null,\n        \"min\": null,\n        \"max\": null,\n        \"num_unique_values\": 0,\n        \"samples\": [],\n        \"semantic_type\": \"\",\n        \"description\": \"\"\n      }\n    },\n    {\n      \"column\": \"Unnamed: 1\",\n      \"properties\": {\n        \"dtype\": \"number\",\n        \"std\": null,\n        \"min\": null,\n        \"max\": null,\n        \"num_unique_values\": 0,\n        \"samples\": [],\n        \"semantic_type\": \"\",\n        \"description\": \"\"\n      }\n    },\n    {\n      \"column\": \"Unnamed: 2\",\n      \"properties\": {\n        \"dtype\": \"number\",\n        \"std\": null,\n        \"min\": null,\n        \"max\": null,\n        \"num_unique_values\": 0,\n        \"samples\": [],\n        \"semantic_type\": \"\",\n        \"description\": \"\"\n      }\n    },\n    {\n      \"column\": \"Unnamed: 3\",\n      \"properties\": {\n        \"dtype\": \"number\",\n        \"std\": null,\n        \"min\": null,\n        \"max\": null,\n        \"num_unique_values\": 0,\n        \"samples\": [],\n        \"semantic_type\": \"\",\n        \"description\": \"\"\n      }\n    },\n    {\n      \"column\": \"class\",\n      \"properties\": {\n        \"dtype\": \"number\",\n        \"std\": 0,\n        \"min\": 0,\n        \"max\": 2,\n        \"num_unique_values\": 3,\n        \"samples\": [],\n        \"semantic_type\": \"\",\n        \"description\": \"\"\n      }\n    },\n    {\n      \"column\": \"tweet\",\n      \"properties\": {\n        \"dtype\": \"string\",\n        \"num_unique_values\": 24783,\n        \"samples\": [],\n        \"semantic_type\": \"\",\n        \"description\": \"\"\n      }\n    }\n  ]\n}"
            }
          },
          "metadata": {},
          "execution_count": 12
        }
      ]
    },
    {
      "cell_type": "code",
      "source": [
        "top_n = 10\n",
        "\n",
        "count_df = pd.DataFrame(X_count.toarray(), columns=count_vectorizer.get_feature_names_out())\n",
        "\n",
        "count_sums = count_df.sum().sort_values(ascending=False).head(top_n)\n",
        "\n",
        "\n",
        "print(\"Top Count Features:\\n\", count_sums)\n",
        "print(\"\\nTop TF-IDF Features:\\n\", tfidf_means)\n"
      ],
      "metadata": {
        "colab": {
          "base_uri": "https://localhost:8080/"
        },
        "id": "gP9C6_AHAdlC",
        "outputId": "57770817-5af1-4dda-849c-ad668e17f6cd"
      },
      "execution_count": null,
      "outputs": [
        {
          "output_type": "stream",
          "name": "stdout",
          "text": [
            "Top Count Features:\n",
            " bitch      8348\n",
            "rt         7646\n",
            "128514     3241\n",
            "bitches    3119\n",
            "http       2915\n",
            "like       2787\n",
            "hoes       2403\n",
            "pussy      2159\n",
            "hoe        1951\n",
            "8220       1726\n",
            "dtype: int64\n",
            "\n",
            "Top TF-IDF Features:\n",
            " bitch      0.056435\n",
            "rt         0.043656\n",
            "bitches    0.027465\n",
            "http       0.024307\n",
            "hoes       0.023703\n",
            "128514     0.023390\n",
            "pussy      0.022092\n",
            "like       0.021559\n",
            "hoe        0.020714\n",
            "fuck       0.014656\n",
            "ass        0.014595\n",
            "don        0.014237\n",
            "trash      0.014013\n",
            "8220       0.013437\n",
            "8221       0.013270\n",
            "just       0.013235\n",
            "got        0.012943\n",
            "shit       0.012418\n",
            "nigga      0.012217\n",
            "lol        0.012087\n",
            "dtype: float64\n"
          ]
        }
      ]
    },
    {
      "cell_type": "code",
      "source": [
        "y=df['class']\n",
        "\n",
        "X_train, X_test, y_train, y_test = train_test_split(X_count, y, test_size=0.3)\n",
        "\n",
        "dt = SVC()\n",
        "\n",
        "dt = dt.fit(X_train, y_train)\n",
        "y_pred = dt.predict(X_test)\n",
        "\n",
        "\n",
        "\n",
        "# #reportando as métricas\n",
        "print(classification_report(y_test, y_pred))"
      ],
      "metadata": {
        "colab": {
          "base_uri": "https://localhost:8080/"
        },
        "id": "B6RuLdgI6xg-",
        "outputId": "2f03bfd9-378e-4963-f55d-51f9933fd876"
      },
      "execution_count": null,
      "outputs": [
        {
          "output_type": "stream",
          "name": "stdout",
          "text": [
            "              precision    recall  f1-score   support\n",
            "\n",
            "           0       0.59      0.06      0.11       427\n",
            "           1       0.92      0.97      0.94      5742\n",
            "           2       0.82      0.89      0.86      1266\n",
            "\n",
            "    accuracy                           0.90      7435\n",
            "   macro avg       0.78      0.64      0.64      7435\n",
            "weighted avg       0.89      0.90      0.88      7435\n",
            "\n"
          ]
        }
      ]
    },
    {
      "cell_type": "markdown",
      "source": [
        "# Exercício:\n",
        "\n",
        "1- Compare o TF-IDF com o tokenizador pela contagem de palavras no dataset abaixo. Use o classificador SVC.\n",
        "\n",
        "2- Qual método foi melhor?"
      ],
      "metadata": {
        "id": "zJcPGk8lBpzS"
      }
    },
    {
      "cell_type": "code",
      "source": [
        "from sklearn.datasets import fetch_20newsgroups\n",
        "from sklearn.feature_extraction.text import CountVectorizer, TfidfVectorizer\n",
        "from sklearn.naive_bayes import MultinomialNB\n",
        "from sklearn.pipeline import make_pipeline\n",
        "from sklearn.metrics import classification_report, accuracy_score\n",
        "\n",
        "# Select categories (to keep it quick and interpretable)\n",
        "classes = ['sci.space', 'rec.sport.baseball', 'comp.graphics']\n",
        "\n",
        "# Load training and test data\n",
        "train = fetch_20newsgroups(subset='train', categories=classes, remove=('headers', 'footers', 'quotes'))\n",
        "test = fetch_20newsgroups(subset='test', categories=classes, remove=('headers', 'footers', 'quotes'))\n",
        "\n"
      ],
      "metadata": {
        "id": "eeluXHKtB9jv"
      },
      "execution_count": null,
      "outputs": []
    },
    {
      "cell_type": "code",
      "source": [
        "\n",
        "\n",
        "X_train, X_test, y_train, y_test = train_test_split(X_count, y, test_size=0.3)\n",
        "\n",
        "\n",
        "\n"
      ],
      "metadata": {
        "id": "FNIl8ahp_HWl"
      },
      "execution_count": null,
      "outputs": []
    }
  ]
}