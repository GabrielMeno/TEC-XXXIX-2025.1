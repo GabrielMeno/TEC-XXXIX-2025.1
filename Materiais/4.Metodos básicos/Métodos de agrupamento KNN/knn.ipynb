{
  "nbformat": 4,
  "nbformat_minor": 0,
  "metadata": {
    "colab": {
      "provenance": []
    },
    "kernelspec": {
      "name": "python3",
      "display_name": "Python 3"
    },
    "language_info": {
      "name": "python"
    }
  },
  "cells": [
    {
      "cell_type": "markdown",
      "metadata": {
        "id": "Lp4F7cwn-Ium"
      },
      "source": [
        "#KNN"
      ]
    },
    {
      "cell_type": "markdown",
      "metadata": {
        "id": "TP_NIkKQ-Ksh"
      },
      "source": [
        "K-Nearest Neighbor (KNN) é um **classificador supervisionado** seguindo o formato de lazy learner (preguiçoso). É chamado de lazy devido ao fato de não construir um modelo de classificação mas sim calcular em tempo de execução as distâncias entre os pontos.\n",
        "\n",
        "Ou seja, a cada novo ponto a ser classificado o KNN calcula as distâncias dos pontos mais próximo para definir a classe.\n",
        "\n",
        "```\n",
        "      KNN assume que 'coisas' similares existem próximas umas das outras.\n",
        "```\n"
      ]
    },
    {
      "cell_type": "markdown",
      "metadata": {
        "id": "qWrdU1Dc-ynK"
      },
      "source": [
        "Por exemplo, a figura abaixo mostra 2 classes presentes no training set e um novo objeto. O valor do K representa quantos vizinhos iremos contabilizar. Nesse caso, k=3 significa que será contabilizado os 3 vizinhos mais próximos.\n",
        "Mas como calcumos as distâncias?\n",
        "\n",
        "\n",
        "<img src=\"https://upload.wikimedia.org/wikipedia/commons/thumb/e/e7/KnnClassification.svg/1024px-KnnClassification.svg.png\"\n",
        "     alt=\"xxx\"\n",
        "     style=\"float: left; margin-right: 10px;\"\n",
        "     width=\"500px\" />\n"
      ]
    },
    {
      "cell_type": "markdown",
      "metadata": {
        "id": "wH4IBCLnAYpV"
      },
      "source": [
        "## Computando Similaridades\n",
        "\n",
        "A similaridade de coseno (cosine) computa a similaridade de dois vetores a partir da sua multiplicação.\n",
        "\n",
        "\n",
        "\n",
        "\n",
        "\n",
        "\n",
        "###Fórmula\n",
        "\n",
        "\n",
        "\n",
        "$$\n",
        "\\mathbf{A} \\cdot \\mathbf{B} = \\sum_{i=1}^{n} A_i \\cdot B_i\n",
        "$$\n",
        "\n",
        "Normas dos vetores:\n",
        "$$\n",
        "\\|\\mathbf{A}\\| = \\sqrt{\\sum_{i=1}^{n} A_i^2}, \\quad\n",
        "\\|\\mathbf{B}\\| = \\sqrt{\\sum_{i=1}^{n} B_i^2}\n",
        "$$\n",
        "\n",
        "Exemplo:\n",
        "\n",
        "\n",
        "\n",
        "\n"
      ]
    },
    {
      "cell_type": "code",
      "source": [
        "\n",
        "X1=[1, 2]\n",
        "X2=[2, 4]\n",
        "X3=[4, 2]\n"
      ],
      "metadata": {
        "id": "UUIzMeYXadlQ"
      },
      "execution_count": null,
      "outputs": []
    },
    {
      "cell_type": "markdown",
      "source": [],
      "metadata": {
        "id": "yUfl6fweaeUq"
      }
    },
    {
      "cell_type": "markdown",
      "source": [],
      "metadata": {
        "id": "o2Yb77PC4yXa"
      }
    },
    {
      "cell_type": "markdown",
      "metadata": {
        "id": "I8_FPt31C5wJ"
      },
      "source": [
        "##Plotando os pontos"
      ]
    },
    {
      "cell_type": "code",
      "metadata": {
        "id": "01gH9DW4BwHI",
        "colab": {
          "base_uri": "https://localhost:8080/",
          "height": 452
        },
        "outputId": "5d65ae9e-512b-4981-ce80-3b38f55e1229"
      },
      "source": [
        "#@title Plot\n",
        "import matplotlib.pyplot as plt\n",
        "import numpy as np\n",
        "\n",
        "ax = plt.axes()\n",
        "\n",
        "ax.arrow(0, 0,X1[0], X1[1], head_width=0.5, head_length=0.7, fc='blue', ec='black', label='x1')\n",
        "ax.arrow(0, 0, X2[0], X2[1], head_width=0.5, head_length=0.7, fc='red', ec='black', label='x2')\n",
        "ax.arrow(0, 0, X3[0],X3[1], head_width=0.5, head_length=0.7, fc='green', ec='black', label='x3')\n",
        "plt.grid()\n",
        "plt.xlim(0,7)\n",
        "plt.ylim(0,7)\n",
        "plt.legend()"
      ],
      "execution_count": null,
      "outputs": [
        {
          "output_type": "execute_result",
          "data": {
            "text/plain": [
              "<matplotlib.legend.Legend at 0x798dd0729ad0>"
            ]
          },
          "metadata": {},
          "execution_count": 2
        },
        {
          "output_type": "display_data",
          "data": {
            "text/plain": [
              "<Figure size 640x480 with 1 Axes>"
            ],
            "image/png": "[encoded data removed]"
          },
          "metadata": {}
        }
      ]
    },
    {
      "cell_type": "markdown",
      "metadata": {
        "id": "K0cEyFmsDI_O"
      },
      "source": [
        "####Calculando a similaridade do X1 e X2"
      ]
    },
    {
      "cell_type": "code",
      "metadata": {
        "id": "N8r6yB76AYBC",
        "colab": {
          "base_uri": "https://localhost:8080/"
        },
        "outputId": "2afcf431-e214-4684-951e-f4766a3603db"
      },
      "source": [
        "import math\n",
        "\n",
        "xy=X1[0]*X2[0]+X1[1]*X2[1]\n",
        "print(xy)\n"
      ],
      "execution_count": null,
      "outputs": [
        {
          "output_type": "stream",
          "name": "stdout",
          "text": [
            "10\n"
          ]
        }
      ]
    },
    {
      "cell_type": "code",
      "source": [
        "_x=math.sqrt(X1[0]**2+X1[1]**2)\n",
        "_y=math.sqrt(X2[0]**2 +X2[1]**2)\n",
        "print(_x)\n"
      ],
      "metadata": {
        "colab": {
          "base_uri": "https://localhost:8080/"
        },
        "id": "Ifh7D_yLastD",
        "outputId": "4b9ccdfc-f88b-43e9-eb59-2cc7754beda0"
      },
      "execution_count": null,
      "outputs": [
        {
          "output_type": "stream",
          "name": "stdout",
          "text": [
            "2.23606797749979\n"
          ]
        }
      ]
    },
    {
      "cell_type": "code",
      "source": [
        "cosine=xy/(_x*_y)\n",
        "print(cosine)"
      ],
      "metadata": {
        "colab": {
          "base_uri": "https://localhost:8080/"
        },
        "id": "AbP4LZriawBI",
        "outputId": "c6ba7840-316a-4b6b-d024-99a30ab0f5a7"
      },
      "execution_count": null,
      "outputs": [
        {
          "output_type": "stream",
          "name": "stdout",
          "text": [
            "0.9999999999999998\n"
          ]
        }
      ]
    },
    {
      "cell_type": "markdown",
      "source": [
        " Intervalo dos valores\n",
        "\n",
        "1 → vetores idênticos (mesma direção)\n",
        "\n",
        "\n",
        "0 → vetores ortogonais (sem similaridade)\n",
        "\n",
        "\n",
        "−1 → vetores opostos (direções contrárias)"
      ],
      "metadata": {
        "id": "eg0FTeZUbD2L"
      }
    },
    {
      "cell_type": "markdown",
      "metadata": {
        "id": "fZWkAr2vDaHu"
      },
      "source": [
        "####Calculando a similaridade do X1 e X3"
      ]
    },
    {
      "cell_type": "code",
      "metadata": {
        "id": "JRn01bRTDXOO",
        "colab": {
          "base_uri": "https://localhost:8080/"
        },
        "outputId": "b489564f-7861-4646-c33d-5b7a816de49c"
      },
      "source": [
        "xy=X1[0]*X3[0]+X1[1]*X3[1]\n",
        "_x=math.sqrt(X1[0]**2+X1[1]**2)\n",
        "_y=math.sqrt(X3[0]**2+X3[1]**2)\n",
        "cosine=xy/(_x*_y)\n",
        "print(cosine)"
      ],
      "execution_count": null,
      "outputs": [
        {
          "output_type": "stream",
          "name": "stdout",
          "text": [
            "0.7999999999999998\n"
          ]
        }
      ]
    },
    {
      "cell_type": "markdown",
      "metadata": {
        "id": "yTdxCOR6DjQD"
      },
      "source": [
        "Qual é o mais próximo?"
      ]
    },
    {
      "cell_type": "markdown",
      "metadata": {
        "id": "hxgS5EgdDpEJ"
      },
      "source": [
        "### Cosine similarity usando sklearn"
      ]
    },
    {
      "cell_type": "code",
      "source": [
        "\n",
        "from sklearn.metrics.pairwise import cosine_similarity\n",
        "\n",
        "X1_reshaped = np.array(X1).reshape(1, -1)\n",
        "X2_reshaped = np.array(X2).reshape(1, -1)\n",
        "\n",
        "print(f\"Shape of X1: {X1_reshaped.shape}\")\n",
        "print(f\"Shape of X2: {X2_reshaped.shape}\")\n",
        "cosine_sim_x1_x2 = cosine_similarity(X1_reshaped, X2_reshaped)\n",
        "print(f\"Cosine similarity between X1 and X2 (sklearn): {cosine_sim_x1_x2[0][0]}\")\n",
        "\n",
        "\n",
        "X3_reshaped = np.array(X3).reshape(1, -1)\n",
        "cosine_sim_x1_x3 = cosine_similarity(X1_reshaped, X3_reshaped)\n",
        "print(f\"Cosine similarity between X1 and X3 (sklearn): {cosine_sim_x1_x3[0][0]}\")\n"
      ],
      "metadata": {
        "colab": {
          "base_uri": "https://localhost:8080/"
        },
        "id": "waJREP0pff4W",
        "outputId": "84102f56-d116-4635-d027-ee6669b1245b"
      },
      "execution_count": null,
      "outputs": [
        {
          "output_type": "stream",
          "name": "stdout",
          "text": [
            "Shape of X1: (1, 2)\n",
            "Shape of X2: (1, 2)\n",
            "Cosine similarity between X1 and X2 (sklearn): 0.9999999999999999\n",
            "Cosine similarity between X1 and X3 (sklearn): 0.7999999999999999\n"
          ]
        }
      ]
    },
    {
      "cell_type": "markdown",
      "metadata": {
        "id": "F5XAnx27D00N"
      },
      "source": [
        "## Atividade 1"
      ]
    },
    {
      "cell_type": "markdown",
      "metadata": {
        "id": "y8jtqyqDD2Y8"
      },
      "source": [
        "1 - O que significa dois vetores com ângulo coseno 0º e 90º?\n",
        "\n",
        "2 - Existe um número máximo de  dimensões que podemos trabalhar no cálculo do Coseno?\n",
        "\n",
        "3- Calcule a similaridade entre os pontos:\n",
        "x= [1,2,3]\n",
        "y = [2,3,4]\n",
        "z = [5,5,5]\n",
        "qual é o par de pontos mais próximos?\n"
      ]
    },
    {
      "cell_type": "markdown",
      "metadata": {
        "id": "W2DAYCeiFPhD"
      },
      "source": [
        "##Distância Euclidiana\n"
      ]
    },
    {
      "cell_type": "markdown",
      "metadata": {
        "id": "dxHx1s-IFTew"
      },
      "source": [
        "Computa a espaço entre dois pontos.\n",
        "\n",
        "$$ Euclidean (x,y) = \\sqrt {\\sum _{i=1}^{n}  \\left( x_{i}-y_{i}\\right)^2 } $$\n",
        "\n",
        "\n",
        "\n",
        "\n",
        "\n",
        "Exemplo:\n",
        "\n"
      ]
    },
    {
      "cell_type": "markdown",
      "metadata": {
        "id": "4010KqlnKNL-"
      },
      "source": [
        "###Plotando os dados"
      ]
    },
    {
      "cell_type": "code",
      "metadata": {
        "id": "QmKtKtfvFf7-",
        "colab": {
          "base_uri": "https://localhost:8080/",
          "height": 452
        },
        "outputId": "9adb3656-acff-491b-d1a4-07a903f5d204"
      },
      "source": [
        "#@title Plot\n",
        "import matplotlib.pyplot as plt\n",
        "import numpy as np\n",
        "\n",
        "ax = plt.axes()\n",
        "\n",
        "ax.arrow(0, 0,X1[0], X1[1], head_width=0.5, head_length=0.7, fc='blue', ec='black', label='x1')\n",
        "ax.arrow(0, 0, X2[0], X2[1], head_width=0.5, head_length=0.7, fc='red', ec='black', label='x2')\n",
        "ax.arrow(0, 0, X3[0],X3[1], head_width=0.5, head_length=0.7, fc='green', ec='black', label='x3')\n",
        "plt.grid()\n",
        "plt.xlim(0,7)\n",
        "plt.ylim(0,7)\n",
        "plt.legend()"
      ],
      "execution_count": null,
      "outputs": [
        {
          "output_type": "execute_result",
          "data": {
            "text/plain": [
              "<matplotlib.legend.Legend at 0x798d87985010>"
            ]
          },
          "metadata": {},
          "execution_count": 8
        },
        {
          "output_type": "display_data",
          "data": {
            "text/plain": [
              "<Figure size 640x480 with 1 Axes>"
            ],
            "image/png": "[encoded data removed]"
          },
          "metadata": {}
        }
      ]
    },
    {
      "cell_type": "markdown",
      "metadata": {
        "id": "VjPfHqeTKenO"
      },
      "source": [
        "###Calculando a similaridade Euclideana"
      ]
    },
    {
      "cell_type": "code",
      "metadata": {
        "id": "un72BRrJFuqB",
        "colab": {
          "base_uri": "https://localhost:8080/"
        },
        "outputId": "6908221b-9676-4bec-c27d-10eb634ef0a7"
      },
      "source": [
        "\n",
        "from sklearn.metrics.pairwise import euclidean_distances\n",
        "X1_reshaped = np.array(X1).reshape(1, -1)\n",
        "X2_reshaped = np.array(X2).reshape(1, -1)\n",
        "X3_reshaped = np.array(X3).reshape(1, -1)\n",
        "\n",
        "\n",
        "ed1=euclidean_distances(X1_reshaped, X2_reshaped)\n",
        "\n",
        "ed2=euclidean_distances(X1_reshaped, X3_reshaped)\n",
        "\n",
        "print (ed1)\n",
        "print (ed2)"
      ],
      "execution_count": null,
      "outputs": [
        {
          "output_type": "stream",
          "name": "stdout",
          "text": [
            "[[2.23606798]]\n",
            "[[3.]]\n"
          ]
        }
      ]
    },
    {
      "cell_type": "markdown",
      "metadata": {
        "id": "2LzTHoS567TU"
      },
      "source": [
        "**Pergunta**: Qual é o par mais próximo?"
      ]
    },
    {
      "cell_type": "code",
      "metadata": {
        "id": "ioeo-rPWsq8v"
      },
      "source": [],
      "execution_count": null,
      "outputs": []
    },
    {
      "cell_type": "markdown",
      "metadata": {
        "id": "_4F32Hc_Opdl"
      },
      "source": [
        "A métrica minkowski com p=2 tem a mesma implementação que a função Euclidiana.\n",
        "\n",
        "\n",
        "$$ Minkowski (x,y) =  ({\\sum _{i=1}^{n}  \\left( x_{i}-y_{i}\\right)^p })^{1/p} $$\n",
        "\n"
      ]
    },
    {
      "cell_type": "markdown",
      "metadata": {
        "id": "znetuK3zEd-N"
      },
      "source": [
        "##Voltando para o KNN"
      ]
    },
    {
      "cell_type": "markdown",
      "metadata": {
        "id": "Oqs7C7gpK82J"
      },
      "source": [
        "O KNN funciona em 3 partes:\n",
        "\n",
        "\n",
        "*   Calculamos a similaridade\n",
        "*   Obtemos os vizinhos mais próximos\n",
        "*   Fazemos a predição\n",
        "\n"
      ]
    },
    {
      "cell_type": "markdown",
      "metadata": {
        "id": "eiXghY8CtMfv"
      },
      "source": [
        "##Exemplo"
      ]
    },
    {
      "cell_type": "code",
      "metadata": {
        "id": "lU2sQrBnEg9f"
      },
      "source": [
        "#@title Bibliotecas\n",
        "import pandas as pd\n",
        "import numpy as np\n",
        "import matplotlib.pyplot as plt\n",
        "import seaborn as sns\n",
        "from sklearn.datasets import load_digits\n",
        "from sklearn.model_selection import train_test_split\n",
        "from sklearn.neighbors import KNeighborsClassifier\n",
        "\n",
        "%matplotlib inline\n",
        "digits = load_digits()"
      ],
      "execution_count": null,
      "outputs": []
    },
    {
      "cell_type": "code",
      "metadata": {
        "id": "ROj83m1TmwIG"
      },
      "source": [
        "# prompt: reduce the number of features in 20% from digits\n",
        "\n",
        "import matplotlib.pyplot as plt\n",
        "import numpy as np\n",
        "import math\n",
        "from sklearn.metrics.pairwise import cosine_similarity\n",
        "from sklearn.metrics.pairwise import euclidean_distances\n",
        "import pandas as pd\n",
        "import seaborn as sns\n",
        "from sklearn.datasets import load_digits\n",
        "from sklearn.model_selection import train_test_split\n",
        "from sklearn.neighbors import KNeighborsClassifier\n",
        "\n",
        "# Load the digits dataset\n",
        "digits = load_digits()\n",
        "\n",
        "# Calculate the number of features to keep (80%)\n",
        "num_features_to_keep = int(0.3 * digits.data.shape[1])\n",
        "\n",
        "# Reduce the number of features\n",
        "reduced_data = digits.data[:, :num_features_to_keep]\n",
        "\n",
        "# Example usage (replace with your actual KNN code):\n",
        "X_train, X_test, y_train, y_test = train_test_split(reduced_data, digits.target, test_size=0.2, random_state=42)\n",
        "\n"
      ],
      "execution_count": null,
      "outputs": []
    },
    {
      "cell_type": "code",
      "metadata": {
        "id": "T9XvnlXkN-dH",
        "colab": {
          "base_uri": "https://localhost:8080/",
          "height": 157
        },
        "outputId": "5dbae3b0-b917-4e29-ccd3-9750b3e3e8f7"
      },
      "source": [
        "#@title Load\n",
        "\n",
        "\n",
        "_, axes = plt.subplots(nrows=1, ncols=10, figsize=(15, 5))\n",
        "for ax, image, label in zip(axes, digits.images, digits.target):\n",
        "    ax.set_axis_off()\n",
        "    ax.imshow(image, cmap=plt.cm.gray_r, interpolation='nearest')\n",
        "    ax.set_title('Número: %i' % label)"
      ],
      "execution_count": null,
      "outputs": [
        {
          "output_type": "display_data",
          "data": {
            "text/plain": [
              "<Figure size 1500x500 with 10 Axes>"
            ],
            "image/png": "[encoded data removed]"
          },
          "metadata": {}
        }
      ]
    },
    {
      "cell_type": "code",
      "metadata": {
        "id": "NmLb0BUKOcWr",
        "colab": {
          "base_uri": "https://localhost:8080/",
          "height": 80
        },
        "outputId": "e5d30af1-dfae-4f4b-8614-ceb4e545afae"
      },
      "source": [
        "knn = KNeighborsClassifier(n_neighbors=5)\n",
        "\n",
        "knn.fit(X_train, y_train)\n"
      ],
      "execution_count": null,
      "outputs": [
        {
          "output_type": "execute_result",
          "data": {
            "text/plain": [
              "KNeighborsClassifier()"
            ],
            "text/html": [
              "<style>#sk-container-id-1 {\n",
              "  /* Definition of color scheme common for light and dark mode */\n",
              "  --sklearn-color-text: #000;\n",
              "  --sklearn-color-text-muted: #666;\n",
              "  --sklearn-color-line: gray;\n",
              "  /* Definition of color scheme for unfitted estimators */\n",
              "  --sklearn-color-unfitted-level-0: #fff5e6;\n",
              "  --sklearn-color-unfitted-level-1: #f6e4d2;\n",
              "  --sklearn-color-unfitted-level-2: #ffe0b3;\n",
              "  --sklearn-color-unfitted-level-3: chocolate;\n",
              "  /* Definition of color scheme for fitted estimators */\n",
              "  --sklearn-color-fitted-level-0: #f0f8ff;\n",
              "  --sklearn-color-fitted-level-1: #d4ebff;\n",
              "  --sklearn-color-fitted-level-2: #b3dbfd;\n",
              "  --sklearn-color-fitted-level-3: cornflowerblue;\n",
              "\n",
              "  /* Specific color for light theme */\n",
              "  --sklearn-color-text-on-default-background: var(--sg-text-color, var(--theme-code-foreground, var(--jp-content-font-color1, black)));\n",
              "  --sklearn-color-background: var(--sg-background-color, var(--theme-background, var(--jp-layout-color0, white)));\n",
              "  --sklearn-color-border-box: var(--sg-text-color, var(--theme-code-foreground, var(--jp-content-font-color1, black)));\n",
              "  --sklearn-color-icon: #696969;\n",
              "\n",
              "  @media (prefers-color-scheme: dark) {\n",
              "    /* Redefinition of color scheme for dark theme */\n",
              "    --sklearn-color-text-on-default-background: var(--sg-text-color, var(--theme-code-foreground, var(--jp-content-font-color1, white)));\n",
              "    --sklearn-color-background: var(--sg-background-color, var(--theme-background, var(--jp-layout-color0, #111)));\n",
              "    --sklearn-color-border-box: var(--sg-text-color, var(--theme-code-foreground, var(--jp-content-font-color1, white)));\n",
              "    --sklearn-color-icon: #878787;\n",
              "  }\n",
              "}\n",
              "\n",
              "#sk-container-id-1 {\n",
              "  color: var(--sklearn-color-text);\n",
              "}\n",
              "\n",
              "#sk-container-id-1 pre {\n",
              "  padding: 0;\n",
              "}\n",
              "\n",
              "#sk-container-id-1 input.sk-hidden--visually {\n",
              "  border: 0;\n",
              "  clip: rect(1px 1px 1px 1px);\n",
              "  clip: rect(1px, 1px, 1px, 1px);\n",
              "  height: 1px;\n",
              "  margin: -1px;\n",
              "  overflow: hidden;\n",
              "  padding: 0;\n",
              "  position: absolute;\n",
              "  width: 1px;\n",
              "}\n",
              "\n",
              "#sk-container-id-1 div.sk-dashed-wrapped {\n",
              "  border: 1px dashed var(--sklearn-color-line);\n",
              "  margin: 0 0.4em 0.5em 0.4em;\n",
              "  box-sizing: border-box;\n",
              "  padding-bottom: 0.4em;\n",
              "  background-color: var(--sklearn-color-background);\n",
              "}\n",
              "\n",
              "#sk-container-id-1 div.sk-container {\n",
              "  /* jupyter's `normalize.less` sets `[hidden] { display: none; }`\n",
              "     but bootstrap.min.css set `[hidden] { display: none !important; }`\n",
              "     so we also need the `!important` here to be able to override the\n",
              "     default hidden behavior on the sphinx rendered scikit-learn.org.\n",
              "     See: https://github.com/scikit-learn/scikit-learn/issues/21755 */\n",
              "  display: inline-block !important;\n",
              "  position: relative;\n",
              "}\n",
              "\n",
              "#sk-container-id-1 div.sk-text-repr-fallback {\n",
              "  display: none;\n",
              "}\n",
              "\n",
              "div.sk-parallel-item,\n",
              "div.sk-serial,\n",
              "div.sk-item {\n",
              "  /* draw centered vertical line to link estimators */\n",
              "  background-image: linear-gradient(var(--sklearn-color-text-on-default-background), var(--sklearn-color-text-on-default-background));\n",
              "  background-size: 2px 100%;\n",
              "  background-repeat: no-repeat;\n",
              "  background-position: center center;\n",
              "}\n",
              "\n",
              "/* Parallel-specific style estimator block */\n",
              "\n",
              "#sk-container-id-1 div.sk-parallel-item::after {\n",
              "  content: \"\";\n",
              "  width: 100%;\n",
              "  border-bottom: 2px solid var(--sklearn-color-text-on-default-background);\n",
              "  flex-grow: 1;\n",
              "}\n",
              "\n",
              "#sk-container-id-1 div.sk-parallel {\n",
              "  display: flex;\n",
              "  align-items: stretch;\n",
              "  justify-content: center;\n",
              "  background-color: var(--sklearn-color-background);\n",
              "  position: relative;\n",
              "}\n",
              "\n",
              "#sk-container-id-1 div.sk-parallel-item {\n",
              "  display: flex;\n",
              "  flex-direction: column;\n",
              "}\n",
              "\n",
              "#sk-container-id-1 div.sk-parallel-item:first-child::after {\n",
              "  align-self: flex-end;\n",
              "  width: 50%;\n",
              "}\n",
              "\n",
              "#sk-container-id-1 div.sk-parallel-item:last-child::after {\n",
              "  align-self: flex-start;\n",
              "  width: 50%;\n",
              "}\n",
              "\n",
              "#sk-container-id-1 div.sk-parallel-item:only-child::after {\n",
              "  width: 0;\n",
              "}\n",
              "\n",
              "/* Serial-specific style estimator block */\n",
              "\n",
              "#sk-container-id-1 div.sk-serial {\n",
              "  display: flex;\n",
              "  flex-direction: column;\n",
              "  align-items: center;\n",
              "  background-color: var(--sklearn-color-background);\n",
              "  padding-right: 1em;\n",
              "  padding-left: 1em;\n",
              "}\n",
              "\n",
              "\n",
              "/* Toggleable style: style used for estimator/Pipeline/ColumnTransformer box that is\n",
              "clickable and can be expanded/collapsed.\n",
              "- Pipeline and ColumnTransformer use this feature and define the default style\n",
              "- Estimators will overwrite some part of the style using the `sk-estimator` class\n",
              "*/\n",
              "\n",
              "/* Pipeline and ColumnTransformer style (default) */\n",
              "\n",
              "#sk-container-id-1 div.sk-toggleable {\n",
              "  /* Default theme specific background. It is overwritten whether we have a\n",
              "  specific estimator or a Pipeline/ColumnTransformer */\n",
              "  background-color: var(--sklearn-color-background);\n",
              "}\n",
              "\n",
              "/* Toggleable label */\n",
              "#sk-container-id-1 label.sk-toggleable__label {\n",
              "  cursor: pointer;\n",
              "  display: flex;\n",
              "  width: 100%;\n",
              "  margin-bottom: 0;\n",
              "  padding: 0.5em;\n",
              "  box-sizing: border-box;\n",
              "  text-align: center;\n",
              "  align-items: start;\n",
              "  justify-content: space-between;\n",
              "  gap: 0.5em;\n",
              "}\n",
              "\n",
              "#sk-container-id-1 label.sk-toggleable__label .caption {\n",
              "  font-size: 0.6rem;\n",
              "  font-weight: lighter;\n",
              "  color: var(--sklearn-color-text-muted);\n",
              "}\n",
              "\n",
              "#sk-container-id-1 label.sk-toggleable__label-arrow:before {\n",
              "  /* Arrow on the left of the label */\n",
              "  content: \"▸\";\n",
              "  float: left;\n",
              "  margin-right: 0.25em;\n",
              "  color: var(--sklearn-color-icon);\n",
              "}\n",
              "\n",
              "#sk-container-id-1 label.sk-toggleable__label-arrow:hover:before {\n",
              "  color: var(--sklearn-color-text);\n",
              "}\n",
              "\n",
              "/* Toggleable content - dropdown */\n",
              "\n",
              "#sk-container-id-1 div.sk-toggleable__content {\n",
              "  max-height: 0;\n",
              "  max-width: 0;\n",
              "  overflow: hidden;\n",
              "  text-align: left;\n",
              "  /* unfitted */\n",
              "  background-color: var(--sklearn-color-unfitted-level-0);\n",
              "}\n",
              "\n",
              "#sk-container-id-1 div.sk-toggleable__content.fitted {\n",
              "  /* fitted */\n",
              "  background-color: var(--sklearn-color-fitted-level-0);\n",
              "}\n",
              "\n",
              "#sk-container-id-1 div.sk-toggleable__content pre {\n",
              "  margin: 0.2em;\n",
              "  border-radius: 0.25em;\n",
              "  color: var(--sklearn-color-text);\n",
              "  /* unfitted */\n",
              "  background-color: var(--sklearn-color-unfitted-level-0);\n",
              "}\n",
              "\n",
              "#sk-container-id-1 div.sk-toggleable__content.fitted pre {\n",
              "  /* unfitted */\n",
              "  background-color: var(--sklearn-color-fitted-level-0);\n",
              "}\n",
              "\n",
              "#sk-container-id-1 input.sk-toggleable__control:checked~div.sk-toggleable__content {\n",
              "  /* Expand drop-down */\n",
              "  max-height: 200px;\n",
              "  max-width: 100%;\n",
              "  overflow: auto;\n",
              "}\n",
              "\n",
              "#sk-container-id-1 input.sk-toggleable__control:checked~label.sk-toggleable__label-arrow:before {\n",
              "  content: \"▾\";\n",
              "}\n",
              "\n",
              "/* Pipeline/ColumnTransformer-specific style */\n",
              "\n",
              "#sk-container-id-1 div.sk-label input.sk-toggleable__control:checked~label.sk-toggleable__label {\n",
              "  color: var(--sklearn-color-text);\n",
              "  background-color: var(--sklearn-color-unfitted-level-2);\n",
              "}\n",
              "\n",
              "#sk-container-id-1 div.sk-label.fitted input.sk-toggleable__control:checked~label.sk-toggleable__label {\n",
              "  background-color: var(--sklearn-color-fitted-level-2);\n",
              "}\n",
              "\n",
              "/* Estimator-specific style */\n",
              "\n",
              "/* Colorize estimator box */\n",
              "#sk-container-id-1 div.sk-estimator input.sk-toggleable__control:checked~label.sk-toggleable__label {\n",
              "  /* unfitted */\n",
              "  background-color: var(--sklearn-color-unfitted-level-2);\n",
              "}\n",
              "\n",
              "#sk-container-id-1 div.sk-estimator.fitted input.sk-toggleable__control:checked~label.sk-toggleable__label {\n",
              "  /* fitted */\n",
              "  background-color: var(--sklearn-color-fitted-level-2);\n",
              "}\n",
              "\n",
              "#sk-container-id-1 div.sk-label label.sk-toggleable__label,\n",
              "#sk-container-id-1 div.sk-label label {\n",
              "  /* The background is the default theme color */\n",
              "  color: var(--sklearn-color-text-on-default-background);\n",
              "}\n",
              "\n",
              "/* On hover, darken the color of the background */\n",
              "#sk-container-id-1 div.sk-label:hover label.sk-toggleable__label {\n",
              "  color: var(--sklearn-color-text);\n",
              "  background-color: var(--sklearn-color-unfitted-level-2);\n",
              "}\n",
              "\n",
              "/* Label box, darken color on hover, fitted */\n",
              "#sk-container-id-1 div.sk-label.fitted:hover label.sk-toggleable__label.fitted {\n",
              "  color: var(--sklearn-color-text);\n",
              "  background-color: var(--sklearn-color-fitted-level-2);\n",
              "}\n",
              "\n",
              "/* Estimator label */\n",
              "\n",
              "#sk-container-id-1 div.sk-label label {\n",
              "  font-family: monospace;\n",
              "  font-weight: bold;\n",
              "  display: inline-block;\n",
              "  line-height: 1.2em;\n",
              "}\n",
              "\n",
              "#sk-container-id-1 div.sk-label-container {\n",
              "  text-align: center;\n",
              "}\n",
              "\n",
              "/* Estimator-specific */\n",
              "#sk-container-id-1 div.sk-estimator {\n",
              "  font-family: monospace;\n",
              "  border: 1px dotted var(--sklearn-color-border-box);\n",
              "  border-radius: 0.25em;\n",
              "  box-sizing: border-box;\n",
              "  margin-bottom: 0.5em;\n",
              "  /* unfitted */\n",
              "  background-color: var(--sklearn-color-unfitted-level-0);\n",
              "}\n",
              "\n",
              "#sk-container-id-1 div.sk-estimator.fitted {\n",
              "  /* fitted */\n",
              "  background-color: var(--sklearn-color-fitted-level-0);\n",
              "}\n",
              "\n",
              "/* on hover */\n",
              "#sk-container-id-1 div.sk-estimator:hover {\n",
              "  /* unfitted */\n",
              "  background-color: var(--sklearn-color-unfitted-level-2);\n",
              "}\n",
              "\n",
              "#sk-container-id-1 div.sk-estimator.fitted:hover {\n",
              "  /* fitted */\n",
              "  background-color: var(--sklearn-color-fitted-level-2);\n",
              "}\n",
              "\n",
              "/* Specification for estimator info (e.g. \"i\" and \"?\") */\n",
              "\n",
              "/* Common style for \"i\" and \"?\" */\n",
              "\n",
              ".sk-estimator-doc-link,\n",
              "a:link.sk-estimator-doc-link,\n",
              "a:visited.sk-estimator-doc-link {\n",
              "  float: right;\n",
              "  font-size: smaller;\n",
              "  line-height: 1em;\n",
              "  font-family: monospace;\n",
              "  background-color: var(--sklearn-color-background);\n",
              "  border-radius: 1em;\n",
              "  height: 1em;\n",
              "  width: 1em;\n",
              "  text-decoration: none !important;\n",
              "  margin-left: 0.5em;\n",
              "  text-align: center;\n",
              "  /* unfitted */\n",
              "  border: var(--sklearn-color-unfitted-level-1) 1pt solid;\n",
              "  color: var(--sklearn-color-unfitted-level-1);\n",
              "}\n",
              "\n",
              ".sk-estimator-doc-link.fitted,\n",
              "a:link.sk-estimator-doc-link.fitted,\n",
              "a:visited.sk-estimator-doc-link.fitted {\n",
              "  /* fitted */\n",
              "  border: var(--sklearn-color-fitted-level-1) 1pt solid;\n",
              "  color: var(--sklearn-color-fitted-level-1);\n",
              "}\n",
              "\n",
              "/* On hover */\n",
              "div.sk-estimator:hover .sk-estimator-doc-link:hover,\n",
              ".sk-estimator-doc-link:hover,\n",
              "div.sk-label-container:hover .sk-estimator-doc-link:hover,\n",
              ".sk-estimator-doc-link:hover {\n",
              "  /* unfitted */\n",
              "  background-color: var(--sklearn-color-unfitted-level-3);\n",
              "  color: var(--sklearn-color-background);\n",
              "  text-decoration: none;\n",
              "}\n",
              "\n",
              "div.sk-estimator.fitted:hover .sk-estimator-doc-link.fitted:hover,\n",
              ".sk-estimator-doc-link.fitted:hover,\n",
              "div.sk-label-container:hover .sk-estimator-doc-link.fitted:hover,\n",
              ".sk-estimator-doc-link.fitted:hover {\n",
              "  /* fitted */\n",
              "  background-color: var(--sklearn-color-fitted-level-3);\n",
              "  color: var(--sklearn-color-background);\n",
              "  text-decoration: none;\n",
              "}\n",
              "\n",
              "/* Span, style for the box shown on hovering the info icon */\n",
              ".sk-estimator-doc-link span {\n",
              "  display: none;\n",
              "  z-index: 9999;\n",
              "  position: relative;\n",
              "  font-weight: normal;\n",
              "  right: .2ex;\n",
              "  padding: .5ex;\n",
              "  margin: .5ex;\n",
              "  width: min-content;\n",
              "  min-width: 20ex;\n",
              "  max-width: 50ex;\n",
              "  color: var(--sklearn-color-text);\n",
              "  box-shadow: 2pt 2pt 4pt #999;\n",
              "  /* unfitted */\n",
              "  background: var(--sklearn-color-unfitted-level-0);\n",
              "  border: .5pt solid var(--sklearn-color-unfitted-level-3);\n",
              "}\n",
              "\n",
              ".sk-estimator-doc-link.fitted span {\n",
              "  /* fitted */\n",
              "  background: var(--sklearn-color-fitted-level-0);\n",
              "  border: var(--sklearn-color-fitted-level-3);\n",
              "}\n",
              "\n",
              ".sk-estimator-doc-link:hover span {\n",
              "  display: block;\n",
              "}\n",
              "\n",
              "/* \"?\"-specific style due to the `<a>` HTML tag */\n",
              "\n",
              "#sk-container-id-1 a.estimator_doc_link {\n",
              "  float: right;\n",
              "  font-size: 1rem;\n",
              "  line-height: 1em;\n",
              "  font-family: monospace;\n",
              "  background-color: var(--sklearn-color-background);\n",
              "  border-radius: 1rem;\n",
              "  height: 1rem;\n",
              "  width: 1rem;\n",
              "  text-decoration: none;\n",
              "  /* unfitted */\n",
              "  color: var(--sklearn-color-unfitted-level-1);\n",
              "  border: var(--sklearn-color-unfitted-level-1) 1pt solid;\n",
              "}\n",
              "\n",
              "#sk-container-id-1 a.estimator_doc_link.fitted {\n",
              "  /* fitted */\n",
              "  border: var(--sklearn-color-fitted-level-1) 1pt solid;\n",
              "  color: var(--sklearn-color-fitted-level-1);\n",
              "}\n",
              "\n",
              "/* On hover */\n",
              "#sk-container-id-1 a.estimator_doc_link:hover {\n",
              "  /* unfitted */\n",
              "  background-color: var(--sklearn-color-unfitted-level-3);\n",
              "  color: var(--sklearn-color-background);\n",
              "  text-decoration: none;\n",
              "}\n",
              "\n",
              "#sk-container-id-1 a.estimator_doc_link.fitted:hover {\n",
              "  /* fitted */\n",
              "  background-color: var(--sklearn-color-fitted-level-3);\n",
              "}\n",
              "</style><div id=\"sk-container-id-1\" class=\"sk-top-container\"><div class=\"sk-text-repr-fallback\"><pre>KNeighborsClassifier()</pre><b>In a Jupyter environment, please rerun this cell to show the HTML representation or trust the notebook. <br />On GitHub, the HTML representation is unable to render, please try loading this page with nbviewer.org.</b></div><div class=\"sk-container\" hidden><div class=\"sk-item\"><div class=\"sk-estimator fitted sk-toggleable\"><input class=\"sk-toggleable__control sk-hidden--visually\" id=\"sk-estimator-id-1\" type=\"checkbox\" checked><label for=\"sk-estimator-id-1\" class=\"sk-toggleable__label fitted sk-toggleable__label-arrow\"><div><div>KNeighborsClassifier</div></div><div><a class=\"sk-estimator-doc-link fitted\" rel=\"noreferrer\" target=\"_blank\" href=\"https://scikit-learn.org/1.6/modules/generated/sklearn.neighbors.KNeighborsClassifier.html\">?<span>Documentation for KNeighborsClassifier</span></a><span class=\"sk-estimator-doc-link fitted\">i<span>Fitted</span></span></div></label><div class=\"sk-toggleable__content fitted\"><pre>KNeighborsClassifier()</pre></div> </div></div></div></div>"
            ]
          },
          "metadata": {},
          "execution_count": 13
        }
      ]
    },
    {
      "cell_type": "code",
      "metadata": {
        "id": "LBBCnMmjOCT1",
        "colab": {
          "base_uri": "https://localhost:8080/"
        },
        "outputId": "64751520-25db-4561-8efb-7e38ac69ac19"
      },
      "source": [
        "pred = knn.predict(X_test)\n",
        "# Predições\n",
        "pred"
      ],
      "execution_count": null,
      "outputs": [
        {
          "output_type": "execute_result",
          "data": {
            "text/plain": [
              "array([4, 9, 3, 7, 3, 1, 5, 0, 5, 2, 7, 9, 6, 0, 4, 2, 3, 7, 9, 2, 4, 3,\n",
              "       9, 7, 5, 6, 8, 5, 6, 7, 4, 0, 1, 4, 4, 6, 9, 4, 7, 6, 4, 0, 1, 3,\n",
              "       6, 1, 3, 0, 6, 5, 7, 1, 2, 5, 6, 0, 2, 0, 0, 4, 0, 6, 5, 2, 4, 5,\n",
              "       7, 0, 2, 6, 9, 5, 5, 4, 7, 0, 1, 5, 5, 9, 8, 0, 2, 3, 9, 0, 4, 6,\n",
              "       4, 8, 1, 2, 1, 3, 5, 2, 2, 1, 6, 4, 4, 3, 5, 7, 1, 3, 5, 9, 6, 2,\n",
              "       7, 7, 4, 4, 1, 9, 8, 7, 9, 7, 2, 6, 9, 4, 5, 3, 3, 7, 5, 8, 2, 5,\n",
              "       7, 8, 0, 6, 6, 4, 1, 0, 0, 2, 4, 6, 0, 9, 6, 0, 3, 1, 5, 6, 6, 0,\n",
              "       6, 4, 3, 2, 7, 8, 7, 2, 9, 0, 4, 5, 3, 6, 5, 9, 8, 8, 4, 2, 1, 3,\n",
              "       7, 7, 2, 3, 3, 9, 9, 0, 3, 2, 2, 5, 6, 9, 3, 6, 1, 5, 4, 3, 2, 6,\n",
              "       4, 0, 5, 0, 8, 7, 8, 0, 6, 9, 1, 5, 4, 6, 0, 6, 1, 8, 4, 0, 4, 5,\n",
              "       2, 7, 4, 6, 4, 5, 4, 0, 3, 2, 3, 6, 7, 1, 5, 1, 4, 7, 6, 0, 1, 5,\n",
              "       5, 1, 6, 0, 8, 2, 8, 0, 3, 1, 2, 2, 2, 3, 6, 0, 9, 7, 6, 0, 8, 3,\n",
              "       7, 0, 1, 9, 4, 5, 0, 5, 3, 6, 0, 0, 1, 0, 3, 3, 6, 5, 0, 1, 3, 5,\n",
              "       5, 9, 9, 9, 5, 9, 2, 8, 0, 6, 8, 3, 6, 0, 2, 6, 6, 4, 3, 4, 5, 0,\n",
              "       5, 2, 1, 3, 1, 4, 1, 1, 7, 0, 1, 5, 2, 1, 2, 8, 7, 0, 6, 4, 0, 8,\n",
              "       5, 1, 2, 4, 5, 9, 7, 9, 9, 5, 9, 6, 2, 0, 7, 0, 6, 8, 5, 2, 7, 7,\n",
              "       1, 8, 3, 4, 7, 0, 7, 5])"
            ]
          },
          "metadata": {},
          "execution_count": 14
        }
      ]
    },
    {
      "cell_type": "code",
      "metadata": {
        "id": "5mGCLsg9PLJe",
        "colab": {
          "base_uri": "https://localhost:8080/"
        },
        "outputId": "9f6869e7-b968-43d9-c470-017bd3523667"
      },
      "source": [
        "error_rate = []\n",
        "accuracy_score=0\n",
        "from sklearn.metrics import accuracy_score\n",
        "accuracy_v=[]\n",
        "for i in range(1,40):\n",
        "\n",
        "    knn = KNeighborsClassifier(n_neighbors=i)\n",
        "    knn.fit(X_train, y_train)\n",
        "    pred_i = knn.predict(X_test)\n",
        "    accuracy_v.append(accuracy_score(y_test, pred_i))\n",
        "    error_rate.append(np.mean(pred_i != y_test))\n",
        "print(accuracy_v)"
      ],
      "execution_count": null,
      "outputs": [
        {
          "output_type": "stream",
          "name": "stdout",
          "text": [
            "[0.6833333333333333, 0.6888888888888889, 0.7222222222222222, 0.7, 0.7111111111111111, 0.725, 0.7055555555555556, 0.7138888888888889, 0.7055555555555556, 0.7055555555555556, 0.7027777777777777, 0.7111111111111111, 0.725, 0.7305555555555555, 0.7111111111111111, 0.7083333333333334, 0.7083333333333334, 0.6861111111111111, 0.6888888888888889, 0.6833333333333333, 0.6972222222222222, 0.6944444444444444, 0.7027777777777777, 0.7, 0.6972222222222222, 0.7055555555555556, 0.7083333333333334, 0.7138888888888889, 0.7138888888888889, 0.7222222222222222, 0.7, 0.7055555555555556, 0.7111111111111111, 0.7027777777777777, 0.7, 0.6944444444444444, 0.6972222222222222, 0.6972222222222222, 0.7027777777777777]\n"
          ]
        }
      ]
    },
    {
      "cell_type": "code",
      "metadata": {
        "id": "iv6n5fjOPFlk",
        "colab": {
          "base_uri": "https://localhost:8080/",
          "height": 427
        },
        "outputId": "3873e121-056d-4759-cc39-1acfddd2488e"
      },
      "source": [
        "plt.figure(figsize=(10,4))\n",
        "plt.plot(range(1,40), accuracy_v, color='blue', linestyle='dashed', marker='o', markerfacecolor='red', markersize=10)\n",
        "plt.title('Taxa de erro vs. K-Values')\n",
        "plt.xlabel('Valor de K')\n",
        "plt.ylabel('accuracy_v')"
      ],
      "execution_count": null,
      "outputs": [
        {
          "output_type": "execute_result",
          "data": {
            "text/plain": [
              "Text(0, 0.5, 'accuracy_v')"
            ]
          },
          "metadata": {},
          "execution_count": 16
        },
        {
          "output_type": "display_data",
          "data": {
            "text/plain": [
              "<Figure size 1000x400 with 1 Axes>"
            ],
            "image/png": "[encoded data removed]"
          },
          "metadata": {}
        }
      ]
    },
    {
      "cell_type": "code",
      "metadata": {
        "id": "SXrPxqoYO4Kp",
        "colab": {
          "base_uri": "https://localhost:8080/"
        },
        "outputId": "b01d73b1-1f4e-4578-e6d7-1b315745747a"
      },
      "source": [
        "from sklearn.metrics import classification_report, confusion_matrix\n",
        "# Print métricas\n",
        "print(classification_report(y_test, pred))"
      ],
      "execution_count": null,
      "outputs": [
        {
          "output_type": "stream",
          "name": "stdout",
          "text": [
            "              precision    recall  f1-score   support\n",
            "\n",
            "           0       0.57      0.82      0.68        33\n",
            "           1       0.76      0.89      0.82        28\n",
            "           2       0.67      0.73      0.70        33\n",
            "           3       0.68      0.68      0.68        34\n",
            "           4       0.85      0.72      0.78        46\n",
            "           5       0.98      0.91      0.95        47\n",
            "           6       0.67      0.83      0.74        35\n",
            "           7       0.76      0.76      0.76        34\n",
            "           8       0.43      0.30      0.35        30\n",
            "           9       0.59      0.42      0.49        40\n",
            "\n",
            "    accuracy                           0.71       360\n",
            "   macro avg       0.70      0.71      0.69       360\n",
            "weighted avg       0.71      0.71      0.70       360\n",
            "\n"
          ]
        }
      ]
    },
    {
      "cell_type": "code",
      "metadata": {
        "id": "ACAeHOYycEbs",
        "colab": {
          "base_uri": "https://localhost:8080/",
          "height": 449
        },
        "outputId": "eab29658-7425-473d-a664-596477029f83"
      },
      "source": [
        "from sklearn.metrics import confusion_matrix\n",
        "mat = confusion_matrix(y_test, pred)\n",
        "sns.heatmap(mat.T, square=True, annot=True, fmt='d', cbar=False,\n",
        "            xticklabels=digits.target_names,\n",
        "            yticklabels=digits.target_names)\n",
        "plt.xlabel('true label')\n",
        "plt.ylabel('predicted label');"
      ],
      "execution_count": null,
      "outputs": [
        {
          "output_type": "display_data",
          "data": {
            "text/plain": [
              "<Figure size 640x480 with 1 Axes>"
            ],
            "image/png": "[encoded data removed]"
          },
          "metadata": {}
        }
      ]
    },
    {
      "cell_type": "markdown",
      "metadata": {
        "id": "8KqwdQLp-nV9"
      },
      "source": [
        "##Outro exemplo"
      ]
    },
    {
      "cell_type": "code",
      "metadata": {
        "id": "qt_SOOlg-ozb"
      },
      "source": [
        "from sklearn.datasets import load_iris\n",
        "iris = load_iris()\n",
        "\n",
        "# create X (features) and y (response)\n",
        "X = iris.data\n",
        "y = iris.target"
      ],
      "execution_count": null,
      "outputs": []
    },
    {
      "cell_type": "code",
      "metadata": {
        "id": "oEPUI-La-1Ld",
        "colab": {
          "base_uri": "https://localhost:8080/"
        },
        "outputId": "f533138d-2725-47cb-a8ab-e80ffe54f477"
      },
      "source": [
        "import numpy as np\n",
        "from sklearn.neighbors import KNeighborsClassifier\n",
        "from sklearn.metrics import accuracy_score\n",
        "from sklearn import metrics\n",
        "\n",
        "\n",
        "taxa_erro=[]\n",
        "accuracy_v=[]\n",
        "for i in range(2,20):\n",
        "  knn = KNeighborsClassifier(n_neighbors=i)\n",
        "  knn.fit(X, y)\n",
        "  y_pred = knn.predict(X)\n",
        "  #print(f\"acurácia com k{i}={metrics.accuracy_score(y, y_pred)}\")\n",
        "  taxa_erro.append(np.mean(y_pred != y))\n",
        "  accuracy_v.append(metrics.accuracy_score(y, y_pred))\n",
        "\n",
        "print(accuracy_v)"
      ],
      "execution_count": null,
      "outputs": [
        {
          "output_type": "stream",
          "name": "stdout",
          "text": [
            "[0.98, 0.96, 0.96, 0.9666666666666667, 0.9733333333333334, 0.9733333333333334, 0.98, 0.98, 0.98, 0.9733333333333334, 0.98, 0.98, 0.98, 0.9866666666666667, 0.9866666666666667, 0.98, 0.9733333333333334, 0.98]\n"
          ]
        }
      ]
    },
    {
      "cell_type": "code",
      "metadata": {
        "id": "LQmVeooy_3yw",
        "colab": {
          "base_uri": "https://localhost:8080/",
          "height": 405
        },
        "outputId": "b9e11999-c24e-4b23-b58f-b2f23e749b24"
      },
      "source": [
        "import matplotlib.pyplot as plt\n",
        "plt.figure(figsize=(20,4))\n",
        "plt.plot(range(2,20), accuracy_v, color='blue', linestyle='dashed', marker='o', markerfacecolor='red', markersize=10)\n",
        "\n",
        "plt.xlabel('acuracia')\n",
        "plt.ylabel('Taxa de Erro')"
      ],
      "execution_count": null,
      "outputs": [
        {
          "output_type": "execute_result",
          "data": {
            "text/plain": [
              "Text(0, 0.5, 'Taxa de Erro')"
            ]
          },
          "metadata": {},
          "execution_count": 21
        },
        {
          "output_type": "display_data",
          "data": {
            "text/plain": [
              "<Figure size 2000x400 with 1 Axes>"
            ],
            "image/png": "[encoded data removed]"
          },
          "metadata": {}
        }
      ]
    },
    {
      "cell_type": "markdown",
      "metadata": {
        "id": "_amn1KgP8pfV"
      },
      "source": [
        "###Atividade"
      ]
    },
    {
      "cell_type": "markdown",
      "metadata": {
        "id": "mJHEyr2dmF9l"
      },
      "source": [
        "Maria se deparou com o problema de como encontrar os artigos que estão relacionados ao seu tema de pesquisa. Como Maria é uma boa conhecedora dos métodos de machine learning, ela decidiu lançar um desafio para seus grupo de trabalho. Como encontrar todos e somente os artigos relevantes a sua pesquisa. Uma possibilidade é ler todos os artigos e validar manualmente, no entanto, a base contem mais de 6k artigos.\n",
        "Pois bem, para ajudar Maria, vc foi selecionado para a atividade de identificar artigos os relevantes presente na coleção (no anexo) referentes a consulta \"defect prediction\". A base de dados em anexo é composta por informações do artigos e o LABEL. O objetivo é encontrar todos os 104 artigos relevantes em relação 7000 presentes na base de dados."
      ]
    },
    {
      "cell_type": "code",
      "metadata": {
        "id": "m-Y3BmOk8mC9",
        "colab": {
          "base_uri": "https://localhost:8080/",
          "height": 210
        },
        "outputId": "90c24f2f-053b-47f5-d7ed-df0c27a2994c"
      },
      "source": [
        "#Carregando dataset\n",
        "import pandas as pd\n",
        "df = pd.read_csv('https://github.com/dbguilherme/Testes/raw/master/Wahono.csv', header=0).rename(columns={'Document Title': 'title', 'Abstract': 'abstract', 'Year': 'year', 'PDF Link': 'link'})\n",
        "df.loc[60]"
      ],
      "execution_count": null,
      "outputs": [
        {
          "output_type": "execute_result",
          "data": {
            "text/plain": [
              "title       The design of polynomial function-based neural...\n",
              "abstract    In this study we introduce a design methodolog...\n",
              "year                                                     2013\n",
              "label                                                     yes\n",
              "Name: 60, dtype: object"
            ],
            "text/html": [
              "<div>\n",
              "<style scoped>\n",
              "    .dataframe tbody tr th:only-of-type {\n",
              "        vertical-align: middle;\n",
              "    }\n",
              "\n",
              "    .dataframe tbody tr th {\n",
              "        vertical-align: top;\n",
              "    }\n",
              "\n",
              "    .dataframe thead th {\n",
              "        text-align: right;\n",
              "    }\n",
              "</style>\n",
              "<table border=\"1\" class=\"dataframe\">\n",
              "  <thead>\n",
              "    <tr style=\"text-align: right;\">\n",
              "      <th></th>\n",
              "      <th>60</th>\n",
              "    </tr>\n",
              "  </thead>\n",
              "  <tbody>\n",
              "    <tr>\n",
              "      <th>title</th>\n",
              "      <td>The design of polynomial function-based neural...</td>\n",
              "    </tr>\n",
              "    <tr>\n",
              "      <th>abstract</th>\n",
              "      <td>In this study we introduce a design methodolog...</td>\n",
              "    </tr>\n",
              "    <tr>\n",
              "      <th>year</th>\n",
              "      <td>2013</td>\n",
              "    </tr>\n",
              "    <tr>\n",
              "      <th>label</th>\n",
              "      <td>yes</td>\n",
              "    </tr>\n",
              "  </tbody>\n",
              "</table>\n",
              "</div><br><label><b>dtype:</b> object</label>"
            ]
          },
          "metadata": {},
          "execution_count": 22
        }
      ]
    },
    {
      "cell_type": "code",
      "metadata": {
        "id": "R6y78in4EtTK",
        "colab": {
          "base_uri": "https://localhost:8080/"
        },
        "outputId": "103369c7-db54-41d2-fe4d-6e4c0e7c4e50"
      },
      "source": [
        "\n",
        "df['title'] = df['title'].str.lower()\n",
        "df['abstract'] = df['abstract'].str.lower()\n",
        "\n",
        "#df['title']=df['title'].map(str)+df['abstract'].map(str)\n",
        "\n",
        "print(df['title'][6])"
      ],
      "execution_count": null,
      "outputs": [
        {
          "output_type": "stream",
          "name": "stdout",
          "text": [
            "tree-based software quality estimation models for fault prediction\n"
          ]
        }
      ]
    },
    {
      "cell_type": "code",
      "metadata": {
        "colab": {
          "base_uri": "https://localhost:8080/"
        },
        "id": "YdruFaPqrv-f",
        "outputId": "fb9c8ebb-8d1f-4e64-fa9d-77ff40296455"
      },
      "source": [
        "# tf-idf\n",
        "from sklearn.feature_extraction.text import TfidfVectorizer, CountVectorizer\n",
        "from sklearn.metrics.pairwise import euclidean_distances, cosine_similarity\n",
        "\n",
        "QUERY = 'defect prediction'\n",
        "#tokenized_query = [lemmatizer.lemmatize(stemmer.stem(word)) for word in word_tokenize(QUERY.lower())]\n",
        "#query = ' '.join(tokenized_query)\n",
        "\n",
        "vectorizer = CountVectorizer()\n",
        "\n",
        "X_title = vectorizer.fit_transform(df['title'])\n",
        "y_title = vectorizer.transform([QUERY])\n",
        "print(y_title)\n",
        "\n",
        "# X_abstract = vectorizer.fit_transform(df['abstract'])\n",
        "# y_abstract = vectorizer.transform([query])"
      ],
      "execution_count": null,
      "outputs": [
        {
          "output_type": "stream",
          "name": "stdout",
          "text": [
            "<Compressed Sparse Row sparse matrix of dtype 'int64'\n",
            "\twith 2 stored elements and shape (1, 7112)>\n",
            "  Coords\tValues\n",
            "  (0, 1647)\t1\n",
            "  (0, 4828)\t1\n"
          ]
        }
      ]
    },
    {
      "cell_type": "code",
      "metadata": {
        "id": "y5gM0veJr4yv"
      },
      "source": [
        "\n",
        "# tf-idf do titulo\n",
        "tfidfconverter = CountVectorizer(max_features=30000,  stop_words='english')\n",
        "tfidf=tfidfconverter.fit_transform(df['title'])\n",
        "\n",
        "\n",
        "\n",
        "tf=tfidfconverter.transform([QUERY])\n",
        "id=((tf.indices))"
      ],
      "execution_count": null,
      "outputs": []
    },
    {
      "cell_type": "code",
      "metadata": {
        "id": "vmzWy05_9l_t"
      },
      "source": [
        "from sklearn.neighbors import KNeighborsClassifier\n",
        "nbrs = KNeighborsClassifier(n_neighbors=50, metric='cosine').fit(tfidf, df['label'])\n",
        "distances, indices = nbrs.kneighbors(tf)\n",
        "#distances, indices"
      ],
      "execution_count": null,
      "outputs": []
    },
    {
      "cell_type": "code",
      "metadata": {
        "colab": {
          "base_uri": "https://localhost:8080/"
        },
        "id": "hzIhZRwqtAp6",
        "outputId": "20b42b39-fcfc-4087-f883-d9097b60004c"
      },
      "source": [
        "count=0\n",
        "for i in indices:\n",
        "  print((df['label'].iloc[i]=='yes').value_counts())\n"
      ],
      "execution_count": null,
      "outputs": [
        {
          "output_type": "stream",
          "name": "stdout",
          "text": [
            "label\n",
            "False    36\n",
            "True     14\n",
            "Name: count, dtype: int64\n"
          ]
        }
      ]
    },
    {
      "cell_type": "code",
      "source": [
        "from sklearn.manifold import TSNE\n",
        "\n",
        "neighbors_vecs = tfidf[indices[0]].toarray()  # shape (50, n_features)\n",
        "query_vec = tf.toarray()                      # shape (1, n_features)\n",
        "# Combine for t-SNE visualization\n",
        "neighbor_labels = df['label'].iloc[indices[0]].values  # labels of 50 neighbors\n",
        "\n",
        "combined_vecs = np.vstack([query_vec, neighbors_vecs])  # shape (51, n_features)\n",
        "\n",
        "# Apply t-SNE to reduce to 2D\n",
        "tsne = TSNE(n_components=2, random_state=42, perplexity=15)\n",
        "points_2d = tsne.fit_transform(combined_vecs)\n",
        "\n",
        "# Plot\n",
        "plt.figure(figsize=(8, 6))\n",
        "\n",
        "\n",
        "# Plot neighbors with label == 'yes' in green, others in blue\n",
        "for i, label in enumerate(neighbor_labels):\n",
        "    color = 'green' if label == 'yes' else 'blue'\n",
        "    plt.scatter(points_2d[i + 1, 0], points_2d[i + 1, 1], color=color, alpha=0.6)\n",
        "\n",
        "# Plot the query point in red\n",
        "plt.scatter(points_2d[0, 0], points_2d[0, 1], color='red', marker='X', s=120, label='Query')\n",
        "\n",
        "plt.title(\"KNN Neighbors with 'yes' Label Highlighted (t-SNE)\")\n",
        "plt.legend(['Neighbor (yes)', 'Query', 'Neighbor (no)'])\n",
        "plt.grid(True)\n",
        "plt.show()"
      ],
      "metadata": {
        "colab": {
          "base_uri": "https://localhost:8080/",
          "height": 545
        },
        "id": "JKMmpCHx0QGz",
        "outputId": "f5a45b29-6730-4a88-c100-eab08253eebc"
      },
      "execution_count": null,
      "outputs": [
        {
          "output_type": "display_data",
          "data": {
            "text/plain": [
              "<Figure size 800x600 with 1 Axes>"
            ],
            "image/png": "[encoded data removed]"
          },
          "metadata": {}
        }
      ]
    },
    {
      "cell_type": "markdown",
      "metadata": {
        "id": "rzxvZqz48ovF"
      },
      "source": [
        "2-Encontrar os melhores parâmetros para a variável `k` usando o F1."
      ]
    },
    {
      "cell_type": "markdown",
      "metadata": {
        "id": "ow1utVlH8x2P"
      },
      "source": [
        "3- Compare com o método Random Forest e o SVM. Qual foi melhor método em relação ao recall? Notem que que o SVM e o Random Forest sejam utilizados deve-se criar um treino e teste. Use a função abaixo para criar o treino e o teste com parte da base de dados:\n",
        "\n",
        "\n"
      ]
    },
    {
      "cell_type": "code",
      "metadata": {
        "id": "SihsPU924EHp"
      },
      "source": [
        "X_train, X_test, y_train, y_test = train_test_split(X, y, stratify=y, test_size=0.2, random_state=42)"
      ],
      "execution_count": null,
      "outputs": []
    },
    {
      "cell_type": "markdown",
      "source": [
        "Utilize um comitê de classificadores e compare com o resultado da questão 3, qual foi o melhor?"
      ],
      "metadata": {
        "id": "puF9k_h9GWdB"
      }
    },
    {
      "cell_type": "markdown",
      "metadata": {
        "id": "w0qfDawX34C7"
      },
      "source": [
        "#Comitê de classificadores"
      ]
    },
    {
      "cell_type": "code",
      "metadata": {
        "colab": {
          "base_uri": "https://localhost:8080/"
        },
        "id": "wh5FHeiR36wT",
        "outputId": "2e1a1984-e024-48ba-bfc9-f73d99bb0706"
      },
      "source": [
        "import numpy as np\n",
        "from sklearn.linear_model import LogisticRegression\n",
        "from sklearn.svm import SVC\n",
        "from sklearn.neighbors import KNeighborsClassifier\n",
        "from sklearn.ensemble import RandomForestClassifier, VotingClassifier\n",
        "clf1 = KNeighborsClassifier()\n",
        "clf2 = RandomForestClassifier(n_estimators=50, random_state=1)\n",
        "clf3 = SVC(probability=True)\n",
        "X = np.array([[-1, -1], [-2, -1], [-3, -2], [1, 1], [2, 1], [3, 2]])\n",
        "y = np.array([1, 1, 1, 2, 2, 2])\n",
        "\n",
        "\n",
        "X_test = np.array([[-2, -3], [-1, 6]])\n",
        "eclf1 = VotingClassifier(estimators=[\n",
        "        ('lr', clf1), ('rf', clf2), ('svc', clf3)], voting='hard')\n",
        "eclf1 = eclf1.fit(X, y)\n",
        "print(eclf1.predict(X_test))"
      ],
      "execution_count": null,
      "outputs": [
        {
          "output_type": "stream",
          "name": "stdout",
          "text": [
            "[1 2]\n"
          ]
        }
      ]
    }
  ]
}